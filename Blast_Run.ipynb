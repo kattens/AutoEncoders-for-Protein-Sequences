{
  "nbformat": 4,
  "nbformat_minor": 0,
  "metadata": {
    "colab": {
      "provenance": [],
      "mount_file_id": "1HwKC3sdviMQn28OTV179GIEhHOcdh0KK",
      "authorship_tag": "ABX9TyOUmGTGmBvsfDOZoFKOYKka",
      "include_colab_link": true
    },
    "kernelspec": {
      "name": "python3",
      "display_name": "Python 3"
    },
    "language_info": {
      "name": "python"
    }
  },
  "cells": [
    {
      "cell_type": "markdown",
      "metadata": {
        "id": "view-in-github",
        "colab_type": "text"
      },
      "source": [
        "<a href=\"https://colab.research.google.com/github/kattens/AutoEncoders-for-Protein-Sequences/blob/main/Blast_Run.ipynb\" target=\"_parent\"><img src=\"https://colab.research.google.com/assets/colab-badge.svg\" alt=\"Open In Colab\"/></a>"
      ]
    },
    {
      "cell_type": "markdown",
      "source": [
        "## Recap:\n",
        "\n",
        "We have prepared a CSV file from an initial file named `cdot_targets`, containing PubChem IDs. For each PubChem ID, we searched PubChem to find interacting targets and documented these interactions in the \"Target Names\" column. Additionally, we included \"Accession IDs,\" corresponding to UniProt IDs for each target, and a column for gene names to improve the accuracy of BLAST searches.\n",
        "\n",
        "## Goal:\n",
        "\n",
        "Our objective is to run BLAST searches using UniProt IDs from our CSV file against targets related to Plasmodium malaria.\n",
        "\n",
        "## Tools and Libraries:\n",
        "\n",
        "- **NCBIWWW**: Facilitates online BLAST searches.\n",
        "- **NCBIXML**: Parses the XML results from BLAST into a manageable Python format.\n",
        "- **SeqIO**: Utilized for reading and writing sequences across various bioinformatics file formats.\n",
        "\n",
        "## Implementation:\n",
        "\n",
        "Since the base code is operational, our next step is to save the data in a JSON file for each accession ID. This will allow us to manage and analyze the results efficiently.\n",
        "\n",
        "## List of Plasmodium Variants on UniProt:\n",
        "\n",
        "####our focus:\n",
        "- **Plasmodium falciparum** - Taxon ID: 5833\n",
        "\n",
        "\n",
        "\n",
        "#### other variants:\n",
        "\n",
        "- **Plasmodium malariae** - Taxon ID: 5858\n",
        "- **Plasmodium vivax** - Taxon ID: 5855\n",
        "- **Plasmodium ovale** - Taxon ID: 36330\n",
        "- **Plasmodium berghei** - Taxon ID: 5821\n",
        "- **Plasmodium reichenowi** - Taxon ID: 5854\n",
        "- **Plasmodium gonderi** - Taxon ID: 77519\n",
        "- **Plasmodium chabaudi** - Taxon ID: 5825\n",
        "\n",
        "## Next Steps:\n",
        "\n",
        "- Iterate through all UniProt IDs in the CSV file, perform a BLAST search for each, and store the results in a JSON file for subsequent analysis.\n"
      ],
      "metadata": {
        "id": "gYJzsT4yMynQ"
      }
    },
    {
      "cell_type": "code",
      "source": [
        "#install Bio\n",
        "!pip install biopython"
      ],
      "metadata": {
        "colab": {
          "base_uri": "https://localhost:8080/"
        },
        "id": "7Au6SapAlqi7",
        "outputId": "1d70d82c-79d5-4999-9081-ba245b6b4dcf"
      },
      "execution_count": null,
      "outputs": [
        {
          "output_type": "stream",
          "name": "stdout",
          "text": [
            "Collecting biopython\n",
            "  Downloading biopython-1.85-cp311-cp311-manylinux_2_17_x86_64.manylinux2014_x86_64.whl.metadata (13 kB)\n",
            "Requirement already satisfied: numpy in /usr/local/lib/python3.11/dist-packages (from biopython) (1.26.4)\n",
            "Downloading biopython-1.85-cp311-cp311-manylinux_2_17_x86_64.manylinux2014_x86_64.whl (3.3 MB)\n",
            "\u001b[2K   \u001b[90m━━━━━━━━━━━━━━━━━━━━━━━━━━━━━━━━━━━━━━━━\u001b[0m \u001b[32m3.3/3.3 MB\u001b[0m \u001b[31m26.7 MB/s\u001b[0m eta \u001b[36m0:00:00\u001b[0m\n",
            "\u001b[?25hInstalling collected packages: biopython\n",
            "Successfully installed biopython-1.85\n"
          ]
        }
      ]
    },
    {
      "cell_type": "code",
      "execution_count": null,
      "metadata": {
        "id": "Cac2TWsilHmr"
      },
      "outputs": [],
      "source": [
        "import csv\n",
        "import pandas as pd\n",
        "from Bio.Blast import NCBIWWW,NCBIXML\n",
        "from Bio import Entrez, SeqIO\n",
        "import requests"
      ]
    },
    {
      "cell_type": "code",
      "source": [
        "path = '/content/drive/MyDrive/target_results.csv'\n",
        "df = pd.read_csv(path)"
      ],
      "metadata": {
        "id": "_OIG7cU8lmWt"
      },
      "execution_count": null,
      "outputs": []
    },
    {
      "cell_type": "code",
      "source": [
        "df.head()"
      ],
      "metadata": {
        "colab": {
          "base_uri": "https://localhost:8080/",
          "height": 206
        },
        "id": "m9vCO-Zbl39F",
        "outputId": "c0592ed0-3339-47cd-d196-4ae23724a8d9"
      },
      "execution_count": null,
      "outputs": [
        {
          "output_type": "execute_result",
          "data": {
            "text/plain": [
              "   PubChem ID                                       Target Names  \\\n",
              "0     5330175  ['Tyrosineprotein', 'NTMT1', 'FH', 'Chain', 'N...   \n",
              "1     5311340  ['ID4', 'ALDH1A1', 'EZH2', 'MYC', 'GLA', 'APOB...   \n",
              "2    11511120  ['AcylCoA', 'Epidermal', 'Mitogenactivated', '...   \n",
              "3      221354  ['CYP2D6', 'lethal', 'ALDH1A1', 'RGS12', 'ALOX...   \n",
              "4     6806409                                                 []   \n",
              "\n",
              "                                       Accession IDs  \\\n",
              "0  [A0A0K2VLS4, S4R3J7, P07954, P0C023, O96028, Q...   \n",
              "1  [P47928, Q5SYQ8, Q921E6, A0A8A5GQJ2, O53996, P...   \n",
              "2  [B2BXS0, Q9Z0P7, L8GZV5, P05067, Q9ZNZ7, A0A0B...   \n",
              "3  [P10635, A1Z198, Q5SYQ8, E9Q652, I3L1D5, P0C02...   \n",
              "4                                                 []   \n",
              "\n",
              "                                    Target Gene Name  \n",
              "0  ['NTMT1', 'FH', 'NSD2', 'KDR', 'GPX4', 'COMT',...  \n",
              "1  ['ID4', 'ALDH1A1', 'EZH2', 'MYC', 'GLA', 'APOB...  \n",
              "2  ['NADH', 'MAP', 'CYP2C9', 'NSD2', 'ERBB4', 'GP...  \n",
              "3  ['CYP2D6', 'ALDH1A1', 'RGS12', 'ALOX15B', 'HPG...  \n",
              "4                                                 []  "
            ],
            "text/html": [
              "\n",
              "  <div id=\"df-7a5f3a77-d07d-4f0b-a2c0-ba52f7e86964\" class=\"colab-df-container\">\n",
              "    <div>\n",
              "<style scoped>\n",
              "    .dataframe tbody tr th:only-of-type {\n",
              "        vertical-align: middle;\n",
              "    }\n",
              "\n",
              "    .dataframe tbody tr th {\n",
              "        vertical-align: top;\n",
              "    }\n",
              "\n",
              "    .dataframe thead th {\n",
              "        text-align: right;\n",
              "    }\n",
              "</style>\n",
              "<table border=\"1\" class=\"dataframe\">\n",
              "  <thead>\n",
              "    <tr style=\"text-align: right;\">\n",
              "      <th></th>\n",
              "      <th>PubChem ID</th>\n",
              "      <th>Target Names</th>\n",
              "      <th>Accession IDs</th>\n",
              "      <th>Target Gene Name</th>\n",
              "    </tr>\n",
              "  </thead>\n",
              "  <tbody>\n",
              "    <tr>\n",
              "      <th>0</th>\n",
              "      <td>5330175</td>\n",
              "      <td>['Tyrosineprotein', 'NTMT1', 'FH', 'Chain', 'N...</td>\n",
              "      <td>[A0A0K2VLS4, S4R3J7, P07954, P0C023, O96028, Q...</td>\n",
              "      <td>['NTMT1', 'FH', 'NSD2', 'KDR', 'GPX4', 'COMT',...</td>\n",
              "    </tr>\n",
              "    <tr>\n",
              "      <th>1</th>\n",
              "      <td>5311340</td>\n",
              "      <td>['ID4', 'ALDH1A1', 'EZH2', 'MYC', 'GLA', 'APOB...</td>\n",
              "      <td>[P47928, Q5SYQ8, Q921E6, A0A8A5GQJ2, O53996, P...</td>\n",
              "      <td>['ID4', 'ALDH1A1', 'EZH2', 'MYC', 'GLA', 'APOB...</td>\n",
              "    </tr>\n",
              "    <tr>\n",
              "      <th>2</th>\n",
              "      <td>11511120</td>\n",
              "      <td>['AcylCoA', 'Epidermal', 'Mitogenactivated', '...</td>\n",
              "      <td>[B2BXS0, Q9Z0P7, L8GZV5, P05067, Q9ZNZ7, A0A0B...</td>\n",
              "      <td>['NADH', 'MAP', 'CYP2C9', 'NSD2', 'ERBB4', 'GP...</td>\n",
              "    </tr>\n",
              "    <tr>\n",
              "      <th>3</th>\n",
              "      <td>221354</td>\n",
              "      <td>['CYP2D6', 'lethal', 'ALDH1A1', 'RGS12', 'ALOX...</td>\n",
              "      <td>[P10635, A1Z198, Q5SYQ8, E9Q652, I3L1D5, P0C02...</td>\n",
              "      <td>['CYP2D6', 'ALDH1A1', 'RGS12', 'ALOX15B', 'HPG...</td>\n",
              "    </tr>\n",
              "    <tr>\n",
              "      <th>4</th>\n",
              "      <td>6806409</td>\n",
              "      <td>[]</td>\n",
              "      <td>[]</td>\n",
              "      <td>[]</td>\n",
              "    </tr>\n",
              "  </tbody>\n",
              "</table>\n",
              "</div>\n",
              "    <div class=\"colab-df-buttons\">\n",
              "\n",
              "  <div class=\"colab-df-container\">\n",
              "    <button class=\"colab-df-convert\" onclick=\"convertToInteractive('df-7a5f3a77-d07d-4f0b-a2c0-ba52f7e86964')\"\n",
              "            title=\"Convert this dataframe to an interactive table.\"\n",
              "            style=\"display:none;\">\n",
              "\n",
              "  <svg xmlns=\"http://www.w3.org/2000/svg\" height=\"24px\" viewBox=\"0 -960 960 960\">\n",
              "    <path d=\"M120-120v-720h720v720H120Zm60-500h600v-160H180v160Zm220 220h160v-160H400v160Zm0 220h160v-160H400v160ZM180-400h160v-160H180v160Zm440 0h160v-160H620v160ZM180-180h160v-160H180v160Zm440 0h160v-160H620v160Z\"/>\n",
              "  </svg>\n",
              "    </button>\n",
              "\n",
              "  <style>\n",
              "    .colab-df-container {\n",
              "      display:flex;\n",
              "      gap: 12px;\n",
              "    }\n",
              "\n",
              "    .colab-df-convert {\n",
              "      background-color: #E8F0FE;\n",
              "      border: none;\n",
              "      border-radius: 50%;\n",
              "      cursor: pointer;\n",
              "      display: none;\n",
              "      fill: #1967D2;\n",
              "      height: 32px;\n",
              "      padding: 0 0 0 0;\n",
              "      width: 32px;\n",
              "    }\n",
              "\n",
              "    .colab-df-convert:hover {\n",
              "      background-color: #E2EBFA;\n",
              "      box-shadow: 0px 1px 2px rgba(60, 64, 67, 0.3), 0px 1px 3px 1px rgba(60, 64, 67, 0.15);\n",
              "      fill: #174EA6;\n",
              "    }\n",
              "\n",
              "    .colab-df-buttons div {\n",
              "      margin-bottom: 4px;\n",
              "    }\n",
              "\n",
              "    [theme=dark] .colab-df-convert {\n",
              "      background-color: #3B4455;\n",
              "      fill: #D2E3FC;\n",
              "    }\n",
              "\n",
              "    [theme=dark] .colab-df-convert:hover {\n",
              "      background-color: #434B5C;\n",
              "      box-shadow: 0px 1px 3px 1px rgba(0, 0, 0, 0.15);\n",
              "      filter: drop-shadow(0px 1px 2px rgba(0, 0, 0, 0.3));\n",
              "      fill: #FFFFFF;\n",
              "    }\n",
              "  </style>\n",
              "\n",
              "    <script>\n",
              "      const buttonEl =\n",
              "        document.querySelector('#df-7a5f3a77-d07d-4f0b-a2c0-ba52f7e86964 button.colab-df-convert');\n",
              "      buttonEl.style.display =\n",
              "        google.colab.kernel.accessAllowed ? 'block' : 'none';\n",
              "\n",
              "      async function convertToInteractive(key) {\n",
              "        const element = document.querySelector('#df-7a5f3a77-d07d-4f0b-a2c0-ba52f7e86964');\n",
              "        const dataTable =\n",
              "          await google.colab.kernel.invokeFunction('convertToInteractive',\n",
              "                                                    [key], {});\n",
              "        if (!dataTable) return;\n",
              "\n",
              "        const docLinkHtml = 'Like what you see? Visit the ' +\n",
              "          '<a target=\"_blank\" href=https://colab.research.google.com/notebooks/data_table.ipynb>data table notebook</a>'\n",
              "          + ' to learn more about interactive tables.';\n",
              "        element.innerHTML = '';\n",
              "        dataTable['output_type'] = 'display_data';\n",
              "        await google.colab.output.renderOutput(dataTable, element);\n",
              "        const docLink = document.createElement('div');\n",
              "        docLink.innerHTML = docLinkHtml;\n",
              "        element.appendChild(docLink);\n",
              "      }\n",
              "    </script>\n",
              "  </div>\n",
              "\n",
              "\n",
              "<div id=\"df-28de22d5-818e-42a3-998d-32893d46eef7\">\n",
              "  <button class=\"colab-df-quickchart\" onclick=\"quickchart('df-28de22d5-818e-42a3-998d-32893d46eef7')\"\n",
              "            title=\"Suggest charts\"\n",
              "            style=\"display:none;\">\n",
              "\n",
              "<svg xmlns=\"http://www.w3.org/2000/svg\" height=\"24px\"viewBox=\"0 0 24 24\"\n",
              "     width=\"24px\">\n",
              "    <g>\n",
              "        <path d=\"M19 3H5c-1.1 0-2 .9-2 2v14c0 1.1.9 2 2 2h14c1.1 0 2-.9 2-2V5c0-1.1-.9-2-2-2zM9 17H7v-7h2v7zm4 0h-2V7h2v10zm4 0h-2v-4h2v4z\"/>\n",
              "    </g>\n",
              "</svg>\n",
              "  </button>\n",
              "\n",
              "<style>\n",
              "  .colab-df-quickchart {\n",
              "      --bg-color: #E8F0FE;\n",
              "      --fill-color: #1967D2;\n",
              "      --hover-bg-color: #E2EBFA;\n",
              "      --hover-fill-color: #174EA6;\n",
              "      --disabled-fill-color: #AAA;\n",
              "      --disabled-bg-color: #DDD;\n",
              "  }\n",
              "\n",
              "  [theme=dark] .colab-df-quickchart {\n",
              "      --bg-color: #3B4455;\n",
              "      --fill-color: #D2E3FC;\n",
              "      --hover-bg-color: #434B5C;\n",
              "      --hover-fill-color: #FFFFFF;\n",
              "      --disabled-bg-color: #3B4455;\n",
              "      --disabled-fill-color: #666;\n",
              "  }\n",
              "\n",
              "  .colab-df-quickchart {\n",
              "    background-color: var(--bg-color);\n",
              "    border: none;\n",
              "    border-radius: 50%;\n",
              "    cursor: pointer;\n",
              "    display: none;\n",
              "    fill: var(--fill-color);\n",
              "    height: 32px;\n",
              "    padding: 0;\n",
              "    width: 32px;\n",
              "  }\n",
              "\n",
              "  .colab-df-quickchart:hover {\n",
              "    background-color: var(--hover-bg-color);\n",
              "    box-shadow: 0 1px 2px rgba(60, 64, 67, 0.3), 0 1px 3px 1px rgba(60, 64, 67, 0.15);\n",
              "    fill: var(--button-hover-fill-color);\n",
              "  }\n",
              "\n",
              "  .colab-df-quickchart-complete:disabled,\n",
              "  .colab-df-quickchart-complete:disabled:hover {\n",
              "    background-color: var(--disabled-bg-color);\n",
              "    fill: var(--disabled-fill-color);\n",
              "    box-shadow: none;\n",
              "  }\n",
              "\n",
              "  .colab-df-spinner {\n",
              "    border: 2px solid var(--fill-color);\n",
              "    border-color: transparent;\n",
              "    border-bottom-color: var(--fill-color);\n",
              "    animation:\n",
              "      spin 1s steps(1) infinite;\n",
              "  }\n",
              "\n",
              "  @keyframes spin {\n",
              "    0% {\n",
              "      border-color: transparent;\n",
              "      border-bottom-color: var(--fill-color);\n",
              "      border-left-color: var(--fill-color);\n",
              "    }\n",
              "    20% {\n",
              "      border-color: transparent;\n",
              "      border-left-color: var(--fill-color);\n",
              "      border-top-color: var(--fill-color);\n",
              "    }\n",
              "    30% {\n",
              "      border-color: transparent;\n",
              "      border-left-color: var(--fill-color);\n",
              "      border-top-color: var(--fill-color);\n",
              "      border-right-color: var(--fill-color);\n",
              "    }\n",
              "    40% {\n",
              "      border-color: transparent;\n",
              "      border-right-color: var(--fill-color);\n",
              "      border-top-color: var(--fill-color);\n",
              "    }\n",
              "    60% {\n",
              "      border-color: transparent;\n",
              "      border-right-color: var(--fill-color);\n",
              "    }\n",
              "    80% {\n",
              "      border-color: transparent;\n",
              "      border-right-color: var(--fill-color);\n",
              "      border-bottom-color: var(--fill-color);\n",
              "    }\n",
              "    90% {\n",
              "      border-color: transparent;\n",
              "      border-bottom-color: var(--fill-color);\n",
              "    }\n",
              "  }\n",
              "</style>\n",
              "\n",
              "  <script>\n",
              "    async function quickchart(key) {\n",
              "      const quickchartButtonEl =\n",
              "        document.querySelector('#' + key + ' button');\n",
              "      quickchartButtonEl.disabled = true;  // To prevent multiple clicks.\n",
              "      quickchartButtonEl.classList.add('colab-df-spinner');\n",
              "      try {\n",
              "        const charts = await google.colab.kernel.invokeFunction(\n",
              "            'suggestCharts', [key], {});\n",
              "      } catch (error) {\n",
              "        console.error('Error during call to suggestCharts:', error);\n",
              "      }\n",
              "      quickchartButtonEl.classList.remove('colab-df-spinner');\n",
              "      quickchartButtonEl.classList.add('colab-df-quickchart-complete');\n",
              "    }\n",
              "    (() => {\n",
              "      let quickchartButtonEl =\n",
              "        document.querySelector('#df-28de22d5-818e-42a3-998d-32893d46eef7 button');\n",
              "      quickchartButtonEl.style.display =\n",
              "        google.colab.kernel.accessAllowed ? 'block' : 'none';\n",
              "    })();\n",
              "  </script>\n",
              "</div>\n",
              "\n",
              "    </div>\n",
              "  </div>\n"
            ],
            "application/vnd.google.colaboratory.intrinsic+json": {
              "type": "dataframe",
              "variable_name": "df",
              "summary": "{\n  \"name\": \"df\",\n  \"rows\": 63,\n  \"fields\": [\n    {\n      \"column\": \"PubChem ID\",\n      \"properties\": {\n        \"dtype\": \"number\",\n        \"std\": 28178895,\n        \"min\": 2798,\n        \"max\": 135421339,\n        \"num_unique_values\": 63,\n        \"samples\": [\n          11785878,\n          9829836,\n          5330175\n        ],\n        \"semantic_type\": \"\",\n        \"description\": \"\"\n      }\n    },\n    {\n      \"column\": \"Target Names\",\n      \"properties\": {\n        \"dtype\": \"string\",\n        \"num_unique_values\": 59,\n        \"samples\": [\n          \"['Tyrosineprotein', 'NTMT1', 'FH', 'Chain', 'NSD2', 'KDR', 'GPX4', 'Luciferin', 'COMT', 'Protooncogene', 'Tyrosineprotein', 'NNMT', 'HNMT', 'Tyrosineprotein', 'Tyrosineprotein', 'GPT2', 'Canis', 'Rattus', 'Tyrosineprotein', 'Replicase', 'CYP3A4', 'CIB1', 'SRC', 'CYP2C9', 'S', 'GAMT', 'IFNB1', 'PNMT', 'Severe', 'Tyrosineprotein', 'GPX1', 'Proteintyrosine', 'Histone', 'IP6K1', 'GNMT', 'CYP2D6', 'Mus', 'CYP3A7']\",\n          \"['Rorc', 'MEN1', 'ID4', 'EGFR', 'THRB', 'FH', 'ERBB2', 'NTMT1', 'EZH2', 'Cgas', 'KMT2A', 'MYC', 'IFNG', 'CGAS', 'shiga', 'NFKB1', 'Chain', 'GLA', 'GAPDH', 'COMT', 'MAP2K1', 'NNMT', 'TP53', 'HNMT', 'shiga', 'STAT3', 'IDH1', 'GAA', 'Chain', 'KAT2A', 'Chain', 'RAF1', 'heat', 'Chain', 'GBA1', 'GAMT', 'PNMT', 'MAPK1', 'Chain', 'GPX1', 'Histone', 'VDR', 'NSD2', 'GNMT', 'POLK', 'phosphopantetheinyl', 'BLM']\",\n          \"['Solute', 'CFTR', 'ID4', 'ERG', 'HTR5A', 'RARA', 'Slc22a2', 'DRD1', 'Slc22a1', 'NCOA1', 'apical', 'Deoxynucleoside', 'MYC', 'SUMO1', 'Plasmodium', 'Neuropeptide', 'Vasopressin', 'Chain', 'Chain', 'ESR2', 'potassium', 'Kcnq2', 'NR2E3', 'ABCB6', 'UBE2M', 'CYP2C9', 'env', 'RIN1', 'PF3D7_1324900', 'TAAR1', 'Leishmania', 'GNRHR', 'CASP1', 'LOC116160065', 'HOXA9', 'Casp7', 'KCNJ6', 'NSD2', 'T', 'Muscarinic', 'TRPV1', 'TNNC1', 'TRHR', 'Chain', 'Amine', 'GSK3A', 'GPR151', 'UDPglucuronosyltransferase', 'Vasopressin', 'Multidrug', 'PAX8', 'NR1H4', 'SCN1A', 'DNMT1', 'tsaE', 'CYP19A1', 'PPARD', 'GPT2', 'SNCA', 'Abhd17b', 'FEN1', 'HRH1', 'B2', 'PSIP1', 'Chain', 'Txnrd1', 'Deltatype', 'PNMT', 'S100A4', 'Cytochrome', 'ATF6', 'KCNK9', 'Adenosine', 'cAMPspecific', 'Cytochrome', 'Adenosine', 'Slco1a4', 'RTT109', 'Slco1a1', 'Solute', 'Kcnt2', 'P4HB', 'RAD54L', 'SLC22A8', 'RAPGEF4', 'ssb', 'KCNA7', 'botulinum', 'CASP7', 'LRRC26', 'Nuclear', 'hypothetical', 'TLR9', 'ATM', 'UL50', 'HSPB1', 'CYP1A2', 'APP', 'Histamine', 'Kcnj2', 'GALC', 'Mus', 'Glutamate', 'MMP14', 'euchromatic', 'Solute', 'GOPC', 'TNNI3', 'Candida', 'FH', 'Cacna1c', 'MRGPRX1', 'Androgen', 'JUN', 'tsaE', 'integrase,', 'heat', 'Scn5a', 'Thrb', 'ESRRA', 'Rattus', 'GMNN', 'ASAP1', 'Sodium', 'CIB1', 'RBBP8', 'Plasmodium', 'RAB9A', 'SENP8', 'Human', 'CRHBP', 'CASP6', 'Sodiumdependent', 'CHRM1', 'Histamine', 'MAPT', '5hydroxytryptamine', 'IP6K1', 'MSRA', 'CYP3A7', 'DNA', 'SLC22A5', 'Gli1', 'Il2', 'NTSR1', 'KCNT1', 'NS1', 'TRA', 'Trypanosoma', 'KCNA5', 'Quinolone', 'PGR', 'Chain', 'Growth', 'APOBEC3G', 'TPM1', 'PLA2G7', 'EBNA1', 'PPM1D', 'CYP2C19', 'protein', 'CYP1B1', 'Canis', 'AHR', 'KAT2A', 'GRK2', 'large', 'Melanocortin', 'LCMVsSgp2', 'Nr1i2', 'S', 'glucose6phosphate', 'Kcna4', 'SIX1', 'Cyp2d3', 'Gastrin/cholecystokinin', 'KLK7', 'GPX1', 'SCN5A', 'HIF1A', 'VDR', 'HTRA1', 'Histidinerich', 'fzo1', 'PLK1', 'TDP1', 'PF3D7_0217500', 'Cyp2d1', 'HPGD', 'EYA2', 'KCNK5', 'Smarca4', 'KCNK16', 'Fosb', 'IFNG', 'Type1', 'CGAS', 'SLC29A4', 'Chain', 'hypothetical', 'Rv3671c', 'KCNH2', 'ADAM17', 'RGS4', 'BCL2L1', 'PRKACB', 'ACHE', 'Voltagedependent', 'Prostaglandin', 'CBX1', 'COPS5', 'VMA11', 'KCNMA1', 'Kcnu1', 'POLI', 'AR', 'RXFP1', 'PADI4', 'UHRF1', 'priA', 'GAMT', 'Cytochrome', 'Kcnk10', 'M2', 'NR5A2', 'FGF22', 'NFE2L2', 'CCT2', 'UDPglucuronosyltransferase', 'citrate', 'ALOX12', 'recC', 'MC4R', 'GLP1R', 'GFER', 'Prkacb', 'Estrogen', 'thioredoxin', 'CACNA1C', 'Impa1', 'KCNMB1', 'KCNMB4', 'KCNH1', 'FUS', 'hypothetical', 'Alpha1A', 'SLCO1A2', 'Klebsiella', 'PRNP', 'PRKN', 'KISS1R', 'recA', 'ARRB1', 'NCOA2', 'PF3D7_1337100', 'IDH1', 'Slc22a1', 'glf', 'Nucleoprotein', 'NOD2', 'CXCR6', 'Alpha2A', 'SCN2A', '5hydroxytryptamine', 'heat', 'Kappatype', 'UL53', 'TOR1A', 'CASP3', 'LYPLA1', 'PRKAR1A', 'IFNB1', 'PLCB3', 'Beta2', 'Dyrk1a', 'DAGLB', 'Chain', 'Kcnk6', 'PRKAR2B', 'GNAI1', 'CYP2D6', 'Rorc', 'CDK5', 'Abcb1b', 'Cytochrome', 'ABCC2', 'Kcnh5', 'RGS12', 'Chain', 'USP1', 'Muscarinic', 'PINK1', 'LMP1', 'GPR183', 'Kcnb1', 'RORC', 'OXTR', 'mazF', 'lon', 'Cyp2d2', 'PLA2G3', 'Muscarinic', 'Multidrug', 'ALOX15', 'Escherichia', 'daf12', 'TSHR', 'CRHR2', 'PRMT1', 'PPARG', 'ATPbinding', 'ALDH1A1', 'PTPN5', 'ADAM10', 'ARNT', 'PAFAH1B3', 'Solute', 'recombination', 'AKT1', 'EZH2', 'Trpc6', 'PAFAH2', 'UDPglucuronosyltransferase', 'ATG4B', 'HHV8GK18_gp81', 'Htr2a', 'TNNT2', 'GLA', 'fba', 'NR3C1', 'SLC22A1', 'TARDBP', 'LARGE1', 'IDE', 'GAA', 'DnaK', 'PPME1', 'NR1I2', 'ACP1', 'Ano1', 'GSTO1', 'GSK3B', 'CACNA1D', 'IL1B', 'GBA1', 'OPRM1', 'Arfgap1', 'GLS', 'Multidrug', 'lysophospholipase', 'Tb10.70.6470', 'GNMT', 'cyclic', 'LOC100757539', 'bioA', 'THRB', 'L3MBTL1', 'Chain', 'Cgas', 'Sodium', 'Motilin', 'Genome', 'STAT3', 'Chain', 'Scarb1', 'RXRA', 'CDK5R1', 'TDP2', 'Cholesterol', 'cathepsin', 'Sodiumdependent', 'autoinducer', 'CACNA1S', 'FXN', 'Chain', 'lactate', 'PSMD14', 'MARVELD2', 'ITGA4', 'CHRM4', 'tatA', 'BAZ2B', 'OPRD1', 'Canalicular', 'KCNU1', 'DRD2', 'SELE', 'ALOX15B', 'SMPD1', 'NR1I3', 'Tb927.3.3270', 'Albumin', 'Cavia', 'CCR6', 'LANA', 'PIN1', 'ATXN2', 'PF3D7_1443900', 'SNUPN', 'Kcnk9', 'D(3)', 'D(1A)', 'CAALFM_CR05890CA', 'NR0B1', 'CTDSP1', 'BCHE', 'recB', 'MCL1', 'KEAP1', 'Severe', 'CHRM5', 'Cacna1c', 'HBB', 'caspase', 'NFKBIA', 'MLLT3', 'SIRT5', 'KCNMB2', 'Cyp2d4', 'PGKC', 'Histamine', 'DRD3', 'Beta1', 'NPC1', 'SIAE', 'Oryctolagus', 'WRN', 'botulinum', 'Ppp1r15a', 'MEP2', 'skn1', 'HDAC9', '5hydroxytryptamine', 'Sodium', 'NAE1', 'recD', 'PglD', '5hydroxytryptamine', 'TNF', 'Kcnt1', 'B18R', 'SMAD3', 'HTT', 'KCNK3', 'Potassium', 'MAPK1', 'vpr', 'MBD2', 'Casp3', 'LASVsSgp1', 'Neuronal', 'KPNB1', 'SLCO1B1', 'ESR1', 'Chain', 'BCL2L11', 'PTH1R', 'FKBP1A', 'FATTYACIDCoA', 'KCNQ1', 'Sodium', 'GNAS', 'Plau', 'Melanocortin', 'PPARA', 'Chain', 'Entamoeba', 'D(2)', 'Abcb1a', 'GLI3', 'ATAD5', 'SCN3A', 'toxin', 'Chain', 'CXCL8', 'BZLF1', 'CYP3A4', 'RACGAP1', 'ERAP1', 'SLC5A7', 'RIPK2', 'PF3D7_1437900', 'POLH', 'PF3D7_0717500', 'LASVsLgp1', 'Progesterone', 'gld1', 'AGP1', 'Trpc4', 'D1Y31_gp1', 'Chain', 'ATPdependent', 'PLIN5', 'ABCB11', 'Hsf1', 'RCE1', 'PI4K2A', 'TSG101', 'BRCA1', 'streptokinase', 'NTMT1', 'UDPglucuronosyltransferase', 'Chain', 'PREPL', 'likely', 'ABHD5', 'Equilibrative', 'UDPglucuronosyltransferase', 'Cholecystokinin', 'NFKB1', 'TP53', 'SMARCA2', 'CACNA1F', 'NR2F2', 'Adenosine', 'TNFRSF10B', 'ABCB1', 'HDAC3', 'core', 'Pseudomonas', 'AVPR1A', 'UBE2N', 'POLK', 'mex5', 'ache', 'cGMPinhibited', 'Alpha2C', 'Mutype', 'HTR2B', 'Plaur', 'Gammaaminobutyric', 'PF3D7_1113900', 'MCOLN1', 'Slc22a5', 'Itgal', '5hydroxytryptamine', 'HCRTR1', 'Homo', 'SLC47A1', 'NNMT', 'Cryptococcus', 'Alpha2B', 'UCHL5', 'sentrinspecific', 'Prostaglandin', 'PPP1CA', 'RPL19A', 'Staphylococcus', 'ClpP', 'SLC22A4', 'BCHE', 'PABPC1', 'RAPGEF3', 'PPP5C', 'APOBEC3A', 'Abhd4', 'Cannabinoid', 'Chain', 'ADRB2', 'GPR32', 'Bile', 'Saccharomyces', 'Sodiumdependent', 'SMN2', 'NS3,', 'lethal', 'Glucocorticoid', 'GALR3', 'Acinetobacter', 'Voltagedependent', 'SLC47A2', 'TACC3', 'SLC22A2', 'STK33', 'LAP4', 'PLCG1', 'GPX4', 'Mapk10', 'NCOA3', 'RAN', 'COMT', 'vif', 'MITF', 'HNMT', 'Kcnd2', 'RAD52', 'PDIA6', 'Cytochrome', 'SMAD2', 'EPAS1', 'Nucleoprotein', 'Spike', 'ABL1', 'LuxS,', 'APOBEC3F', 'USP2', 'Plg', 'HKDC1', 'PAFAH1B2', 'PF3D7_0213400', 'FASN', 'RdRp']\"\n        ],\n        \"semantic_type\": \"\",\n        \"description\": \"\"\n      }\n    },\n    {\n      \"column\": \"Accession IDs\",\n      \"properties\": {\n        \"dtype\": \"object\",\n        \"semantic_type\": \"\",\n        \"description\": \"\"\n      }\n    },\n    {\n      \"column\": \"Target Gene Name\",\n      \"properties\": {\n        \"dtype\": \"string\",\n        \"num_unique_values\": 56,\n        \"samples\": [\n          \"['NTMT1', 'FH', 'NSD2', 'KDR', 'GPX4', 'COMT', 'NNMT', 'HNMT', 'GPT2', 'CYP3A4', 'CIB1', 'SRC', 'CYP2C9', 'S', 'GAMT', 'IFNB1', 'PNMT', 'GPX1', 'IP6K1', 'GNMT', 'CYP2D6', 'CYP3A7']\",\n          \"['MEN1', 'ID4', 'EGFR', 'THRB', 'FH', 'ERBB2', 'NTMT1', 'EZH2', 'KMT2A', 'MYC', 'IFNG', 'CGAS', 'NFKB1', 'GLA', 'GAPDH', 'COMT', 'MAP2K1', 'NNMT', 'TP53', 'HNMT', 'STAT3', 'IDH1', 'GAA', 'KAT2A', 'RAF1', 'GBA1', 'GAMT', 'PNMT', 'MAPK1', 'GPX1', 'VDR', 'NSD2', 'GNMT', 'POLK', 'BLM']\",\n          \"['CFTR', 'CC', 'AURKB', 'D(2)', 'CYP2C19', 'ACR', 'CYP3A4', 'PLG', 'CYP2C9', '60', 'CXC', 'S', 'EWS/FLI', 'GPX1', 'ABCB5', 'NSD2', 'S100B', 'HSPE1', 'NTMT1', 'GPR151', 'CC', 'IFNG', 'CGAS', 'NR1H4', 'KCNH2', 'CXC', 'GPT2', 'PRMT5', 'SNCA', 'PTP4A2', 'ST14', 'ABCB1', 'B2', 'F10', 'GRIN1', 'ALOX12', 'TMPRSS2', 'GRIN2A', 'PTP4A1', 'SAT1', 'ATXN2', 'GAPDH', 'D(3)', 'D(1A)', 'D(4)', 'AOC1', 'UL53', 'IFNB1', 'CC', 'UL50', 'CYP1A2', 'CYP2D6', 'HSPD1', 'FH', 'GPX4', 'CTSB', 'MULTISPECIES:', 'PTP4A3', 'CCDC88A', 'TUBA1A', 'CIB1', '10', 'HTT', 'PRMT1']\"\n        ],\n        \"semantic_type\": \"\",\n        \"description\": \"\"\n      }\n    }\n  ]\n}"
            }
          },
          "metadata": {},
          "execution_count": 35
        }
      ]
    },
    {
      "cell_type": "code",
      "source": [
        "def clean_and_convert_to_list(id_item):\n",
        "    # Check if the item is a string and needs conversion\n",
        "    if isinstance(id_item, str) and id_item.startswith(\"[\") and id_item.endswith(\"]\"):\n",
        "        id_item = id_item[1:-1]  # Remove the square brackets\n",
        "        id_list = id_item.split(\", \")  # Split the string into a list\n",
        "        id_list = [id.strip(\"'\") for id in id_list]  # Remove quotes from each element\n",
        "        return id_list\n",
        "    # Return the item as is if it's already a list or not a string\n",
        "    return id_item\n",
        "\n",
        "# Apply the conversion function to each element in the column\n",
        "df['Accession IDs'] = df['Accession IDs'].apply(clean_and_convert_to_list)\n",
        "\n",
        "# Verify the conversion\n",
        "print(df['Accession IDs'].head())\n"
      ],
      "metadata": {
        "colab": {
          "base_uri": "https://localhost:8080/"
        },
        "id": "7ShcL2YKXpQg",
        "outputId": "e8cac709-9788-4f25-f94d-d1f6e17f767d"
      },
      "execution_count": null,
      "outputs": [
        {
          "output_type": "stream",
          "name": "stdout",
          "text": [
            "0    [A0A0K2VLS4, S4R3J7, P07954, P0C023, O96028, Q...\n",
            "1    [P47928, Q5SYQ8, Q921E6, A0A8A5GQJ2, O53996, P...\n",
            "2    [B2BXS0, Q9Z0P7, L8GZV5, P05067, Q9ZNZ7, A0A0B...\n",
            "3    [P10635, A1Z198, Q5SYQ8, E9Q652, I3L1D5, P0C02...\n",
            "4                                                   []\n",
            "Name: Accession IDs, dtype: object\n"
          ]
        }
      ]
    },
    {
      "cell_type": "code",
      "source": [
        "print(type(df['Accession IDs'].iloc[0]))\n",
        "print(df['Accession IDs'].iloc[0])"
      ],
      "metadata": {
        "colab": {
          "base_uri": "https://localhost:8080/"
        },
        "id": "6IRRlH4sh3Dd",
        "outputId": "79e10731-9540-40b3-c345-655a0968148d"
      },
      "execution_count": null,
      "outputs": [
        {
          "output_type": "stream",
          "name": "stdout",
          "text": [
            "<class 'list'>\n",
            "['A0A0K2VLS4', 'S4R3J7', 'P07954', 'P0C023', 'O96028', 'Q3UQZ6', 'K7EJ20', 'A0A173GP47', 'A0A286SD53', 'Q95M86', 'A0A0K2VLS4', 'O55239', 'Q9P1Y0', 'A0A0K2VLS4', 'A0A0K2VLS4', 'H3BU54', 'A0A0H4TJD6', 'Q63694', 'A0A0K2VLS4', 'P14647', 'E7EVM8', 'D3YY46', 'Q90738', 'S5RV20', 'P10484', 'A0A0D9RI81', 'P01574', 'P11086', 'P05484', 'A0A0K2VLS4', 'P11352', 'L8GNA7', 'Q9Y294', 'Q6PD10', 'Q14749', 'P10635', 'H6A2B4', 'P24462']\n"
          ]
        }
      ]
    },
    {
      "cell_type": "markdown",
      "source": [
        "### **BLAST Parameters and Possible Values**\n",
        "\n",
        "#### **`blast_db` (Database to search against)**\n",
        "- `\"nr\"` – Non-redundant protein database (largest)\n",
        "- `\"pdb\"` – Protein Data Bank (structures)\n",
        "- `\"swissprot\"` – Curated protein sequences\n",
        "- `\"refseq_protein\"` – Reference protein sequences\n",
        "- `\"pat\"` – Patent sequences\n",
        "- `\"tsa\"` – Transcriptome Shotgun Assembly\n",
        "- `\"env_nr\"`, `\"env_nt\"` – Environmental samples (proteins or nucleotides)\n",
        "\n",
        "#### **`blast_type` (Type of BLAST search)**\n",
        "- `\"blastp\"` – Protein vs. protein\n",
        "- `\"blastn\"` – Nucleotide vs. nucleotide\n",
        "- `\"blastx\"` – Translated nucleotide vs. protein\n",
        "- `\"tblastn\"` – Protein vs. translated nucleotide\n",
        "- `\"tblastx\"` – Translated nucleotide vs. translated nucleotide\n",
        "\n",
        "#### **`expect` (E-value threshold, lower values filter weak hits)**\n",
        "- `1e-3` – Very strict\n",
        "- `0.1` – Common default\n",
        "- `1` – Moderate filtering\n",
        "- `10` – Relaxed filtering\n",
        "- `100` – Very loose filtering\n",
        "\n",
        "#### **`matrix_name` (Scoring matrix for protein alignments)**\n",
        "- `\"BLOSUM62\"` – Default, general use\n",
        "- `\"BLOSUM45\"` – Better for divergent sequences\n",
        "- `\"BLOSUM80\"` – Better for closely related sequences\n",
        "- `\"PAM30\"` – Sensitive to short alignments\n",
        "- `\"PAM70\"` – Intermediate\n",
        "- `\"PAM250\"` – Older, used for distant homology\n",
        "\n",
        "#### **`alignments` (Number of alignments to show)**\n",
        "- `10`, `50`, `100`, `200`, `500` – Higher values show more results\n",
        "\n",
        "#### **`hitlist_size` (Number of hits to return)**\n",
        "- `10`, `50`, `100`, `200`, `500` – Determines how many sequences to keep\n",
        "\n",
        "#### **`filter` (Low-complexity filtering)**\n",
        "- `\"T\"` – Enable filtering (default, removes repetitive regions)\n",
        "- `\"F\"` – Disable filtering (keeps all sequences)\n",
        "\n",
        "#### **`gapcosts` (Gap opening and extension penalties)**\n",
        "- `\"11 1\"` – Default (moderate penalty)\n",
        "- `\"9 2\"` – Alternative setting\n",
        "- `\"8 2\"` – Allows more gaps\n",
        "- `\"5 2\"` – Very permissive\n",
        "\n",
        "#### **`entrez_query` (Limit search to a specific organism)**\n",
        "- `\"txid9606[ORGN]\"` – Humans  \n",
        "- `\"txid10090[ORGN]\"` – Mice  \n",
        "- `\"txid10116[ORGN]\"` – Rats  \n",
        "- Replace `txidXXXX` with any species’ taxonomy ID to filter results.\n"
      ],
      "metadata": {
        "id": "XVk_3ygSQ40y"
      }
    },
    {
      "cell_type": "code",
      "source": [
        "import requests\n",
        "from Bio.Blast import NCBIWWW, NCBIXML\n",
        "\n",
        "def fetch_uniprot_sequence(accession_id):\n",
        "    \"\"\"\n",
        "    Fetch a sequence from UniProt using the accession ID.\n",
        "    \"\"\"\n",
        "    url = f\"https://rest.uniprot.org/uniprotkb/{accession_id}.fasta\"\n",
        "    try:\n",
        "        response = requests.get(url)\n",
        "        if response.status_code == 200:\n",
        "            return response.text\n",
        "        else:\n",
        "            print(f\"UniProt query failed for {accession_id} with status code: {response.status_code}\")\n",
        "            return None\n",
        "    except Exception as e:\n",
        "        print(f\"Error querying UniProt for {accession_id}: {e}\")\n",
        "        return None\n",
        "\n",
        "def fetch_and_blast_sequence(accession_id, taxonomy, blast_db=\"pdb\",\n",
        "                             blast_type=\"blastp\", expect=1, matrix_name=\"BLOSUM62\",\n",
        "                             alignments=500, hitlist_size=500, filter=\"F\", gapcosts=\"11 1\"):\n",
        "    \"\"\"\n",
        "    Fetch a sequence from UniProt, run BLAST, print and return results as a dictionary.\n",
        "    \"\"\"\n",
        "    sequence_data = fetch_uniprot_sequence(accession_id)\n",
        "    if not sequence_data:\n",
        "        print(f\"No sequence data found for Accession ID: {accession_id}\")\n",
        "        return None\n",
        "\n",
        "    entrez_query = f\"txid{taxonomy}[ORGN]\"\n",
        "    result_handle = NCBIWWW.qblast(blast_type, blast_db, sequence_data,\n",
        "                                   expect=expect, matrix_name=matrix_name,\n",
        "                                   alignments=alignments, hitlist_size=hitlist_size,\n",
        "                                   filter=filter, gapcosts=gapcosts,\n",
        "                                   entrez_query=entrez_query)\n",
        "\n",
        "    blast_record = NCBIXML.read(result_handle)\n",
        "    blast_results = []\n",
        "    print(f\"Results for Accession ID: {accession_id}\")\n",
        "    for alignment in blast_record.alignments:\n",
        "        for hsp in alignment.hsps:\n",
        "            result_detail = {\n",
        "                \"hit_id\": alignment.hit_id,\n",
        "                \"hit_def\": alignment.hit_def,\n",
        "                \"e_value\": hsp.expect,\n",
        "                \"score\": hsp.score,\n",
        "                \"query_align\": hsp.query[:100],  # First 100 characters for example\n",
        "                \"subject_align\": hsp.sbjct[:100]\n",
        "            }\n",
        "            blast_results.append(result_detail)\n",
        "\n",
        "            # Print each result\n",
        "            print(f\"  Hit ID: {alignment.hit_id}\")\n",
        "            print(f\"  Hit Description: {alignment.hit_def}\")\n",
        "            print(f\"    E-value: {hsp.expect}\")\n",
        "            print(f\"    Score: {hsp.score}\")\n",
        "            print(f\"    Query Alignment: {hsp.query[:500]}...\")\n",
        "            print(f\"    Subject Alignment: {hsp.sbjct[:500]}...\")\n",
        "            print(\"-\" * 80)\n",
        "\n",
        "    if blast_results:\n",
        "        return blast_results\n",
        "    else:\n",
        "        print(f\"No BLAST results found for Accession ID: {accession_id}\")\n",
        "        return None\n"
      ],
      "metadata": {
        "id": "fSTLZjIcndWI"
      },
      "execution_count": null,
      "outputs": []
    },
    {
      "cell_type": "markdown",
      "source": [
        "#Explanation for the results:\n",
        "**Hit ID**: This is a unique identifier for the sequence in the database that matched your query. In your example, emb|SBS97131.1| identifies the sequence in the database.\n",
        "\n",
        "**Hit Description**: This provides more detailed information about the hit, including the name of the protein and the species. For instance, cdc2-related protein kinase 3, putative (CRK3) [Plasmodium malariae] tells you what the protein is and from which species it comes.\n",
        "\n",
        "**E-value (Expectation value)**: This is a very important metric that describes the number of hits one can \"expect\" to see by chance when searching a database of a particular size. It’s a measure of the randomness of the match, where a lower E-value indicates a more significant match. An E-value of 0.00065012 suggests that the hit is quite significant.\n",
        "\n",
        "**Score**: This is the computed score of the alignment, which takes into account the scoring matrix used in the analysis (like BLOSUM62, PAM250, etc.). Higher scores generally indicate better alignments.\n",
        "\n",
        "**Query Alignment and Subject Alignment**: These are the actual sequences from your query and the database that align with each other. These give you a visual insight into how similar the query sequence is to the database sequence."
      ],
      "metadata": {
        "id": "PihQa_7ZZANm"
      }
    },
    {
      "cell_type": "code",
      "source": [
        "# Example usage\n",
        "fetch_and_blast_sequence(\"P10635\", 5833)"
      ],
      "metadata": {
        "colab": {
          "base_uri": "https://localhost:8080/"
        },
        "id": "brJHkNFJogkM",
        "outputId": "4a95fefa-edcf-4231-b622-91b0b5e4e68c"
      },
      "execution_count": null,
      "outputs": [
        {
          "output_type": "stream",
          "name": "stdout",
          "text": [
            "Results for Accession ID: P10635\n",
            "No BLAST results found for Accession ID: P10635\n"
          ]
        }
      ]
    },
    {
      "cell_type": "code",
      "source": [
        "# Example usage\n",
        "fetch_and_blast_sequence(\"L8GZV5\", 5833)"
      ],
      "metadata": {
        "id": "_CaLvbObpN_x",
        "colab": {
          "base_uri": "https://localhost:8080/"
        },
        "outputId": "5f3f2232-e213-4cc1-ce80-132b19bfad62"
      },
      "execution_count": null,
      "outputs": [
        {
          "output_type": "stream",
          "name": "stdout",
          "text": [
            "Results for Accession ID: L8GZV5\n",
            "  Hit ID: pdb|3NIE|A\n",
            "  Hit Description: Chain A, MAP2 kinase [Plasmodium falciparum] >pdb|3NIE|B Chain B, MAP2 kinase [Plasmodium falciparum]\n",
            "    E-value: 1.15825e-41\n",
            "    Score: 374.0\n",
            "    Query Alignment: LEHHGGPATTAPLPRLTDLYDLQHVIGQGAYGVVWLALDRRSGQRVAVKKIADVFGDSKEAKRTLREVRLMRHFRGSSPHILAIHDLVPAMAEGKEEGEEEAVTMHNFRDLYVVTEFMDGGDLSQLTCGNKPPPEAAAHSGWHRPDEQLVKAVAFGLLSGLRVIHAARVLHRDLRPKNLLLSGDTVKTRTEQIADFGMGR--GKAKKLETAQN---------------RMKLSLMEFVSNRYYTAPEGLLPNNEYSYPV---------TEMLLGRNVFRD------SRYP-------------------------DQMRTVISVLGTPAEEDLASIASGRNEKFRAYIRTLQAHEPNRLWTLLPNLSAEGKDFLQRLLMFNPNKRATAQEALRHPWLRDVAAAHTSAPGSTADDGDDEPGDHGVVAPFEGGDIEAADDESALRPLLWREALSYRG...\n",
            "    Subject Alignment: LYFQGAIIKNVKVP---DNYEIKHLIGRGSYGYVYLAYDKNANKNVAIKKVNRMFEDLIDCKRILREITILN--RLKSDYIIRLHDLI--IPED----------LLKFDELYIVLEIAD-SDLKKLF---KTPIFLT---------EQHVKTILYNLLLGEKFIHESGIIHRDLKPANCLLNQDC----SVKICDFGLARTINSDKDIHIVNDLEEKEENEEPGPHNKNLKKQLTSHVVTRWYRAPELILLQENYTNSIDIWSTGCIFAELL---NMMKSHINNPTNRFPLFPGSSCFPLSPDHNSKKVHEKSNRDQLNIIFNVIGTPPEEDLKCITK---QEVIKYIKLFPTRDGIDLSKKYSSISKEGIDLLESMLRFNAQKRITIDKALSHPYLKDVRKENLENFST-----------EKIILPFDDWMVLS---ETQLRYIFLKEIQSFHA...\n",
            "--------------------------------------------------------------------------------\n",
            "  Hit ID: pdb|1V0O|A\n",
            "  Hit Description: Chain A, CELL DIVISION CONTROL PROTEIN 2 HOMOLOG [Plasmodium falciparum] >pdb|1V0O|B Chain B, CELL DIVISION CONTROL PROTEIN 2 HOMOLOG [Plasmodium falciparum]\n",
            "    E-value: 1.18791e-24\n",
            "    Score: 243.0\n",
            "    Query Alignment: IGQGAYGVVWLALDRRSGQRVAVKKIADVFGDSKEAKRTLREVRLMRHFRGSSPHILAIHDLVPAMAEGKEEGEEEAVTMHNFRDLYVVTEFMDGGDLSQLTCGNKPPPEAAAHSGWHRPDEQLVKAVAFGLLSGLRVIHAARVLHRDLRPKNLLLSGDTVKTRTEQIADFGMGRGKAKKLETAQNRMKLSLMEFVSNRYYTAPEGLLPNNEYSYPV---------TEMLLGRNVFRDSRYPDQMRTVISVLGTPAEEDLASIASGRNEKFRAYIRTLQAHEPNRLWTLLPNLSAEGKDFLQRLLMFNPNKRATAQEALRHPWLRD...\n",
            "    Subject Alignment: IGEGTYGVVYKA-QNNYGETFALKKIRLEKEDEGIPSTTIREISILKELKHSN--IVKLYDVI-----------------HTKKRLVLVFEHLDQ-DLKKLLDVCEGGLESVT-----------AKSFLLQLLNGIAYCHDRRVLHRDLKPQNLLIN----REGELKIADFGLARAFGIPVRKYTHE--------VVTLWYRAPDVLMGSKKYSTTIDIWSVGCIFAEMVNGTPLFPGVSEADQLMRIFRILGTPNSKNWPNVT-----ELPKYDPNFTVYEPLPWESFLKGLDESGIDLLSKMLKLDPNQRITAKQALEHAYFKE...\n",
            "--------------------------------------------------------------------------------\n",
            "  Hit ID: pdb|1V0B|A\n",
            "  Hit Description: Chain A, CELL DIVISION CONTROL PROTEIN 2 HOMOLOG [Plasmodium falciparum] >pdb|1V0B|B Chain B, CELL DIVISION CONTROL PROTEIN 2 HOMOLOG [Plasmodium falciparum]\n",
            "    E-value: 1.40146e-24\n",
            "    Score: 243.0\n",
            "    Query Alignment: IGQGAYGVVWLALDRRSGQRVAVKKIADVFGDSKEAKRTLREVRLMRHFRGSSPHILAIHDLVPAMAEGKEEGEEEAVTMHNFRDLYVVTEFMDGGDLSQLTCGNKPPPEAAAHSGWHRPDEQLVKAVAFGLLSGLRVIHAARVLHRDLRPKNLLLSGDTVKTRTEQIADFGMGRGKAKKLETAQNRMKLSLMEFVSNRYYTAPEGLLPNNEYSYPV---------TEMLLGRNVFRDSRYPDQMRTVISVLGTPAEEDLASIASGRNEKFRAYIRTLQAHEPNRLWTLLPNLSAEGKDFLQRLLMFNPNKRATAQEALRHPWLRD...\n",
            "    Subject Alignment: IGEGTYGVVYKA-QNNYGETFALKKIRLEKEDEGIPSTTIREISILKELKHSN--IVKLYDVI-----------------HTKKRLVLVFEHLDQ-DLKKLLDVCEGGLESVT-----------AKSFLLQLLNGIAYCHDRRVLHRDLKPQNLLIN----REGELKIADFGLARAFGIPVRKYTHE--------VVTLWYRAPDVLMGSKKYSTTIDIWSVGCIFAEMVNGAPLFPGVSEADQLMRIFRILGTPNSKNWPNVT-----ELPKYDPNFTVYEPLPWESFLKGLDESGIDLLSKMLKLDPNQRITAKQALEHAYFKE...\n",
            "--------------------------------------------------------------------------------\n",
            "  Hit ID: pdb|1OB3|A\n",
            "  Hit Description: Chain A, CELL DIVISION CONTROL PROTEIN 2 HOMOLOG [Plasmodium falciparum] >pdb|1OB3|B Chain B, CELL DIVISION CONTROL PROTEIN 2 HOMOLOG [Plasmodium falciparum] >pdb|1V0P|A Chain A, CELL DIVISION CONTROL PROTEIN 2 HOMOLOG [Plasmodium falciparum] >pdb|1V0P|B Chain B, CELL DIVISION CONTROL PROTEIN 2 HOMOLOG [Plasmodium falciparum]\n",
            "    E-value: 1.73563e-24\n",
            "    Score: 242.0\n",
            "    Query Alignment: IGQGAYGVVWLALDRRSGQRVAVKKIADVFGDSKEAKRTLREVRLMRHFRGSSPHILAIHDLVPAMAEGKEEGEEEAVTMHNFRDLYVVTEFMDGGDLSQLTCGNKPPPEAAAHSGWHRPDEQLVKAVAFGLLSGLRVIHAARVLHRDLRPKNLLLSGDTVKTRTEQIADFGMGRGKAKKLETAQNRMKLSLMEFVSNRYYTAPEGLLPNNEYSYPV---------TEMLLGRNVFRDSRYPDQMRTVISVLGTPAEEDLASIASGRNEKFRAYIRTLQAHEPNRLWTLLPNLSAEGKDFLQRLLMFNPNKRATAQEALRHPWLRD...\n",
            "    Subject Alignment: IGEGTYGVVYKA-QNNYGETFALKKIRLEKEDEGIPSTTIREISILKELKHSN--IVKLYDVI-----------------HTKKRLVLVFEHLDQ-DLKKLLDVCEGGLESVT-----------AKSFLLQLLNGIAYCHDRRVLHRDLKPQNLLIN----REGELKIADFGLARAFGIPVRKYTHE--------IVTLWYRAPDVLMGSKKYSTTIDIWSVGCIFAEMVNGTPLFPGVSEADQLMRIFRILGTPNSKNWPNVT-----ELPKYDPNFTVYEPLPWESFLKGLDESGIDLLSKMLKLDPNQRITAKQALEHAYFKE...\n",
            "--------------------------------------------------------------------------------\n",
            "  Hit ID: pdb|9CMZ|A\n",
            "  Hit Description: Chain A, Protein kinase 6 [Plasmodium falciparum 3D7] >pdb|9CMZ|B Chain B, Protein kinase 6 [Plasmodium falciparum 3D7] >pdb|9CMZ|C Chain C, Protein kinase 6 [Plasmodium falciparum 3D7]\n",
            "    E-value: 1.02379e-22\n",
            "    Score: 230.0\n",
            "    Query Alignment: YDLQHVIGQGAYGVVWLALDRRSGQRVAVKKIADVFGDSK-EAKRTLREVRLMRHFRGSSPHILAIHDLVPAMAEGKEEGEEEAVTMHNFRDLYVVTEFMDGGDLSQLTCGNKPPPEAAAHSGWHRPDEQLVKAVAFGLLSGLRVIHAARVLHRDLRPKNLLLSGDTVKTRTEQIADFGMGRGKAKKLETAQNRMKLSLMEFVSNRYYTAPEGLLPNNEYSYPV---------TEMLLGRNVFRDSRYPDQMRTVISVLGTPAEEDLASIASGRNEKFRAYIRTLQAHEPNRLWTLLPNLSAEGKDFLQRLLMFNPNKRATAQEALRHPWLRDVAAAHTS...\n",
            "    Subject Alignment: FDFLYVIGKGTYGIVYKALDKKENNFVAIKKIINLNDENYGISKRILRELTILQKIKHKNIINLK-YVFYGKDIEDKLAGENLENSC-----LYLAFEYCDI-DLFNLI-------------KKHNLNIKEIKYIIFELLLALSYFHSNNYIHRDIKPENIFITSEG----EIKLGDLGMSVEKSDHMTPT-----------VVTLWYRAPEILLKSTNYDQKVDIWSLGCLFMELIQGRPLFPGKNDNTQLELIYLLLGD--KDALTTVDKERKDMFPYF-------EINMLKDAIDD--EHTLDLISKMLIYDPNYRISSKEALKHPCFQDIEQVKFS...\n",
            "--------------------------------------------------------------------------------\n",
            "  Hit ID: pdb|8U2O|A\n",
            "  Hit Description: Chain A, Protein kinase 6 [Plasmodium falciparum 3D7] >pdb|8U2O|B Chain B, Protein kinase 6 [Plasmodium falciparum 3D7]\n",
            "    E-value: 1.04935e-22\n",
            "    Score: 230.0\n",
            "    Query Alignment: YDLQHVIGQGAYGVVWLALDRRSGQRVAVKKIADVFGDSK-EAKRTLREVRLMRHFRGSSPHILAIHDLVPAMAEGKEEGEEEAVTMHNFRDLYVVTEFMDGGDLSQLTCGNKPPPEAAAHSGWHRPDEQLVKAVAFGLLSGLRVIHAARVLHRDLRPKNLLLSGDTVKTRTEQIADFGMGRGKAKKLETAQNRMKLSLMEFVSNRYYTAPEGLLPNNEYSYPV---------TEMLLGRNVFRDSRYPDQMRTVISVLGTPAEEDLASIASGRNEKFRAYIRTLQAHEPNRLWTLLPNLSAEGKDFLQRLLMFNPNKRATAQEALRHPWLRDVAAAHTS...\n",
            "    Subject Alignment: FDFLYVIGKGTYGIVYKALDKKENNFVAIKKIINLNDENYGISKRILRELTILQKIKHKNIINLK-YVFYGKDIEDKLAGENLENSC-----LYLAFEYCDI-DLFNLI-------------KKHNLNIKEIKYIIFELLLALSYFHSNNYIHRDIKPENIFITSEG----EIKLGDLGMSVEKSDHMTPT-----------VVTLWYRAPEILLKSTNYDQKVDIWSLGCLFMELIQGRPLFPGKNDNTQLELIYLLLGD--KDALTTVDKERKDMFPYF-------EINMLKDAIDD--EHTLDLISKMLIYDPNYRISSKEALKHPCFQDIEQVKFS...\n",
            "--------------------------------------------------------------------------------\n",
            "  Hit ID: pdb|4MVF|A\n",
            "  Hit Description: Chain A, Calcium-dependent protein kinase 2 [Plasmodium falciparum K1]\n",
            "    E-value: 8.95058e-19\n",
            "    Score: 205.0\n",
            "    Query Alignment: RLTDLYDLQHVIGQGAYGVVWLALDRRSGQRVAVKKIADVFGDSKEAKRTLREVRLMRHFRGSSPHILAIHDLVPAMAEGKEEGEEEAVTMHNFRDLYVVTEFMDGGDLSQLTCGNKPPPEAAAHSGWHRPDEQLVKAVAFGLLSGLRVIHAARVLHRDLRPKNLLLSGDTVKTRTEQIADFGMGRGKAKKLETAQNRMKLSLMEFVSNR----YYTAPEGLLPNNEYSYPVTEMLLGRNVFRDSRYPDQ---------MRTVIS----VLGTPAEEDLASIASGRNEKFRAYIRTLQAHEPNRLWTLLPNLSAEGKDFLQRLLMFNPNKRATAQEALRHPWLRDVAAAH...\n",
            "    Subject Alignment: KLEDKYIIDEKLGQGTYGCVYKGIDKVTNQLYAIKE--EKKDRLKNINRFFQEIEIMKKL--DHPNIVKLYE-----------------TYENDNYIYLIMELCSGRELFDSIIENGSFTEKNAAT--------IMKQI----FSAIFYLHSLNIVHRDLKPENFLFQSEN-KDSLLKIIDFGL----SKNLGTG---------EFTTTKAGTPYYVAPQVL---------------------DGKYDKKCDIWSSGVIMYTLLCGYPPFYGDTDNEVLKKVKKG---EFCFY---------ENDW---GSISSDAKNLITKLLTYNPNERCTIEEALNHPWITQMTKSH...\n",
            "--------------------------------------------------------------------------------\n",
            "  Hit ID: pdb|4RGJ|A\n",
            "  Hit Description: Chain A, Calcium-dependent protein kinase 4 [Plasmodium falciparum]\n",
            "    E-value: 8.96588e-14\n",
            "    Score: 164.0\n",
            "    Query Alignment: VIGQGAYGVVWLALDRRSGQRVAVKKIADVFGDSKEAKRTL-REVRLMRHFRGSSPHILAIHDLVPAMAEGKEEGEEEAVTMHNFRDLYVVTEFMDGGDLSQLTCGNKPPPEAAAHSGWHRPDEQLVKAVAFGLLSGLRVIHAARVLHRDLRPKNLLLSGDTVKTRTEQIADFGMGRGKAKKLETAQNRMKLSLMEFVSNRYYTAPEGLLPNNEYSYPVTEMLLGRNVFRDSRYPDQMRTVISVLGTPAEEDLASIASGRNEKFRAYIRTLQAHEPNRLWTLLPN---LSAEGKDFLQRLLMFNPNKRATAQEALRHPWLR...\n",
            "    Subject Alignment: ILGKGSFGEVILSRDKHTGHEYAIKVISKKHVKRKTDKESLLREVELLKML--DHINIMKLYEFFED---------------NNY--YYLVSDVYTGGELFDEIISRKRFYEIDA--------ARIIKQI----LSGITYMHKNNVVHRDLKPENILLETKNKEDMIIKIIDFGL----STHFEYSK-KMK----DKIGTAYYIAPDVL--HGTYDEKCDIWSCGVILY------------ILLSGCPP-------FNGSNE-----YDILKKVEAGKYTFDLPQFKKISDKAKDLIKKMLMYTSAVRISARDALEHEWIK...\n",
            "--------------------------------------------------------------------------------\n",
            "  Hit ID: pdb|4QOX|A\n",
            "  Hit Description: Chain A, Calcium-dependent protein kinase 4 [Plasmodium falciparum 3D7]\n",
            "    E-value: 1.14048e-13\n",
            "    Score: 163.0\n",
            "    Query Alignment: VIGQGAYGVVWLALDRRSGQRVAVKKIADVFGDSKEAKRTL-REVRLMRHFRGSSPHILAIHDLVPAMAEGKEEGEEEAVTMHNFRDLYVVTEFMDGGDLSQLTCGNKPPPEAAAHSGWHRPDEQLVKAVAFGLLSGLRVIHAARVLHRDLRPKNLLLSGDTVKTRTEQIADFGMGRGKAKKLETAQNRMKLSLMEFVSNRYYTAPEGLLPNNEYSYPVTEMLLGRNVFRDSRYPDQMRTVISVLGTPAEEDLASIASGRNEKFRAYIRTLQAHEPNRLWTLLPN---LSAEGKDFLQRLLMFNPNKRATAQEALRHPWLR...\n",
            "    Subject Alignment: ILGKGSFGEVILSRDKHTGHEYAIKVISKKHVKRKTDKESLLREVELLKML--DHINIMKLYEFFED---------------NNY--YYLVSDVYTGGELFDEIISRKRFYEIDA--------ARIIKQI----LSGITYMHKNNVVHRDLKPENILLETKNKEDMIIKIIDFGL----STHFEYSK-KMK----DKIGTAYYIAPDVL--HGTYDEKCDIWSCGVILY------------ILLSGCPP-------FNGSNE-----YDILKKVEAGKYTFDLPQFKKISDKAKDLIKKMLMYTSAVRISARDALEHEWIK...\n",
            "--------------------------------------------------------------------------------\n",
            "  Hit ID: pdb|5DYK|A\n",
            "  Hit Description: Chain A, CGMP-dependent protein kinase [Plasmodium falciparum] >pdb|8EM8|A Chain A, cGMP-dependent protein kinase [Plasmodium falciparum 3D7]\n",
            "    E-value: 0.000775943\n",
            "    Score: 83.0\n",
            "    Query Alignment: QHVIGQGAYGVVWLALDRRSGQRVAVKKIADVFGDSKEAKRTLRE---VRLMRHFRGSSPHILAIHDLVPAMAEGKEEGEEEAVTMHNFRDLYVVTEFMDGGDLSQLT--CGNKPPPEAAAHSGWHRPDEQLVKAVAFGLLSGLRVIHAARVLHRDLRPKNLLLSGDTVKTRTEQIADFGMGRGKAKKLETAQNRMKLSLMEFVSNRYYTAPEGLL...\n",
            "    Subject Alignment: ERIIGRGTFGTVKLVHHKPTKIRYALKCV------SKRSIINLNQQNNIKLEREITAENDHPFIIR-LVRTFKDSKY--------------FYFLTELVTGGELYDAIRKLGLLSKSQAQFYLG--------------SIILAIEYLHERNIVYRDLKPENILLD----KQGYVKLIDFGC----AKKV---QGRA----YTLVGTPHYMAPEVIL...\n",
            "--------------------------------------------------------------------------------\n",
            "  Hit ID: pdb|3LLT|A\n",
            "  Hit Description: Chain A, Serine/threonine kinase-1, PfLammer [Plasmodium falciparum 3D7]\n",
            "    E-value: 0.147469\n",
            "    Score: 63.0\n",
            "    Query Alignment: HSGWHRPDEQLVKAVAFGLLSGLRVIHAARVLHRDLRPKNLLL...\n",
            "    Subject Alignment: YNGFHIED---IKLYCIEILKALNYLRKMSLTHTDLKPENILL...\n",
            "--------------------------------------------------------------------------------\n"
          ]
        },
        {
          "output_type": "execute_result",
          "data": {
            "text/plain": [
              "[{'hit_id': 'pdb|3NIE|A',\n",
              "  'hit_def': 'Chain A, MAP2 kinase [Plasmodium falciparum] >pdb|3NIE|B Chain B, MAP2 kinase [Plasmodium falciparum]',\n",
              "  'e_value': 1.15825e-41,\n",
              "  'score': 374.0,\n",
              "  'query_align': 'LEHHGGPATTAPLPRLTDLYDLQHVIGQGAYGVVWLALDRRSGQRVAVKKIADVFGDSKEAKRTLREVRLMRHFRGSSPHILAIHDLVPAMAEGKEEGEE',\n",
              "  'subject_align': 'LYFQGAIIKNVKVP---DNYEIKHLIGRGSYGYVYLAYDKNANKNVAIKKVNRMFEDLIDCKRILREITILN--RLKSDYIIRLHDLI--IPED------'},\n",
              " {'hit_id': 'pdb|1V0O|A',\n",
              "  'hit_def': 'Chain A, CELL DIVISION CONTROL PROTEIN 2 HOMOLOG [Plasmodium falciparum] >pdb|1V0O|B Chain B, CELL DIVISION CONTROL PROTEIN 2 HOMOLOG [Plasmodium falciparum]',\n",
              "  'e_value': 1.18791e-24,\n",
              "  'score': 243.0,\n",
              "  'query_align': 'IGQGAYGVVWLALDRRSGQRVAVKKIADVFGDSKEAKRTLREVRLMRHFRGSSPHILAIHDLVPAMAEGKEEGEEEAVTMHNFRDLYVVTEFMDGGDLSQ',\n",
              "  'subject_align': 'IGEGTYGVVYKA-QNNYGETFALKKIRLEKEDEGIPSTTIREISILKELKHSN--IVKLYDVI-----------------HTKKRLVLVFEHLDQ-DLKK'},\n",
              " {'hit_id': 'pdb|1V0B|A',\n",
              "  'hit_def': 'Chain A, CELL DIVISION CONTROL PROTEIN 2 HOMOLOG [Plasmodium falciparum] >pdb|1V0B|B Chain B, CELL DIVISION CONTROL PROTEIN 2 HOMOLOG [Plasmodium falciparum]',\n",
              "  'e_value': 1.40146e-24,\n",
              "  'score': 243.0,\n",
              "  'query_align': 'IGQGAYGVVWLALDRRSGQRVAVKKIADVFGDSKEAKRTLREVRLMRHFRGSSPHILAIHDLVPAMAEGKEEGEEEAVTMHNFRDLYVVTEFMDGGDLSQ',\n",
              "  'subject_align': 'IGEGTYGVVYKA-QNNYGETFALKKIRLEKEDEGIPSTTIREISILKELKHSN--IVKLYDVI-----------------HTKKRLVLVFEHLDQ-DLKK'},\n",
              " {'hit_id': 'pdb|1OB3|A',\n",
              "  'hit_def': 'Chain A, CELL DIVISION CONTROL PROTEIN 2 HOMOLOG [Plasmodium falciparum] >pdb|1OB3|B Chain B, CELL DIVISION CONTROL PROTEIN 2 HOMOLOG [Plasmodium falciparum] >pdb|1V0P|A Chain A, CELL DIVISION CONTROL PROTEIN 2 HOMOLOG [Plasmodium falciparum] >pdb|1V0P|B Chain B, CELL DIVISION CONTROL PROTEIN 2 HOMOLOG [Plasmodium falciparum]',\n",
              "  'e_value': 1.73563e-24,\n",
              "  'score': 242.0,\n",
              "  'query_align': 'IGQGAYGVVWLALDRRSGQRVAVKKIADVFGDSKEAKRTLREVRLMRHFRGSSPHILAIHDLVPAMAEGKEEGEEEAVTMHNFRDLYVVTEFMDGGDLSQ',\n",
              "  'subject_align': 'IGEGTYGVVYKA-QNNYGETFALKKIRLEKEDEGIPSTTIREISILKELKHSN--IVKLYDVI-----------------HTKKRLVLVFEHLDQ-DLKK'},\n",
              " {'hit_id': 'pdb|9CMZ|A',\n",
              "  'hit_def': 'Chain A, Protein kinase 6 [Plasmodium falciparum 3D7] >pdb|9CMZ|B Chain B, Protein kinase 6 [Plasmodium falciparum 3D7] >pdb|9CMZ|C Chain C, Protein kinase 6 [Plasmodium falciparum 3D7]',\n",
              "  'e_value': 1.02379e-22,\n",
              "  'score': 230.0,\n",
              "  'query_align': 'YDLQHVIGQGAYGVVWLALDRRSGQRVAVKKIADVFGDSK-EAKRTLREVRLMRHFRGSSPHILAIHDLVPAMAEGKEEGEEEAVTMHNFRDLYVVTEFM',\n",
              "  'subject_align': 'FDFLYVIGKGTYGIVYKALDKKENNFVAIKKIINLNDENYGISKRILRELTILQKIKHKNIINLK-YVFYGKDIEDKLAGENLENSC-----LYLAFEYC'},\n",
              " {'hit_id': 'pdb|8U2O|A',\n",
              "  'hit_def': 'Chain A, Protein kinase 6 [Plasmodium falciparum 3D7] >pdb|8U2O|B Chain B, Protein kinase 6 [Plasmodium falciparum 3D7]',\n",
              "  'e_value': 1.04935e-22,\n",
              "  'score': 230.0,\n",
              "  'query_align': 'YDLQHVIGQGAYGVVWLALDRRSGQRVAVKKIADVFGDSK-EAKRTLREVRLMRHFRGSSPHILAIHDLVPAMAEGKEEGEEEAVTMHNFRDLYVVTEFM',\n",
              "  'subject_align': 'FDFLYVIGKGTYGIVYKALDKKENNFVAIKKIINLNDENYGISKRILRELTILQKIKHKNIINLK-YVFYGKDIEDKLAGENLENSC-----LYLAFEYC'},\n",
              " {'hit_id': 'pdb|4MVF|A',\n",
              "  'hit_def': 'Chain A, Calcium-dependent protein kinase 2 [Plasmodium falciparum K1]',\n",
              "  'e_value': 8.95058e-19,\n",
              "  'score': 205.0,\n",
              "  'query_align': 'RLTDLYDLQHVIGQGAYGVVWLALDRRSGQRVAVKKIADVFGDSKEAKRTLREVRLMRHFRGSSPHILAIHDLVPAMAEGKEEGEEEAVTMHNFRDLYVV',\n",
              "  'subject_align': 'KLEDKYIIDEKLGQGTYGCVYKGIDKVTNQLYAIKE--EKKDRLKNINRFFQEIEIMKKL--DHPNIVKLYE-----------------TYENDNYIYLI'},\n",
              " {'hit_id': 'pdb|4RGJ|A',\n",
              "  'hit_def': 'Chain A, Calcium-dependent protein kinase 4 [Plasmodium falciparum]',\n",
              "  'e_value': 8.96588e-14,\n",
              "  'score': 164.0,\n",
              "  'query_align': 'VIGQGAYGVVWLALDRRSGQRVAVKKIADVFGDSKEAKRTL-REVRLMRHFRGSSPHILAIHDLVPAMAEGKEEGEEEAVTMHNFRDLYVVTEFMDGGDL',\n",
              "  'subject_align': 'ILGKGSFGEVILSRDKHTGHEYAIKVISKKHVKRKTDKESLLREVELLKML--DHINIMKLYEFFED---------------NNY--YYLVSDVYTGGEL'},\n",
              " {'hit_id': 'pdb|4QOX|A',\n",
              "  'hit_def': 'Chain A, Calcium-dependent protein kinase 4 [Plasmodium falciparum 3D7]',\n",
              "  'e_value': 1.14048e-13,\n",
              "  'score': 163.0,\n",
              "  'query_align': 'VIGQGAYGVVWLALDRRSGQRVAVKKIADVFGDSKEAKRTL-REVRLMRHFRGSSPHILAIHDLVPAMAEGKEEGEEEAVTMHNFRDLYVVTEFMDGGDL',\n",
              "  'subject_align': 'ILGKGSFGEVILSRDKHTGHEYAIKVISKKHVKRKTDKESLLREVELLKML--DHINIMKLYEFFED---------------NNY--YYLVSDVYTGGEL'},\n",
              " {'hit_id': 'pdb|5DYK|A',\n",
              "  'hit_def': 'Chain A, CGMP-dependent protein kinase [Plasmodium falciparum] >pdb|8EM8|A Chain A, cGMP-dependent protein kinase [Plasmodium falciparum 3D7]',\n",
              "  'e_value': 0.000775943,\n",
              "  'score': 83.0,\n",
              "  'query_align': 'QHVIGQGAYGVVWLALDRRSGQRVAVKKIADVFGDSKEAKRTLRE---VRLMRHFRGSSPHILAIHDLVPAMAEGKEEGEEEAVTMHNFRDLYVVTEFMD',\n",
              "  'subject_align': 'ERIIGRGTFGTVKLVHHKPTKIRYALKCV------SKRSIINLNQQNNIKLEREITAENDHPFIIR-LVRTFKDSKY--------------FYFLTELVT'},\n",
              " {'hit_id': 'pdb|3LLT|A',\n",
              "  'hit_def': 'Chain A, Serine/threonine kinase-1, PfLammer [Plasmodium falciparum 3D7]',\n",
              "  'e_value': 0.147469,\n",
              "  'score': 63.0,\n",
              "  'query_align': 'HSGWHRPDEQLVKAVAFGLLSGLRVIHAARVLHRDLRPKNLLL',\n",
              "  'subject_align': 'YNGFHIED---IKLYCIEILKALNYLRKMSLTHTDLKPENILL'}]"
            ]
          },
          "metadata": {},
          "execution_count": 12
        }
      ]
    },
    {
      "cell_type": "code",
      "source": [
        "# Example usage\n",
        "fetch_and_blast_sequence(\"E9Q652\", 5858)\n"
      ],
      "metadata": {
        "id": "JcYwM1ULqyEy",
        "colab": {
          "base_uri": "https://localhost:8080/"
        },
        "outputId": "56ea07ff-6edf-4783-a32e-4bcac7c9c3d9"
      },
      "execution_count": null,
      "outputs": [
        {
          "output_type": "stream",
          "name": "stdout",
          "text": [
            "Results for Accession ID: E9Q652\n",
            "No BLAST results found for Accession ID: E9Q652\n"
          ]
        }
      ]
    },
    {
      "cell_type": "code",
      "source": [
        "fetch_and_blast_sequence(\"B2BXS0\", 5858)"
      ],
      "metadata": {
        "colab": {
          "base_uri": "https://localhost:8080/"
        },
        "id": "yTZwgFi1YCgQ",
        "outputId": "758030bd-256d-4e12-fbd6-e6fe1deed589"
      },
      "execution_count": null,
      "outputs": [
        {
          "output_type": "stream",
          "name": "stdout",
          "text": [
            "Results for Accession ID: B2BXS0\n",
            "No BLAST results found for Accession ID: B2BXS0\n"
          ]
        }
      ]
    },
    {
      "cell_type": "code",
      "source": [
        "fetch_and_blast_sequence(\"P07954\", 5858)"
      ],
      "metadata": {
        "colab": {
          "base_uri": "https://localhost:8080/"
        },
        "id": "zJfeEDTaZgu2",
        "outputId": "1658cc86-5ddd-47d6-dbef-c059026dc233"
      },
      "execution_count": null,
      "outputs": [
        {
          "output_type": "stream",
          "name": "stdout",
          "text": [
            "Results for Accession ID: P07954\n",
            "No BLAST results found for Accession ID: P07954\n"
          ]
        }
      ]
    },
    {
      "cell_type": "code",
      "source": [
        "'''\n",
        "mechanism: loop through each taxon_id and for them do the blast search of each accession id and save the results in a json file\n",
        " - we should also have the name of the json file of the result to be the taxon id and then have the results that shows each accession id\n",
        "  and the returned result\n",
        "\n",
        "'''\n",
        "\n",
        "import json\n",
        "import os\n",
        "\n",
        "folder_path = '/content/drive/MyDrive/jsonfolder'\n",
        "os.makedirs(folder_path, exist_ok=True)  # Ensure the directory exists\n",
        "\n",
        "'''\n",
        "# Example species and accession IDs for debugging\n",
        "taxon_ids = [5833]  # Use a small subset for testing\n",
        "ids = ['L8GZV5']  # Known accession ID for testing\n",
        "\n",
        "\n",
        "for taxon_id in taxon_ids:\n",
        "    print(f\"Processing taxonomy ID: {taxon_id}\")\n",
        "    taxon_results = {}\n",
        "\n",
        "    for accession_id in ids:\n",
        "        print(f\"Processing Accession ID: {accession_id}\")\n",
        "        result = fetch_and_blast_sequence(accession_id, taxonomy=taxon_id)\n",
        "\n",
        "        if result:\n",
        "            taxon_results[accession_id] = result\n",
        "        else:\n",
        "            print(f\"No results returned for Accession ID: {accession_id}\")\n",
        "\n",
        "    json_filename = os.path.join(folder_path, f\"{taxon_id}.json\")\n",
        "    with open(json_filename, \"w\") as f:\n",
        "        json.dump(taxon_results, f, indent=4)\n",
        "\n",
        "    print(f\"BLAST results saved to '{json_filename}'.\")\n",
        "'''\n",
        "\n",
        "\n",
        "'''NEW CODE '''\n",
        "\n",
        "#instead of looping for toxon names we already know we wanna work with  5833.\n",
        "#make file with Pubchem Id = {then save each accesion_ids: result of the uniprot search}\n",
        "\n",
        "\n",
        "pubchem_IDs = df['PubChem ID'].tolist() # list of all the drug names (this would be the name of the file that will be created)\n",
        "ids = df['Accession IDs'] # name of the proteins that we wanna see the similarities between toxom = 5833\n",
        "\n",
        "for pubchem_id in pubchem_IDs:\n",
        "  #create a json file with the pubchem_id\n",
        "  json_filename = os.path.join(folder_path, f\"{pubchem_id}.json\")\n",
        "  toxon_results = {}\n",
        "  for accession_id in ids:\n",
        "    result = fetch_and_blast_sequence(accession_id, taxonomy=5833)\n",
        "    if result:\n",
        "      toxon_results[accession_id] = result\n",
        "    else:\n",
        "      print(f\"No results returned for Accession ID: {accession_id}\")\n",
        "  with open(json_filename, \"w\") as f:\n",
        "    json.dump(toxon_results, f, indent=4)\n",
        "    print(f\"BLAST results saved to '{json_filename}'.\")\n",
        "\n"
      ],
      "metadata": {
        "id": "nsmlMnAz7Cf4",
        "colab": {
          "base_uri": "https://localhost:8080/",
          "height": 1000
        },
        "outputId": "99e324dd-2cb3-4b1e-f23e-bbdec839f48f",
        "collapsed": true
      },
      "execution_count": null,
      "outputs": [
        {
          "output_type": "stream",
          "name": "stdout",
          "text": [
            "UniProt query failed for ['A0A0K2VLS4', 'S4R3J7', 'P07954', 'P0C023', 'O96028', 'Q3UQZ6', 'K7EJ20', 'A0A173GP47', 'A0A286SD53', 'Q95M86', 'A0A0K2VLS4', 'O55239', 'Q9P1Y0', 'A0A0K2VLS4', 'A0A0K2VLS4', 'H3BU54', 'A0A0H4TJD6', 'Q63694', 'A0A0K2VLS4', 'P14647', 'E7EVM8', 'D3YY46', 'Q90738', 'S5RV20', 'P10484', 'A0A0D9RI81', 'P01574', 'P11086', 'P05484', 'A0A0K2VLS4', 'P11352', 'L8GNA7', 'Q9Y294', 'Q6PD10', 'Q14749', 'P10635', 'H6A2B4', 'P24462'] with status code: 400\n",
            "No sequence data found for Accession ID: ['A0A0K2VLS4', 'S4R3J7', 'P07954', 'P0C023', 'O96028', 'Q3UQZ6', 'K7EJ20', 'A0A173GP47', 'A0A286SD53', 'Q95M86', 'A0A0K2VLS4', 'O55239', 'Q9P1Y0', 'A0A0K2VLS4', 'A0A0K2VLS4', 'H3BU54', 'A0A0H4TJD6', 'Q63694', 'A0A0K2VLS4', 'P14647', 'E7EVM8', 'D3YY46', 'Q90738', 'S5RV20', 'P10484', 'A0A0D9RI81', 'P01574', 'P11086', 'P05484', 'A0A0K2VLS4', 'P11352', 'L8GNA7', 'Q9Y294', 'Q6PD10', 'Q14749', 'P10635', 'H6A2B4', 'P24462']\n",
            "No results returned for Accession ID: ['A0A0K2VLS4', 'S4R3J7', 'P07954', 'P0C023', 'O96028', 'Q3UQZ6', 'K7EJ20', 'A0A173GP47', 'A0A286SD53', 'Q95M86', 'A0A0K2VLS4', 'O55239', 'Q9P1Y0', 'A0A0K2VLS4', 'A0A0K2VLS4', 'H3BU54', 'A0A0H4TJD6', 'Q63694', 'A0A0K2VLS4', 'P14647', 'E7EVM8', 'D3YY46', 'Q90738', 'S5RV20', 'P10484', 'A0A0D9RI81', 'P01574', 'P11086', 'P05484', 'A0A0K2VLS4', 'P11352', 'L8GNA7', 'Q9Y294', 'Q6PD10', 'Q14749', 'P10635', 'H6A2B4', 'P24462']\n",
            "UniProt query failed for ['P47928', 'Q5SYQ8', 'Q921E6', 'A0A8A5GQJ2', 'O53996', 'P12504', 'P0C023', 'A2AFL5', 'P0C023', 'A0A0H4TJD6', 'Q01831', 'P0C023', 'E7EVM8', None, 'A1KZZ7', 'S5RV20', 'P04062', 'P10484', None, 'Q65ZP9', 'P11352', None, 'Q15648', 'O96028', 'O00255', 'Q6UWZ7', 'G3V554', 'S4R3J7', 'Q8QG78', 'P0C023', 'P62805', 'P15428', 'P01579', 'P62805', 'Q32GM1', 'V9GX90', 'P0C023', 'Q00987', 'Q32GM1', 'H3BU54', 'B7ZC18', 'D6RA31', 'Q99638', 'A1L471', 'P0C023', 'E9PLT3', 'Q9UNA4', 'Q9Y294', 'K7ENN9', 'Q8BLP9', 'A0A583ZBF4', 'Q9UBT6', 'I3L1D5', 'Q3UEE0', 'E5RIP7', 'Q99J21', 'O70305', 'A0A0A0MQF6', 'A0A3B2W489', 'Q0QER9', 'Q9IK91', 'O23310', 'O76031', 'P01574', 'P05484', 'P59768', 'P10635', 'A0A8C8T6K8', 'P54132', None, 'Q61026', 'E9Q652', 'P07954', 'A2AM78', 'P61964', 'K7EJ20', 'B0R0B7', 'Q8V4R0', 'P14647', 'P41145', 'D3YY46', 'Q8BUN5', 'Q8IUH5', 'P0C023', 'Q8W209', 'A0A481XUV9', 'A2A5Y6', 'P24462', 'Q2TS46'] with status code: 400\n",
            "No sequence data found for Accession ID: ['P47928', 'Q5SYQ8', 'Q921E6', 'A0A8A5GQJ2', 'O53996', 'P12504', 'P0C023', 'A2AFL5', 'P0C023', 'A0A0H4TJD6', 'Q01831', 'P0C023', 'E7EVM8', None, 'A1KZZ7', 'S5RV20', 'P04062', 'P10484', None, 'Q65ZP9', 'P11352', None, 'Q15648', 'O96028', 'O00255', 'Q6UWZ7', 'G3V554', 'S4R3J7', 'Q8QG78', 'P0C023', 'P62805', 'P15428', 'P01579', 'P62805', 'Q32GM1', 'V9GX90', 'P0C023', 'Q00987', 'Q32GM1', 'H3BU54', 'B7ZC18', 'D6RA31', 'Q99638', 'A1L471', 'P0C023', 'E9PLT3', 'Q9UNA4', 'Q9Y294', 'K7ENN9', 'Q8BLP9', 'A0A583ZBF4', 'Q9UBT6', 'I3L1D5', 'Q3UEE0', 'E5RIP7', 'Q99J21', 'O70305', 'A0A0A0MQF6', 'A0A3B2W489', 'Q0QER9', 'Q9IK91', 'O23310', 'O76031', 'P01574', 'P05484', 'P59768', 'P10635', 'A0A8C8T6K8', 'P54132', None, 'Q61026', 'E9Q652', 'P07954', 'A2AM78', 'P61964', 'K7EJ20', 'B0R0B7', 'Q8V4R0', 'P14647', 'P41145', 'D3YY46', 'Q8BUN5', 'Q8IUH5', 'P0C023', 'Q8W209', 'A0A481XUV9', 'A2A5Y6', 'P24462', 'Q2TS46']\n",
            "No results returned for Accession ID: ['P47928', 'Q5SYQ8', 'Q921E6', 'A0A8A5GQJ2', 'O53996', 'P12504', 'P0C023', 'A2AFL5', 'P0C023', 'A0A0H4TJD6', 'Q01831', 'P0C023', 'E7EVM8', None, 'A1KZZ7', 'S5RV20', 'P04062', 'P10484', None, 'Q65ZP9', 'P11352', None, 'Q15648', 'O96028', 'O00255', 'Q6UWZ7', 'G3V554', 'S4R3J7', 'Q8QG78', 'P0C023', 'P62805', 'P15428', 'P01579', 'P62805', 'Q32GM1', 'V9GX90', 'P0C023', 'Q00987', 'Q32GM1', 'H3BU54', 'B7ZC18', 'D6RA31', 'Q99638', 'A1L471', 'P0C023', 'E9PLT3', 'Q9UNA4', 'Q9Y294', 'K7ENN9', 'Q8BLP9', 'A0A583ZBF4', 'Q9UBT6', 'I3L1D5', 'Q3UEE0', 'E5RIP7', 'Q99J21', 'O70305', 'A0A0A0MQF6', 'A0A3B2W489', 'Q0QER9', 'Q9IK91', 'O23310', 'O76031', 'P01574', 'P05484', 'P59768', 'P10635', 'A0A8C8T6K8', 'P54132', None, 'Q61026', 'E9Q652', 'P07954', 'A2AM78', 'P61964', 'K7EJ20', 'B0R0B7', 'Q8V4R0', 'P14647', 'P41145', 'D3YY46', 'Q8BUN5', 'Q8IUH5', 'P0C023', 'Q8W209', 'A0A481XUV9', 'A2A5Y6', 'P24462', 'Q2TS46']\n",
            "UniProt query failed for ['B2BXS0', 'Q9Z0P7', 'L8GZV5', 'P05067', 'Q9ZNZ7', 'A0A0B5EZQ3', 'P12689', 'P24232', 'A0A7S0YHP8', 'A0A0K2VLS4', 'A0A0B5EZQ3', 'L8HAM0', None, 'O43808', 'L8GN38', 'P05067', 'L8GZV5', 'P35968', 'S5RV20', 'P29320', 'P05067', 'A0A0B5EZQ3', 'O95278', 'O96028', 'Q61391', 'Q61527', 'A0A0K2VLS4', 'P11229', 'P09619', 'A0A0B5EZQ3', 'Q9ZNZ7', 'A0A0B5EZQ3', 'O86138', 'A0A0B5EZQ3', 'Q2N0S6', 'H3BU54', 'Q9ZNZ7', 'P27692', 'A0A0K2VLS4', 'A0A0K2TU93', 'A0A0B5EZQ3', 'A0A0K2UIG1', 'A0A7T8GL88', 'O51934', 'A0A7T8QTS2', 'P11086', None, 'Q2KDX6', 'B2BXS0', None, 'A0A0B5EZQ3', 'L8GZV5', None, 'Q2KDX6', None, 'A0A0K2UG27', 'L8GZV5', 'H3BJ74', 'A0A0B5EZQ3', 'P42641', 'L8GZV5', 'A0A0P1AX45', 'A0A0P1AX45', 'L8GN38', 'L8GZV5', 'P29320', 'A0A0P1AX45', 'Q9HAV4', 'L8GZV5', None, 'A0A0H3FMF8', 'L8GNA7', 'A0A7T8QTS2', 'A0A0B5EZQ3', 'H6A2B4', 'A0A0B5EZQ3', 'P07954', 'A0A0B5EZQ3', 'Q84128', 'P20154', 'L8GN15', 'A0A0B5EZQ3', 'A0A0P1A9P5', 'Q6P2Q9', 'A0A0B5EZQ3', 'L8GZV5', 'P42641', 'A0A2P2MBX9', 'A0A0K2VLS4', 'P14647', 'P20154', 'D3YY46', 'Q15024', 'L8GZV5', 'A0A0K2TLA7', 'P01308', 'A0A0K2VLS4', 'Q6PD10', 'P24462', 'L8GZV5', 'A2ASQ1', None, 'A0A0B5EZQ3', 'L8GN38', 'A0A0P1AX45', 'A0A4P9Y862', 'A0AAU8MIS4', 'A0A8S3T212', None, 'P45563', 'P10484', 'A0A0M4BXD2', 'A0A2P2LL28', 'P09619', 'A0QZY0', 'A0R2B1', 'P11352', 'A0A0B5EZQ3', 'A0A0K2VLS4', 'A0A0K2UT36', 'P05067', 'L8GL10', 'P01579', 'P62805', 'P17612', 'A0AAU8MIS4', 'Q61391', 'Q9H400', 'G5EFH8', 'A0A0B5EZQ3', 'P02699', 'Q15303', 'Q62137', 'P16554', 'A0A0D9RI81', 'L8GN38', 'P29320', 'O08967', None, 'A0A0K2VLS4', 'Q76N29', 'P19321', 'A1YKZ4', 'A0A7T8GL88', 'A0A0B5EZQ3', 'Q90738', 'A0A5N4CZL1', 'P01574', 'A0A0B5EZQ3', 'A0A0B5EZQ3', 'O13563', 'A0A0P1AX45', 'Q84128', 'P10635', 'Q9ZNZ7', 'O00936', 'A0A0B5EZQ3', 'P50750', 'A0A0M4BXD2', 'P42224', 'O95278', 'P29320', 'Q9ZNZ7', 'A0A0B5EZQ3', 'L8GZV5', 'A0A0K2VLS4', 'L8GZV5', 'A0A0B5EZQ3', 'A0A0B5EZQ3', 'A0A075F5C6', 'P11229', 'P19321', 'A0A0B5EZQ3', 'A0A669PQ19', 'A0A7T8GYP1', 'Q05397', 'A0A0K2TH30', None, 'A0A0K2VJS6', 'A0A0B5EZQ3', 'A0A0K2SWB5', 'L8HHY1', 'A0A0K2VLS4', 'P0AGB3', 'P08669', 'P45452', 'P0DW20', 'L8GZV5', 'L8GN38', 'L8GL10', 'L8GZV5', 'Q3TWR1', None, 'G3TVP2', 'A0A338P6P8', 'O95278', 'A0A0K2VLS4', 'A0A4P9Y862', 'L8GZV5', 'Q14749', 'Q9L4Q7', 'Q95M86', 'P19883', None, 'A0A7G3ZMV7', 'P0C023', 'P62805', 'O43808', 'A0A0K2VLS4', 'P61996', None, 'L8HHY1', 'P45452', 'P45452', 'Q84128', 'Q9ZNZ7', 'A0A0B5EZQ3', 'Q9Y294', 'O95278', 'L8GZV5', 'P29320', 'Q86PS1', 'Q9ZNZ7', 'Q60393', 'P19883', 'O15164', 'Q9P206', 'O35973', 'A0A160UK81', 'P05067', 'P29320', 'A0A0B5EZQ3', 'P17612', 'A0A2I0UI84', 'L8GZV5', 'P05484', 'P35968', 'P42641', 'P00489', 'A0A0K2V2L0', 'A0A0K2VLS4', 'L8GNA7', 'A0A0B5EZQ3', 'Q5QPD2', 'P20436', 'L8HAM0', 'P35367', 'P22455', 'P03192', 'A0A1X7QGS8', 'O08967', 'P00533', 'A0A0K2V9J6', 'L8GZV5', 'Q9ZNZ7', 'A0A146ZNM5', 'Q95M86', 'A0A0K2VLS4', 'P42641', 'P0AD64', 'A0A0B5EZQ3', 'Q42512', 'Q9ZNZ7', 'Q84128', 'O14757', 'A0A0B5EZQ3', 'P0A006', 'A0A338P781', 'P04629', 'L8GL10', 'L8GN38', 'A0A2L2Z9W0', 'A0A0N4SVG7', 'P19883', None, 'L8GZV5', 'L8GN38', 'P56473', 'A0A0B5EZQ3', 'A0A0K2VLS4', 'P55085', 'L8GN38', 'P29320', 'Q9ZNZ7', 'A0A7T8QTS2', 'Q63666', 'A0A0B5EZQ3', 'A0A0K2TC75', 'E7EVM8', 'A0A0K2UYJ8', 'Q16667', 'A0A0P1A9P5', 'O60383', 'L8GN38', None, 'A0A0B5EZQ3', 'L8GL10', 'A0A0P1A9P5', 'A0A0K2VLS4', 'A0A0B5EZQ3', 'Q9ULV8', 'S4R3J7', 'P05067', 'A0A0B5EZQ3', 'A0A0B5EZQ3', 'O00936', 'A0AAF5I112', 'L8GN38', 'A0AAF5I112', 'Q2KDX6', None, 'A0A583ZBF4', 'A0A0B5EZQ3', 'P05067', None, 'B6ZDR5', 'A0A0K2SWB5', 'A0A0K2TH30', 'A0A173GP47', None, 'O55239', 'A0A0B5EZQ3', 'P35968', 'L8GZV5', 'L8GIY7', 'A0A0K2SWB5', 'L8GN38', 'Q8CWI5', 'L8GZV5', 'A0A0K2V2A8', 'Q86PS1', 'F0W6D6', 'A0A0K2TLA7', 'Q9Z0P7', 'L8GN38', 'A0A1X7SK17', 'K7EJ20', 'F5CTF3', 'A0A286SD53', 'P22087', 'Q9P1Y0', None, 'A0A0B5EZQ3', 'Q84128', 'Q9UHD8', 'Q9ESJ1', 'P42641', 'Q9ZNZ7', None, 'P00157', 'P29320', 'Q23899', 'L8HGD4', 'L8GZV5', 'P16473', 'P50613', 'P42641'] with status code: 400\n",
            "No sequence data found for Accession ID: ['B2BXS0', 'Q9Z0P7', 'L8GZV5', 'P05067', 'Q9ZNZ7', 'A0A0B5EZQ3', 'P12689', 'P24232', 'A0A7S0YHP8', 'A0A0K2VLS4', 'A0A0B5EZQ3', 'L8HAM0', None, 'O43808', 'L8GN38', 'P05067', 'L8GZV5', 'P35968', 'S5RV20', 'P29320', 'P05067', 'A0A0B5EZQ3', 'O95278', 'O96028', 'Q61391', 'Q61527', 'A0A0K2VLS4', 'P11229', 'P09619', 'A0A0B5EZQ3', 'Q9ZNZ7', 'A0A0B5EZQ3', 'O86138', 'A0A0B5EZQ3', 'Q2N0S6', 'H3BU54', 'Q9ZNZ7', 'P27692', 'A0A0K2VLS4', 'A0A0K2TU93', 'A0A0B5EZQ3', 'A0A0K2UIG1', 'A0A7T8GL88', 'O51934', 'A0A7T8QTS2', 'P11086', None, 'Q2KDX6', 'B2BXS0', None, 'A0A0B5EZQ3', 'L8GZV5', None, 'Q2KDX6', None, 'A0A0K2UG27', 'L8GZV5', 'H3BJ74', 'A0A0B5EZQ3', 'P42641', 'L8GZV5', 'A0A0P1AX45', 'A0A0P1AX45', 'L8GN38', 'L8GZV5', 'P29320', 'A0A0P1AX45', 'Q9HAV4', 'L8GZV5', None, 'A0A0H3FMF8', 'L8GNA7', 'A0A7T8QTS2', 'A0A0B5EZQ3', 'H6A2B4', 'A0A0B5EZQ3', 'P07954', 'A0A0B5EZQ3', 'Q84128', 'P20154', 'L8GN15', 'A0A0B5EZQ3', 'A0A0P1A9P5', 'Q6P2Q9', 'A0A0B5EZQ3', 'L8GZV5', 'P42641', 'A0A2P2MBX9', 'A0A0K2VLS4', 'P14647', 'P20154', 'D3YY46', 'Q15024', 'L8GZV5', 'A0A0K2TLA7', 'P01308', 'A0A0K2VLS4', 'Q6PD10', 'P24462', 'L8GZV5', 'A2ASQ1', None, 'A0A0B5EZQ3', 'L8GN38', 'A0A0P1AX45', 'A0A4P9Y862', 'A0AAU8MIS4', 'A0A8S3T212', None, 'P45563', 'P10484', 'A0A0M4BXD2', 'A0A2P2LL28', 'P09619', 'A0QZY0', 'A0R2B1', 'P11352', 'A0A0B5EZQ3', 'A0A0K2VLS4', 'A0A0K2UT36', 'P05067', 'L8GL10', 'P01579', 'P62805', 'P17612', 'A0AAU8MIS4', 'Q61391', 'Q9H400', 'G5EFH8', 'A0A0B5EZQ3', 'P02699', 'Q15303', 'Q62137', 'P16554', 'A0A0D9RI81', 'L8GN38', 'P29320', 'O08967', None, 'A0A0K2VLS4', 'Q76N29', 'P19321', 'A1YKZ4', 'A0A7T8GL88', 'A0A0B5EZQ3', 'Q90738', 'A0A5N4CZL1', 'P01574', 'A0A0B5EZQ3', 'A0A0B5EZQ3', 'O13563', 'A0A0P1AX45', 'Q84128', 'P10635', 'Q9ZNZ7', 'O00936', 'A0A0B5EZQ3', 'P50750', 'A0A0M4BXD2', 'P42224', 'O95278', 'P29320', 'Q9ZNZ7', 'A0A0B5EZQ3', 'L8GZV5', 'A0A0K2VLS4', 'L8GZV5', 'A0A0B5EZQ3', 'A0A0B5EZQ3', 'A0A075F5C6', 'P11229', 'P19321', 'A0A0B5EZQ3', 'A0A669PQ19', 'A0A7T8GYP1', 'Q05397', 'A0A0K2TH30', None, 'A0A0K2VJS6', 'A0A0B5EZQ3', 'A0A0K2SWB5', 'L8HHY1', 'A0A0K2VLS4', 'P0AGB3', 'P08669', 'P45452', 'P0DW20', 'L8GZV5', 'L8GN38', 'L8GL10', 'L8GZV5', 'Q3TWR1', None, 'G3TVP2', 'A0A338P6P8', 'O95278', 'A0A0K2VLS4', 'A0A4P9Y862', 'L8GZV5', 'Q14749', 'Q9L4Q7', 'Q95M86', 'P19883', None, 'A0A7G3ZMV7', 'P0C023', 'P62805', 'O43808', 'A0A0K2VLS4', 'P61996', None, 'L8HHY1', 'P45452', 'P45452', 'Q84128', 'Q9ZNZ7', 'A0A0B5EZQ3', 'Q9Y294', 'O95278', 'L8GZV5', 'P29320', 'Q86PS1', 'Q9ZNZ7', 'Q60393', 'P19883', 'O15164', 'Q9P206', 'O35973', 'A0A160UK81', 'P05067', 'P29320', 'A0A0B5EZQ3', 'P17612', 'A0A2I0UI84', 'L8GZV5', 'P05484', 'P35968', 'P42641', 'P00489', 'A0A0K2V2L0', 'A0A0K2VLS4', 'L8GNA7', 'A0A0B5EZQ3', 'Q5QPD2', 'P20436', 'L8HAM0', 'P35367', 'P22455', 'P03192', 'A0A1X7QGS8', 'O08967', 'P00533', 'A0A0K2V9J6', 'L8GZV5', 'Q9ZNZ7', 'A0A146ZNM5', 'Q95M86', 'A0A0K2VLS4', 'P42641', 'P0AD64', 'A0A0B5EZQ3', 'Q42512', 'Q9ZNZ7', 'Q84128', 'O14757', 'A0A0B5EZQ3', 'P0A006', 'A0A338P781', 'P04629', 'L8GL10', 'L8GN38', 'A0A2L2Z9W0', 'A0A0N4SVG7', 'P19883', None, 'L8GZV5', 'L8GN38', 'P56473', 'A0A0B5EZQ3', 'A0A0K2VLS4', 'P55085', 'L8GN38', 'P29320', 'Q9ZNZ7', 'A0A7T8QTS2', 'Q63666', 'A0A0B5EZQ3', 'A0A0K2TC75', 'E7EVM8', 'A0A0K2UYJ8', 'Q16667', 'A0A0P1A9P5', 'O60383', 'L8GN38', None, 'A0A0B5EZQ3', 'L8GL10', 'A0A0P1A9P5', 'A0A0K2VLS4', 'A0A0B5EZQ3', 'Q9ULV8', 'S4R3J7', 'P05067', 'A0A0B5EZQ3', 'A0A0B5EZQ3', 'O00936', 'A0AAF5I112', 'L8GN38', 'A0AAF5I112', 'Q2KDX6', None, 'A0A583ZBF4', 'A0A0B5EZQ3', 'P05067', None, 'B6ZDR5', 'A0A0K2SWB5', 'A0A0K2TH30', 'A0A173GP47', None, 'O55239', 'A0A0B5EZQ3', 'P35968', 'L8GZV5', 'L8GIY7', 'A0A0K2SWB5', 'L8GN38', 'Q8CWI5', 'L8GZV5', 'A0A0K2V2A8', 'Q86PS1', 'F0W6D6', 'A0A0K2TLA7', 'Q9Z0P7', 'L8GN38', 'A0A1X7SK17', 'K7EJ20', 'F5CTF3', 'A0A286SD53', 'P22087', 'Q9P1Y0', None, 'A0A0B5EZQ3', 'Q84128', 'Q9UHD8', 'Q9ESJ1', 'P42641', 'Q9ZNZ7', None, 'P00157', 'P29320', 'Q23899', 'L8HGD4', 'L8GZV5', 'P16473', 'P50613', 'P42641']\n",
            "No results returned for Accession ID: ['B2BXS0', 'Q9Z0P7', 'L8GZV5', 'P05067', 'Q9ZNZ7', 'A0A0B5EZQ3', 'P12689', 'P24232', 'A0A7S0YHP8', 'A0A0K2VLS4', 'A0A0B5EZQ3', 'L8HAM0', None, 'O43808', 'L8GN38', 'P05067', 'L8GZV5', 'P35968', 'S5RV20', 'P29320', 'P05067', 'A0A0B5EZQ3', 'O95278', 'O96028', 'Q61391', 'Q61527', 'A0A0K2VLS4', 'P11229', 'P09619', 'A0A0B5EZQ3', 'Q9ZNZ7', 'A0A0B5EZQ3', 'O86138', 'A0A0B5EZQ3', 'Q2N0S6', 'H3BU54', 'Q9ZNZ7', 'P27692', 'A0A0K2VLS4', 'A0A0K2TU93', 'A0A0B5EZQ3', 'A0A0K2UIG1', 'A0A7T8GL88', 'O51934', 'A0A7T8QTS2', 'P11086', None, 'Q2KDX6', 'B2BXS0', None, 'A0A0B5EZQ3', 'L8GZV5', None, 'Q2KDX6', None, 'A0A0K2UG27', 'L8GZV5', 'H3BJ74', 'A0A0B5EZQ3', 'P42641', 'L8GZV5', 'A0A0P1AX45', 'A0A0P1AX45', 'L8GN38', 'L8GZV5', 'P29320', 'A0A0P1AX45', 'Q9HAV4', 'L8GZV5', None, 'A0A0H3FMF8', 'L8GNA7', 'A0A7T8QTS2', 'A0A0B5EZQ3', 'H6A2B4', 'A0A0B5EZQ3', 'P07954', 'A0A0B5EZQ3', 'Q84128', 'P20154', 'L8GN15', 'A0A0B5EZQ3', 'A0A0P1A9P5', 'Q6P2Q9', 'A0A0B5EZQ3', 'L8GZV5', 'P42641', 'A0A2P2MBX9', 'A0A0K2VLS4', 'P14647', 'P20154', 'D3YY46', 'Q15024', 'L8GZV5', 'A0A0K2TLA7', 'P01308', 'A0A0K2VLS4', 'Q6PD10', 'P24462', 'L8GZV5', 'A2ASQ1', None, 'A0A0B5EZQ3', 'L8GN38', 'A0A0P1AX45', 'A0A4P9Y862', 'A0AAU8MIS4', 'A0A8S3T212', None, 'P45563', 'P10484', 'A0A0M4BXD2', 'A0A2P2LL28', 'P09619', 'A0QZY0', 'A0R2B1', 'P11352', 'A0A0B5EZQ3', 'A0A0K2VLS4', 'A0A0K2UT36', 'P05067', 'L8GL10', 'P01579', 'P62805', 'P17612', 'A0AAU8MIS4', 'Q61391', 'Q9H400', 'G5EFH8', 'A0A0B5EZQ3', 'P02699', 'Q15303', 'Q62137', 'P16554', 'A0A0D9RI81', 'L8GN38', 'P29320', 'O08967', None, 'A0A0K2VLS4', 'Q76N29', 'P19321', 'A1YKZ4', 'A0A7T8GL88', 'A0A0B5EZQ3', 'Q90738', 'A0A5N4CZL1', 'P01574', 'A0A0B5EZQ3', 'A0A0B5EZQ3', 'O13563', 'A0A0P1AX45', 'Q84128', 'P10635', 'Q9ZNZ7', 'O00936', 'A0A0B5EZQ3', 'P50750', 'A0A0M4BXD2', 'P42224', 'O95278', 'P29320', 'Q9ZNZ7', 'A0A0B5EZQ3', 'L8GZV5', 'A0A0K2VLS4', 'L8GZV5', 'A0A0B5EZQ3', 'A0A0B5EZQ3', 'A0A075F5C6', 'P11229', 'P19321', 'A0A0B5EZQ3', 'A0A669PQ19', 'A0A7T8GYP1', 'Q05397', 'A0A0K2TH30', None, 'A0A0K2VJS6', 'A0A0B5EZQ3', 'A0A0K2SWB5', 'L8HHY1', 'A0A0K2VLS4', 'P0AGB3', 'P08669', 'P45452', 'P0DW20', 'L8GZV5', 'L8GN38', 'L8GL10', 'L8GZV5', 'Q3TWR1', None, 'G3TVP2', 'A0A338P6P8', 'O95278', 'A0A0K2VLS4', 'A0A4P9Y862', 'L8GZV5', 'Q14749', 'Q9L4Q7', 'Q95M86', 'P19883', None, 'A0A7G3ZMV7', 'P0C023', 'P62805', 'O43808', 'A0A0K2VLS4', 'P61996', None, 'L8HHY1', 'P45452', 'P45452', 'Q84128', 'Q9ZNZ7', 'A0A0B5EZQ3', 'Q9Y294', 'O95278', 'L8GZV5', 'P29320', 'Q86PS1', 'Q9ZNZ7', 'Q60393', 'P19883', 'O15164', 'Q9P206', 'O35973', 'A0A160UK81', 'P05067', 'P29320', 'A0A0B5EZQ3', 'P17612', 'A0A2I0UI84', 'L8GZV5', 'P05484', 'P35968', 'P42641', 'P00489', 'A0A0K2V2L0', 'A0A0K2VLS4', 'L8GNA7', 'A0A0B5EZQ3', 'Q5QPD2', 'P20436', 'L8HAM0', 'P35367', 'P22455', 'P03192', 'A0A1X7QGS8', 'O08967', 'P00533', 'A0A0K2V9J6', 'L8GZV5', 'Q9ZNZ7', 'A0A146ZNM5', 'Q95M86', 'A0A0K2VLS4', 'P42641', 'P0AD64', 'A0A0B5EZQ3', 'Q42512', 'Q9ZNZ7', 'Q84128', 'O14757', 'A0A0B5EZQ3', 'P0A006', 'A0A338P781', 'P04629', 'L8GL10', 'L8GN38', 'A0A2L2Z9W0', 'A0A0N4SVG7', 'P19883', None, 'L8GZV5', 'L8GN38', 'P56473', 'A0A0B5EZQ3', 'A0A0K2VLS4', 'P55085', 'L8GN38', 'P29320', 'Q9ZNZ7', 'A0A7T8QTS2', 'Q63666', 'A0A0B5EZQ3', 'A0A0K2TC75', 'E7EVM8', 'A0A0K2UYJ8', 'Q16667', 'A0A0P1A9P5', 'O60383', 'L8GN38', None, 'A0A0B5EZQ3', 'L8GL10', 'A0A0P1A9P5', 'A0A0K2VLS4', 'A0A0B5EZQ3', 'Q9ULV8', 'S4R3J7', 'P05067', 'A0A0B5EZQ3', 'A0A0B5EZQ3', 'O00936', 'A0AAF5I112', 'L8GN38', 'A0AAF5I112', 'Q2KDX6', None, 'A0A583ZBF4', 'A0A0B5EZQ3', 'P05067', None, 'B6ZDR5', 'A0A0K2SWB5', 'A0A0K2TH30', 'A0A173GP47', None, 'O55239', 'A0A0B5EZQ3', 'P35968', 'L8GZV5', 'L8GIY7', 'A0A0K2SWB5', 'L8GN38', 'Q8CWI5', 'L8GZV5', 'A0A0K2V2A8', 'Q86PS1', 'F0W6D6', 'A0A0K2TLA7', 'Q9Z0P7', 'L8GN38', 'A0A1X7SK17', 'K7EJ20', 'F5CTF3', 'A0A286SD53', 'P22087', 'Q9P1Y0', None, 'A0A0B5EZQ3', 'Q84128', 'Q9UHD8', 'Q9ESJ1', 'P42641', 'Q9ZNZ7', None, 'P00157', 'P29320', 'Q23899', 'L8HGD4', 'L8GZV5', 'P16473', 'P50613', 'P42641']\n",
            "UniProt query failed for ['P10635', 'A1Z198', 'Q5SYQ8', 'E9Q652', 'I3L1D5', 'P0C023', 'P15428', 'E5RIP7', 'A0A286YES9', 'P76256', 'I0DEB3', 'P0C023', 'Q3UW60', 'H6V745', 'A0A090N8Q0', 'P76256', 'Q00987', 'P0C023', 'P33261', 'P0C023', 'P14647', 'E7EVM8', 'K0IX92', 'I0DEB3', 'P98170', 'S5RV20', 'Q8BQB2', 'Q8BUN5', 'Q8IUH5', 'P16050', 'A0A338P781', 'P05484', 'Q8W209', 'P57764', 'P05177', 'P02008', 'Q9Y294', 'P22217', 'P0C023', 'A0A1B0RYB7', None, 'Q9UGJ4', 'A2A5Y6', 'D0VY79', 'K7ENN9', 'P59768', 'P0C023', 'I2E4T2'] with status code: 400\n",
            "No sequence data found for Accession ID: ['P10635', 'A1Z198', 'Q5SYQ8', 'E9Q652', 'I3L1D5', 'P0C023', 'P15428', 'E5RIP7', 'A0A286YES9', 'P76256', 'I0DEB3', 'P0C023', 'Q3UW60', 'H6V745', 'A0A090N8Q0', 'P76256', 'Q00987', 'P0C023', 'P33261', 'P0C023', 'P14647', 'E7EVM8', 'K0IX92', 'I0DEB3', 'P98170', 'S5RV20', 'Q8BQB2', 'Q8BUN5', 'Q8IUH5', 'P16050', 'A0A338P781', 'P05484', 'Q8W209', 'P57764', 'P05177', 'P02008', 'Q9Y294', 'P22217', 'P0C023', 'A0A1B0RYB7', None, 'Q9UGJ4', 'A2A5Y6', 'D0VY79', 'K7ENN9', 'P59768', 'P0C023', 'I2E4T2']\n",
            "No results returned for Accession ID: ['P10635', 'A1Z198', 'Q5SYQ8', 'E9Q652', 'I3L1D5', 'P0C023', 'P15428', 'E5RIP7', 'A0A286YES9', 'P76256', 'I0DEB3', 'P0C023', 'Q3UW60', 'H6V745', 'A0A090N8Q0', 'P76256', 'Q00987', 'P0C023', 'P33261', 'P0C023', 'P14647', 'E7EVM8', 'K0IX92', 'I0DEB3', 'P98170', 'S5RV20', 'Q8BQB2', 'Q8BUN5', 'Q8IUH5', 'P16050', 'A0A338P781', 'P05484', 'Q8W209', 'P57764', 'P05177', 'P02008', 'Q9Y294', 'P22217', 'P0C023', 'A0A1B0RYB7', None, 'Q9UGJ4', 'A2A5Y6', 'D0VY79', 'K7ENN9', 'P59768', 'P0C023', 'I2E4T2']\n",
            "UniProt query failed for [] with status code: 400\n",
            "No sequence data found for Accession ID: []\n",
            "No results returned for Accession ID: []\n",
            "UniProt query failed for ['Q61026', 'O00255', 'P47928', 'Q9ULV8', 'Q8QG78', 'P07954', 'P00533', 'S4R3J7', 'Q921E6', 'P62805', 'P61964', 'A0A8A5GQJ2', 'P01579', 'P62805', 'Q32GM1', 'V9GX90', 'P0C023', 'O53996', 'A0A0A0MQF6', 'A0A286SD53', 'Q9JJE1', 'O55239', 'Q00987', 'Q9P1Y0', 'Q32GM1', 'B7ZC18', 'Q0QER9', 'A2AFL5', 'P0C023', 'Q01831', 'P0C023', 'Q99N57', 'O23310', 'P0C023', 'P04062', 'A0A0D9RI81', 'P11086', 'A0A338P781', 'P0C023', 'P11352', 'Q9Y294', 'Q15648', 'O96028', 'Q14749', 'Q9UBT6', 'Q2TS46', 'P54132'] with status code: 400\n",
            "No sequence data found for Accession ID: ['Q61026', 'O00255', 'P47928', 'Q9ULV8', 'Q8QG78', 'P07954', 'P00533', 'S4R3J7', 'Q921E6', 'P62805', 'P61964', 'A0A8A5GQJ2', 'P01579', 'P62805', 'Q32GM1', 'V9GX90', 'P0C023', 'O53996', 'A0A0A0MQF6', 'A0A286SD53', 'Q9JJE1', 'O55239', 'Q00987', 'Q9P1Y0', 'Q32GM1', 'B7ZC18', 'Q0QER9', 'A2AFL5', 'P0C023', 'Q01831', 'P0C023', 'Q99N57', 'O23310', 'P0C023', 'P04062', 'A0A0D9RI81', 'P11086', 'A0A338P781', 'P0C023', 'P11352', 'Q9Y294', 'Q15648', 'O96028', 'Q14749', 'Q9UBT6', 'Q2TS46', 'P54132']\n",
            "No results returned for Accession ID: ['Q61026', 'O00255', 'P47928', 'Q9ULV8', 'Q8QG78', 'P07954', 'P00533', 'S4R3J7', 'Q921E6', 'P62805', 'P61964', 'A0A8A5GQJ2', 'P01579', 'P62805', 'Q32GM1', 'V9GX90', 'P0C023', 'O53996', 'A0A0A0MQF6', 'A0A286SD53', 'Q9JJE1', 'O55239', 'Q00987', 'Q9P1Y0', 'Q32GM1', 'B7ZC18', 'Q0QER9', 'A2AFL5', 'P0C023', 'Q01831', 'P0C023', 'Q99N57', 'O23310', 'P0C023', 'P04062', 'A0A0D9RI81', 'P11086', 'A0A338P781', 'P0C023', 'P11352', 'Q9Y294', 'Q15648', 'O96028', 'Q14749', 'Q9UBT6', 'Q2TS46', 'P54132']\n",
            "UniProt query failed for ['A8AFI6', 'A0A6A7G2R9', 'Q5SYQ8', 'D2KUA6', 'O75376', 'A4ZYQ5', 'Q9AYY6', 'Q00403', 'P23221', 'O53996', 'H6V745', 'P23221', 'Q06609', 'Q9UMX1', 'O14757', 'P0C023', 'A2AFL5', 'P33261', 'P0C023', 'Q64429', 'Q01831', 'Q9CRZ0', 'P0C023', 'P53762', 'A0A348FV96', 'E7EVM8', 'P23221', 'Q8IBS5', None, 'P04062', 'S5RV20', 'Q9CRZ0', 'P10484', None, 'P23221', 'Q76NM3', 'Q6P8H4', 'P11352', 'P57764', None, 'P0C023', None, 'D0VY79', 'P98170', 'Q15648', 'O96028', 'O00255', 'G3I968', 'Q2TBE6', 'P34981', 'G3V554', 'Q8QG78', 'S4R3J7', 'K7EJT3', 'P0C023', 'P0C023', 'P62344', 'P15428', 'Q8TDV0', 'P38749', 'V9GX90', 'P0C023', 'B6ZGS9', 'G3UYV4', 'A0A090N8Q0', 'Q00987', 'A0A6C0VVD5', 'Q92087', 'Q546I3', 'H3BU54', 'P23221', 'D6RA31', 'P0C1Z0', 'P10276', 'P23221', 'Q92AY7', 'P23221', 'P0C023', 'P0C023', 'A0A3G2C3P2', 'A0A087WWV0', 'P23221', 'O35240', 'P0C023', 'Q7K2V1', 'Q14145', 'Q1K8B6', 'K7ENN9', 'Q9UBT6', 'Q5DRK1', 'Q6QI98', 'A8AFI6', 'I3L1D5', 'P40676', 'Q6GZ69', 'E5RIP7', 'Q8I629', 'O70305', 'A0A0A0MQF6', 'D7PC76', 'Q969F8', 'Q8IDW1', 'Q8WZA2', 'Q9Y351', 'Q9IK91', 'A8AFI6', 'Q9Y351', 'O23310', 'P98170', 'P16791', 'B4DGM9', 'C9JXR7', 'P23221', 'P05484', 'P01574', 'P16794', 'C9J3N8', 'P02008', 'P05177', 'H3BKA8', 'G3V4M2', 'H9NIL6', 'P22455', 'P59768', 'P10635', 'I2E4T2', 'A0A8C8T6K8', 'P54132', 'Q61026', 'P35462', 'E9Q652', 'P07954', 'Q8BJQ2', 'P36649', 'P61964', 'K7RMT3', 'K7EJ20', 'A0A2I0UBX0', 'Q3UW60', None, 'I6L9I6', 'Q8QG78', 'P11474', 'K7ESI8', 'Q8V4R0', 'P14647', 'P0C023', 'D3YY46', 'Q04830', 'P23221', 'Q8C762', 'Q8IUH5', 'P04610', 'P16050', 'A0A338P781', 'P23221', 'Q8BUN5', 'P0C023', 'Q8W209', 'Q00987', 'C9JXR7', 'A0A481XUV9', 'A0A1B0RYB7', 'A2A5Y6', 'Q6PD10', 'Q15648', 'O96214', 'P24462', 'Q2TS46'] with status code: 400\n",
            "No sequence data found for Accession ID: ['A8AFI6', 'A0A6A7G2R9', 'Q5SYQ8', 'D2KUA6', 'O75376', 'A4ZYQ5', 'Q9AYY6', 'Q00403', 'P23221', 'O53996', 'H6V745', 'P23221', 'Q06609', 'Q9UMX1', 'O14757', 'P0C023', 'A2AFL5', 'P33261', 'P0C023', 'Q64429', 'Q01831', 'Q9CRZ0', 'P0C023', 'P53762', 'A0A348FV96', 'E7EVM8', 'P23221', 'Q8IBS5', None, 'P04062', 'S5RV20', 'Q9CRZ0', 'P10484', None, 'P23221', 'Q76NM3', 'Q6P8H4', 'P11352', 'P57764', None, 'P0C023', None, 'D0VY79', 'P98170', 'Q15648', 'O96028', 'O00255', 'G3I968', 'Q2TBE6', 'P34981', 'G3V554', 'Q8QG78', 'S4R3J7', 'K7EJT3', 'P0C023', 'P0C023', 'P62344', 'P15428', 'Q8TDV0', 'P38749', 'V9GX90', 'P0C023', 'B6ZGS9', 'G3UYV4', 'A0A090N8Q0', 'Q00987', 'A0A6C0VVD5', 'Q92087', 'Q546I3', 'H3BU54', 'P23221', 'D6RA31', 'P0C1Z0', 'P10276', 'P23221', 'Q92AY7', 'P23221', 'P0C023', 'P0C023', 'A0A3G2C3P2', 'A0A087WWV0', 'P23221', 'O35240', 'P0C023', 'Q7K2V1', 'Q14145', 'Q1K8B6', 'K7ENN9', 'Q9UBT6', 'Q5DRK1', 'Q6QI98', 'A8AFI6', 'I3L1D5', 'P40676', 'Q6GZ69', 'E5RIP7', 'Q8I629', 'O70305', 'A0A0A0MQF6', 'D7PC76', 'Q969F8', 'Q8IDW1', 'Q8WZA2', 'Q9Y351', 'Q9IK91', 'A8AFI6', 'Q9Y351', 'O23310', 'P98170', 'P16791', 'B4DGM9', 'C9JXR7', 'P23221', 'P05484', 'P01574', 'P16794', 'C9J3N8', 'P02008', 'P05177', 'H3BKA8', 'G3V4M2', 'H9NIL6', 'P22455', 'P59768', 'P10635', 'I2E4T2', 'A0A8C8T6K8', 'P54132', 'Q61026', 'P35462', 'E9Q652', 'P07954', 'Q8BJQ2', 'P36649', 'P61964', 'K7RMT3', 'K7EJ20', 'A0A2I0UBX0', 'Q3UW60', None, 'I6L9I6', 'Q8QG78', 'P11474', 'K7ESI8', 'Q8V4R0', 'P14647', 'P0C023', 'D3YY46', 'Q04830', 'P23221', 'Q8C762', 'Q8IUH5', 'P04610', 'P16050', 'A0A338P781', 'P23221', 'Q8BUN5', 'P0C023', 'Q8W209', 'Q00987', 'C9JXR7', 'A0A481XUV9', 'A0A1B0RYB7', 'A2A5Y6', 'Q6PD10', 'Q15648', 'O96214', 'P24462', 'Q2TS46']\n",
            "No results returned for Accession ID: ['A8AFI6', 'A0A6A7G2R9', 'Q5SYQ8', 'D2KUA6', 'O75376', 'A4ZYQ5', 'Q9AYY6', 'Q00403', 'P23221', 'O53996', 'H6V745', 'P23221', 'Q06609', 'Q9UMX1', 'O14757', 'P0C023', 'A2AFL5', 'P33261', 'P0C023', 'Q64429', 'Q01831', 'Q9CRZ0', 'P0C023', 'P53762', 'A0A348FV96', 'E7EVM8', 'P23221', 'Q8IBS5', None, 'P04062', 'S5RV20', 'Q9CRZ0', 'P10484', None, 'P23221', 'Q76NM3', 'Q6P8H4', 'P11352', 'P57764', None, 'P0C023', None, 'D0VY79', 'P98170', 'Q15648', 'O96028', 'O00255', 'G3I968', 'Q2TBE6', 'P34981', 'G3V554', 'Q8QG78', 'S4R3J7', 'K7EJT3', 'P0C023', 'P0C023', 'P62344', 'P15428', 'Q8TDV0', 'P38749', 'V9GX90', 'P0C023', 'B6ZGS9', 'G3UYV4', 'A0A090N8Q0', 'Q00987', 'A0A6C0VVD5', 'Q92087', 'Q546I3', 'H3BU54', 'P23221', 'D6RA31', 'P0C1Z0', 'P10276', 'P23221', 'Q92AY7', 'P23221', 'P0C023', 'P0C023', 'A0A3G2C3P2', 'A0A087WWV0', 'P23221', 'O35240', 'P0C023', 'Q7K2V1', 'Q14145', 'Q1K8B6', 'K7ENN9', 'Q9UBT6', 'Q5DRK1', 'Q6QI98', 'A8AFI6', 'I3L1D5', 'P40676', 'Q6GZ69', 'E5RIP7', 'Q8I629', 'O70305', 'A0A0A0MQF6', 'D7PC76', 'Q969F8', 'Q8IDW1', 'Q8WZA2', 'Q9Y351', 'Q9IK91', 'A8AFI6', 'Q9Y351', 'O23310', 'P98170', 'P16791', 'B4DGM9', 'C9JXR7', 'P23221', 'P05484', 'P01574', 'P16794', 'C9J3N8', 'P02008', 'P05177', 'H3BKA8', 'G3V4M2', 'H9NIL6', 'P22455', 'P59768', 'P10635', 'I2E4T2', 'A0A8C8T6K8', 'P54132', 'Q61026', 'P35462', 'E9Q652', 'P07954', 'Q8BJQ2', 'P36649', 'P61964', 'K7RMT3', 'K7EJ20', 'A0A2I0UBX0', 'Q3UW60', None, 'I6L9I6', 'Q8QG78', 'P11474', 'K7ESI8', 'Q8V4R0', 'P14647', 'P0C023', 'D3YY46', 'Q04830', 'P23221', 'Q8C762', 'Q8IUH5', 'P04610', 'P16050', 'A0A338P781', 'P23221', 'Q8BUN5', 'P0C023', 'Q8W209', 'Q00987', 'C9JXR7', 'A0A481XUV9', 'A0A1B0RYB7', 'A2A5Y6', 'Q6PD10', 'Q15648', 'O96214', 'P24462', 'Q2TS46']\n",
            "UniProt query failed for ['W8R5U2', 'I0DEB3', 'I0DEB3', 'P0C023'] with status code: 400\n",
            "No sequence data found for Accession ID: ['W8R5U2', 'I0DEB3', 'I0DEB3', 'P0C023']\n",
            "No results returned for Accession ID: ['W8R5U2', 'I0DEB3', 'I0DEB3', 'P0C023']\n",
            "UniProt query failed for ['Q8R193', 'Q9Z0P7', 'L8GZV5', 'L8GJ09', 'P05067', 'L8GN38', 'Q9ZNZ7', 'A0A0B5EZQ3', 'Q07955', 'P0AD64', 'Q9ZNZ7', 'Q9BUL8', 'L8GL10', 'A0A0B5EZQ3', 'A0A7T8QTS2', None, 'A0A0K2VLS4', 'A0A0B5EZQ3', 'A0A0B5EZQ3', 'A0A0K2VLS4', 'L8HAM0', 'F0W6D6', None, 'L8GN38', 'P05067', 'L8GZV5', 'O43741', 'P35968', 'P17252', 'P49761', 'P29320', 'P05067', 'E9PUQ0', 'A0A0B5EZQ3', 'A0A1W2P6J6', 'Q61391', 'A0A0K2VLS4', 'P09619', 'A0A0B5EZQ3', 'A0A0B5EZQ3', 'P11362', 'A0A0K2VLS4', 'Q9ZNZ7', 'A0A0B5EZQ3', 'C9JIG9', 'A0A0B5EZQ3', 'Q9P206', 'L8EAA4', 'A0A0B5EZQ3', 'P01308', 'Q3UKP8', 'A0A7J7RU22', 'A0A0B5EZQ3', 'A0A0B5EZQ3', 'Q9ZNZ7', 'Q96B23', 'A0A0B5EZQ3', 'A0A0K2VLS4', 'P13234', 'A0A0K2TU93', 'A0A0K2UIG1', 'A0A0B5EZQ3', 'Q3UWH3', 'L8GN38', 'L8GZV5', 'Q9H4B6', 'A0A0B5EZQ3', 'L8GZV5', 'A0A0B5EZQ3', 'A0A0B5EZQ3', None, 'L8GZV5', None, 'P54645', 'K9J973', 'A0A7T8GXX0', 'A0A0B5EZQ3', 'P61023', None, 'Q92630', 'A0A0B5EZQ3', 'A0A0B5EZQ3', 'A0A0K2UG27', 'L8GZV5', 'H3BJ74', None, 'L8GN38', 'Q96NX5', 'A0A0B5EZQ3', 'P56279', 'A0A0B5EZQ3', None, 'Q3UU60', 'O08967', 'Q80UE6', 'A0A0B5EZQ3', 'A0A1D5RM55', 'P42641', 'A0A7T8GXX0', 'L8GN38', 'A0A0P1A9P5', 'Q9ZNZ7', 'L8GZV5', 'A0A034V6V0', 'L8GN38', 'L8GZV5', 'O08530', 'P29320', 'L8GZV5', 'A0A0B5EZQ3', 'P35968', 'H7C3L9', 'L8GZV5', 'Q9ZNZ7', 'L8GL10', 'Q99640', None, None, 'L8GNA7', 'Q9Z2N6', 'A0A7T8QTS2', 'O08967', 'O14974', 'Q3U5I9', 'A0A034V6V0', 'A0A0B5EZQ3', 'A0A0B5EZQ3', 'Q8BWJ3', 'A0A0B5EZQ3', 'Q84128', 'P20154', 'A0A0B5EZQ3', 'P17612', 'O08530', 'A0A0B5EZQ3', 'G3V2F1', 'A0A0B5EZQ3', None, 'L8GZV5', 'P42641', 'Q63694', 'P0AD64', 'A0A0K2VLS4', 'A0A0B5EZQ3', 'P14647', 'P20154', 'A0A0B5EZQ3', 'A0A0K2VLS4', 'A0A0K2VLS4', 'Q9UNH7', 'Q9ZNZ7', 'L8GZV5', 'P01308', 'P08100', 'A0A0K2VLS4', 'O88951', 'P19883', 'L8GZV5', None, 'L8GZV5', 'L8GN38', 'H0YE65', None, 'Q16566', 'Q9UGI9', 'A0A0B5EZQ3', 'A0A4P9Y862', 'A0A0K2VLS4', 'A0A8S3T212', 'P20827', 'A0A0B5EZQ3', None, 'A0A7T8GL88', 'A0A0B5EZQ3', 'A0A0B5EZQ3', 'Q8TCX1', 'A0A0B5EZQ3', 'P09619', 'L8GN38', 'A0A0K2VLS4', 'A0A0B5EZQ3', 'D3Z0E8', 'P54645', 'L8GL10', 'A0A0K2VLS4', 'P05067', 'P70662', 'O35973', 'L8GL10', 'P01579', 'A0A0D9SFF9', 'A8MPY5', 'P22455', 'A0A0B5EZQ3', 'P17612', 'P05067', 'A0A0B5EZQ3', None, 'Q61391', 'P29320', 'Q9H400', 'F0WUK3', 'B1APG3', 'A0A0B5EZQ3', 'A0A0B5EZQ3', 'A0A2P9DU05', 'K4DI97', 'O08967', 'P02699', 'Q96P20', 'Q27934', 'P16554', 'L8GN38', 'P29320', 'P22893', 'X5DP03', 'O08967', 'A0A0B5EZQ3', 'A0A034V6V0', 'A0A0B5EZQ3', None, 'Q60393', 'P29590', 'D0QEB1', 'O08967', 'P58750', 'A0A0K2VLS4', 'P19321', 'A0A0B5EZQ3', 'A0A7T8GL88', 'A0A0B5EZQ3', 'Q8V2Y5', 'Q3UER5', 'Q8VDQ8', 'Q90738', 'L8GN38', 'A0A0B5EZQ3', 'A0A5N4CZL1', 'A0A0B5EZQ3', 'A0A0B5EZQ3', 'L8GL10', 'Q84128', 'Q9ZNZ7', 'O00936', 'A0A0B5EZQ3', 'P50750', 'Q3U335', 'P42224', 'Q91Y86', 'Q96L34', None, 'O08967', 'A0A0B5EZQ3', 'O95278', 'P29320', 'Q9JJE1', 'O00936', 'Q9ZNZ7', 'A0A0B5EZQ3', 'A0AAU8MIS4', 'L8GZV5', 'A0A0K2VLS4', 'L8GZV5', 'A0A0B5EZQ3', 'A0A0B5EZQ3', 'B2RXQ4', 'P54764', 'A0A075F5C6', 'A0A0B5EZQ3', 'Q61391', 'Q543X6', 'P15056', 'Q3UHJ0', 'P29590', None, 'A0A0B5EZQ3', 'Q3U3Q1', 'P35968', 'L8GN38', 'Q05397', 'Q9ZNZ7', 'A0A087YI01', 'A0A0K2SWB5', 'B0LPE5', 'Q5KQU0', 'A0A0K2VLS4', 'M0R0L9', 'A0A0K2VLS4', 'M2RU91', 'Q24324', 'P45452', 'H0YIY6', 'L8GZV5', 'L8GN38', 'L8GL10', 'Q3TWR1', 'L8GZV5', 'Q99N57', None, 'A0A0B5EZQ3', 'A0A338P6P8', 'K9J973', 'Q8BP64', 'A0A0K2VLS4', 'L8GL10', 'A0A7T8GL88', 'A0A4P9Y862', 'S4R1B9', 'L8GZV5', 'O15520', 'Q95M86', 'Q543Z5', 'Q9FNN3', 'P19883', 'O14757', None, 'A0A0K2VLS4', None, 'A0A0K2VLS4', 'A0A7T8JU86', 'P45452', 'A0A0B5EZQ3', 'P40763', 'Q9WTU6', 'A0A0B5EZQ3', 'A0A0B5EZQ3', 'P45452', 'Q84128', 'P09619', 'P09581', 'Q9ZNZ7', 'A0A0B5EZQ3', 'A0A0B5EZQ3', 'P05230', 'A0A090N8Q6', 'A0A0G2JE54', 'Q9Y294', 'Q95M86', 'O95278', 'L8GZV5', 'A0A0B5EZQ3', 'F0WHW1', 'P29320', 'Q9ZNZ7', 'P29320', None, 'A0A0K2VLS4', 'P19883', 'K7ERP6', 'I3L213', None, 'Q6P5G0', 'O15164', 'Q9P206', 'O08530', 'O35973', 'P05067', 'P29320', 'A0A0B5EZQ3', 'L8GZV5', 'P29320', 'P17612', 'Q60669', 'L8GN38', 'O55098', 'L8GZV5', 'A0A0B5EZQ3', None, 'P05484', 'P00489', 'P35968', 'P42641', 'P00489', 'A0A0K2VLS4', 'H6BF78', 'L8GNA7', 'A0A0B5EZQ3', 'Q5QPD2', 'E9PPA5', 'L8HAM0', 'A0A140T905', 'O08967', 'P22455', 'Q9JI11', 'P29320', 'L8GZV5', 'Q9ZNZ7', 'A0A0B5EZQ3', None, 'Q95M86', 'A0A0K2VLS4', 'P42641', 'D3Z472', 'P0AD64', 'A0A0B5EZQ3', 'Q42512', 'Q9ZNZ7', 'P75990', 'Q9ZNZ7', 'Q84128', 'A0A0B5EZQ3', 'P00489', 'Q84128', 'A0A338P781', 'A0A0B5EZQ3', 'L8GL10', 'L8GN38', 'A0A0N4SVG7', 'P19883', 'Q9UEE5', 'P08100', 'L8GZV5', 'L8GN38', 'A0A0B5EZQ3', 'A0A0K2VLS4', 'P22681', 'P55085', 'L8GN38', 'P29320', 'L8GZV5', 'A0A7T8QTS2', 'P50613', 'A0A0B5EZQ3', 'O43257', 'A0A8S3T212', None, 'A0A0B5EZQ3', 'A0A0K2TC75', 'P22315', 'Q16667', 'H3BAS6', 'J3KNN3', 'O00936', 'A0A0B5EZQ3', None, 'A0A0U1RQ87', 'O08967', 'Q5U421', None, 'A0A0P1A9P5', 'L8GL10', 'A0A0K2VLS4', 'A0A0K2VLS4', 'A0A0B5EZQ3', 'L8GN38', 'A0A0B5EZQ3', 'P05067', 'A0A0B5EZQ3', 'L8GL10', 'A0A0B5EZQ3', 'P29320', 'A0A0B5EZQ3', 'A0A0B5EZQ3', 'A9C478', 'F5GY51', 'L8GZV5', 'A0AAF5I112', 'A0A0B5EZQ3', 'P46020', 'O00560', 'A0A0K2VLS4', 'P78310', 'O08967', 'A0AAF5I112', 'A0A0B5EZQ3', 'P22612', None, 'P42641', 'A2A2U4', 'A0A0B5EZQ3', 'Q8C050', 'P05067', 'E9PWG9', 'L8GZV5', 'L8GZV5', 'P36888', 'A0A0B5EZQ3', None, 'A0A0K2SWB5', 'A8MY48', 'L8GZV5', 'A0A2P9DU05', 'A0A5Q0EH38', 'A0A0K2VLS4', 'P05067', 'A0A0B5EZQ3', 'L8GZV5', 'Q9ZNZ7', 'Q544A0', 'A0A0K2SWB5', 'L8GN38', 'L8GZV5', 'Q61391', 'Q8TD08', 'O08967', 'A0A0K2V2A8', 'L8GZV5', 'F0W6D6', None, 'A0A286YES9', 'Q9H2X6', 'Q8VGC3', 'Q9BRL4', 'A0A494B9K8', 'O94986', 'Q84128', 'P42345', None, 'B5BTY5', 'A0A0B5EZQ3', 'Q84128', 'Q9ESJ1', 'P42641', 'Q9ZNZ7', None, 'P46531', 'P29320', 'Q23899', 'L8GZV5', 'O08967', 'P50613', 'P42641', 'A0A0B5EZQ3'] with status code: 400\n",
            "No sequence data found for Accession ID: ['Q8R193', 'Q9Z0P7', 'L8GZV5', 'L8GJ09', 'P05067', 'L8GN38', 'Q9ZNZ7', 'A0A0B5EZQ3', 'Q07955', 'P0AD64', 'Q9ZNZ7', 'Q9BUL8', 'L8GL10', 'A0A0B5EZQ3', 'A0A7T8QTS2', None, 'A0A0K2VLS4', 'A0A0B5EZQ3', 'A0A0B5EZQ3', 'A0A0K2VLS4', 'L8HAM0', 'F0W6D6', None, 'L8GN38', 'P05067', 'L8GZV5', 'O43741', 'P35968', 'P17252', 'P49761', 'P29320', 'P05067', 'E9PUQ0', 'A0A0B5EZQ3', 'A0A1W2P6J6', 'Q61391', 'A0A0K2VLS4', 'P09619', 'A0A0B5EZQ3', 'A0A0B5EZQ3', 'P11362', 'A0A0K2VLS4', 'Q9ZNZ7', 'A0A0B5EZQ3', 'C9JIG9', 'A0A0B5EZQ3', 'Q9P206', 'L8EAA4', 'A0A0B5EZQ3', 'P01308', 'Q3UKP8', 'A0A7J7RU22', 'A0A0B5EZQ3', 'A0A0B5EZQ3', 'Q9ZNZ7', 'Q96B23', 'A0A0B5EZQ3', 'A0A0K2VLS4', 'P13234', 'A0A0K2TU93', 'A0A0K2UIG1', 'A0A0B5EZQ3', 'Q3UWH3', 'L8GN38', 'L8GZV5', 'Q9H4B6', 'A0A0B5EZQ3', 'L8GZV5', 'A0A0B5EZQ3', 'A0A0B5EZQ3', None, 'L8GZV5', None, 'P54645', 'K9J973', 'A0A7T8GXX0', 'A0A0B5EZQ3', 'P61023', None, 'Q92630', 'A0A0B5EZQ3', 'A0A0B5EZQ3', 'A0A0K2UG27', 'L8GZV5', 'H3BJ74', None, 'L8GN38', 'Q96NX5', 'A0A0B5EZQ3', 'P56279', 'A0A0B5EZQ3', None, 'Q3UU60', 'O08967', 'Q80UE6', 'A0A0B5EZQ3', 'A0A1D5RM55', 'P42641', 'A0A7T8GXX0', 'L8GN38', 'A0A0P1A9P5', 'Q9ZNZ7', 'L8GZV5', 'A0A034V6V0', 'L8GN38', 'L8GZV5', 'O08530', 'P29320', 'L8GZV5', 'A0A0B5EZQ3', 'P35968', 'H7C3L9', 'L8GZV5', 'Q9ZNZ7', 'L8GL10', 'Q99640', None, None, 'L8GNA7', 'Q9Z2N6', 'A0A7T8QTS2', 'O08967', 'O14974', 'Q3U5I9', 'A0A034V6V0', 'A0A0B5EZQ3', 'A0A0B5EZQ3', 'Q8BWJ3', 'A0A0B5EZQ3', 'Q84128', 'P20154', 'A0A0B5EZQ3', 'P17612', 'O08530', 'A0A0B5EZQ3', 'G3V2F1', 'A0A0B5EZQ3', None, 'L8GZV5', 'P42641', 'Q63694', 'P0AD64', 'A0A0K2VLS4', 'A0A0B5EZQ3', 'P14647', 'P20154', 'A0A0B5EZQ3', 'A0A0K2VLS4', 'A0A0K2VLS4', 'Q9UNH7', 'Q9ZNZ7', 'L8GZV5', 'P01308', 'P08100', 'A0A0K2VLS4', 'O88951', 'P19883', 'L8GZV5', None, 'L8GZV5', 'L8GN38', 'H0YE65', None, 'Q16566', 'Q9UGI9', 'A0A0B5EZQ3', 'A0A4P9Y862', 'A0A0K2VLS4', 'A0A8S3T212', 'P20827', 'A0A0B5EZQ3', None, 'A0A7T8GL88', 'A0A0B5EZQ3', 'A0A0B5EZQ3', 'Q8TCX1', 'A0A0B5EZQ3', 'P09619', 'L8GN38', 'A0A0K2VLS4', 'A0A0B5EZQ3', 'D3Z0E8', 'P54645', 'L8GL10', 'A0A0K2VLS4', 'P05067', 'P70662', 'O35973', 'L8GL10', 'P01579', 'A0A0D9SFF9', 'A8MPY5', 'P22455', 'A0A0B5EZQ3', 'P17612', 'P05067', 'A0A0B5EZQ3', None, 'Q61391', 'P29320', 'Q9H400', 'F0WUK3', 'B1APG3', 'A0A0B5EZQ3', 'A0A0B5EZQ3', 'A0A2P9DU05', 'K4DI97', 'O08967', 'P02699', 'Q96P20', 'Q27934', 'P16554', 'L8GN38', 'P29320', 'P22893', 'X5DP03', 'O08967', 'A0A0B5EZQ3', 'A0A034V6V0', 'A0A0B5EZQ3', None, 'Q60393', 'P29590', 'D0QEB1', 'O08967', 'P58750', 'A0A0K2VLS4', 'P19321', 'A0A0B5EZQ3', 'A0A7T8GL88', 'A0A0B5EZQ3', 'Q8V2Y5', 'Q3UER5', 'Q8VDQ8', 'Q90738', 'L8GN38', 'A0A0B5EZQ3', 'A0A5N4CZL1', 'A0A0B5EZQ3', 'A0A0B5EZQ3', 'L8GL10', 'Q84128', 'Q9ZNZ7', 'O00936', 'A0A0B5EZQ3', 'P50750', 'Q3U335', 'P42224', 'Q91Y86', 'Q96L34', None, 'O08967', 'A0A0B5EZQ3', 'O95278', 'P29320', 'Q9JJE1', 'O00936', 'Q9ZNZ7', 'A0A0B5EZQ3', 'A0AAU8MIS4', 'L8GZV5', 'A0A0K2VLS4', 'L8GZV5', 'A0A0B5EZQ3', 'A0A0B5EZQ3', 'B2RXQ4', 'P54764', 'A0A075F5C6', 'A0A0B5EZQ3', 'Q61391', 'Q543X6', 'P15056', 'Q3UHJ0', 'P29590', None, 'A0A0B5EZQ3', 'Q3U3Q1', 'P35968', 'L8GN38', 'Q05397', 'Q9ZNZ7', 'A0A087YI01', 'A0A0K2SWB5', 'B0LPE5', 'Q5KQU0', 'A0A0K2VLS4', 'M0R0L9', 'A0A0K2VLS4', 'M2RU91', 'Q24324', 'P45452', 'H0YIY6', 'L8GZV5', 'L8GN38', 'L8GL10', 'Q3TWR1', 'L8GZV5', 'Q99N57', None, 'A0A0B5EZQ3', 'A0A338P6P8', 'K9J973', 'Q8BP64', 'A0A0K2VLS4', 'L8GL10', 'A0A7T8GL88', 'A0A4P9Y862', 'S4R1B9', 'L8GZV5', 'O15520', 'Q95M86', 'Q543Z5', 'Q9FNN3', 'P19883', 'O14757', None, 'A0A0K2VLS4', None, 'A0A0K2VLS4', 'A0A7T8JU86', 'P45452', 'A0A0B5EZQ3', 'P40763', 'Q9WTU6', 'A0A0B5EZQ3', 'A0A0B5EZQ3', 'P45452', 'Q84128', 'P09619', 'P09581', 'Q9ZNZ7', 'A0A0B5EZQ3', 'A0A0B5EZQ3', 'P05230', 'A0A090N8Q6', 'A0A0G2JE54', 'Q9Y294', 'Q95M86', 'O95278', 'L8GZV5', 'A0A0B5EZQ3', 'F0WHW1', 'P29320', 'Q9ZNZ7', 'P29320', None, 'A0A0K2VLS4', 'P19883', 'K7ERP6', 'I3L213', None, 'Q6P5G0', 'O15164', 'Q9P206', 'O08530', 'O35973', 'P05067', 'P29320', 'A0A0B5EZQ3', 'L8GZV5', 'P29320', 'P17612', 'Q60669', 'L8GN38', 'O55098', 'L8GZV5', 'A0A0B5EZQ3', None, 'P05484', 'P00489', 'P35968', 'P42641', 'P00489', 'A0A0K2VLS4', 'H6BF78', 'L8GNA7', 'A0A0B5EZQ3', 'Q5QPD2', 'E9PPA5', 'L8HAM0', 'A0A140T905', 'O08967', 'P22455', 'Q9JI11', 'P29320', 'L8GZV5', 'Q9ZNZ7', 'A0A0B5EZQ3', None, 'Q95M86', 'A0A0K2VLS4', 'P42641', 'D3Z472', 'P0AD64', 'A0A0B5EZQ3', 'Q42512', 'Q9ZNZ7', 'P75990', 'Q9ZNZ7', 'Q84128', 'A0A0B5EZQ3', 'P00489', 'Q84128', 'A0A338P781', 'A0A0B5EZQ3', 'L8GL10', 'L8GN38', 'A0A0N4SVG7', 'P19883', 'Q9UEE5', 'P08100', 'L8GZV5', 'L8GN38', 'A0A0B5EZQ3', 'A0A0K2VLS4', 'P22681', 'P55085', 'L8GN38', 'P29320', 'L8GZV5', 'A0A7T8QTS2', 'P50613', 'A0A0B5EZQ3', 'O43257', 'A0A8S3T212', None, 'A0A0B5EZQ3', 'A0A0K2TC75', 'P22315', 'Q16667', 'H3BAS6', 'J3KNN3', 'O00936', 'A0A0B5EZQ3', None, 'A0A0U1RQ87', 'O08967', 'Q5U421', None, 'A0A0P1A9P5', 'L8GL10', 'A0A0K2VLS4', 'A0A0K2VLS4', 'A0A0B5EZQ3', 'L8GN38', 'A0A0B5EZQ3', 'P05067', 'A0A0B5EZQ3', 'L8GL10', 'A0A0B5EZQ3', 'P29320', 'A0A0B5EZQ3', 'A0A0B5EZQ3', 'A9C478', 'F5GY51', 'L8GZV5', 'A0AAF5I112', 'A0A0B5EZQ3', 'P46020', 'O00560', 'A0A0K2VLS4', 'P78310', 'O08967', 'A0AAF5I112', 'A0A0B5EZQ3', 'P22612', None, 'P42641', 'A2A2U4', 'A0A0B5EZQ3', 'Q8C050', 'P05067', 'E9PWG9', 'L8GZV5', 'L8GZV5', 'P36888', 'A0A0B5EZQ3', None, 'A0A0K2SWB5', 'A8MY48', 'L8GZV5', 'A0A2P9DU05', 'A0A5Q0EH38', 'A0A0K2VLS4', 'P05067', 'A0A0B5EZQ3', 'L8GZV5', 'Q9ZNZ7', 'Q544A0', 'A0A0K2SWB5', 'L8GN38', 'L8GZV5', 'Q61391', 'Q8TD08', 'O08967', 'A0A0K2V2A8', 'L8GZV5', 'F0W6D6', None, 'A0A286YES9', 'Q9H2X6', 'Q8VGC3', 'Q9BRL4', 'A0A494B9K8', 'O94986', 'Q84128', 'P42345', None, 'B5BTY5', 'A0A0B5EZQ3', 'Q84128', 'Q9ESJ1', 'P42641', 'Q9ZNZ7', None, 'P46531', 'P29320', 'Q23899', 'L8GZV5', 'O08967', 'P50613', 'P42641', 'A0A0B5EZQ3']\n",
            "No results returned for Accession ID: ['Q8R193', 'Q9Z0P7', 'L8GZV5', 'L8GJ09', 'P05067', 'L8GN38', 'Q9ZNZ7', 'A0A0B5EZQ3', 'Q07955', 'P0AD64', 'Q9ZNZ7', 'Q9BUL8', 'L8GL10', 'A0A0B5EZQ3', 'A0A7T8QTS2', None, 'A0A0K2VLS4', 'A0A0B5EZQ3', 'A0A0B5EZQ3', 'A0A0K2VLS4', 'L8HAM0', 'F0W6D6', None, 'L8GN38', 'P05067', 'L8GZV5', 'O43741', 'P35968', 'P17252', 'P49761', 'P29320', 'P05067', 'E9PUQ0', 'A0A0B5EZQ3', 'A0A1W2P6J6', 'Q61391', 'A0A0K2VLS4', 'P09619', 'A0A0B5EZQ3', 'A0A0B5EZQ3', 'P11362', 'A0A0K2VLS4', 'Q9ZNZ7', 'A0A0B5EZQ3', 'C9JIG9', 'A0A0B5EZQ3', 'Q9P206', 'L8EAA4', 'A0A0B5EZQ3', 'P01308', 'Q3UKP8', 'A0A7J7RU22', 'A0A0B5EZQ3', 'A0A0B5EZQ3', 'Q9ZNZ7', 'Q96B23', 'A0A0B5EZQ3', 'A0A0K2VLS4', 'P13234', 'A0A0K2TU93', 'A0A0K2UIG1', 'A0A0B5EZQ3', 'Q3UWH3', 'L8GN38', 'L8GZV5', 'Q9H4B6', 'A0A0B5EZQ3', 'L8GZV5', 'A0A0B5EZQ3', 'A0A0B5EZQ3', None, 'L8GZV5', None, 'P54645', 'K9J973', 'A0A7T8GXX0', 'A0A0B5EZQ3', 'P61023', None, 'Q92630', 'A0A0B5EZQ3', 'A0A0B5EZQ3', 'A0A0K2UG27', 'L8GZV5', 'H3BJ74', None, 'L8GN38', 'Q96NX5', 'A0A0B5EZQ3', 'P56279', 'A0A0B5EZQ3', None, 'Q3UU60', 'O08967', 'Q80UE6', 'A0A0B5EZQ3', 'A0A1D5RM55', 'P42641', 'A0A7T8GXX0', 'L8GN38', 'A0A0P1A9P5', 'Q9ZNZ7', 'L8GZV5', 'A0A034V6V0', 'L8GN38', 'L8GZV5', 'O08530', 'P29320', 'L8GZV5', 'A0A0B5EZQ3', 'P35968', 'H7C3L9', 'L8GZV5', 'Q9ZNZ7', 'L8GL10', 'Q99640', None, None, 'L8GNA7', 'Q9Z2N6', 'A0A7T8QTS2', 'O08967', 'O14974', 'Q3U5I9', 'A0A034V6V0', 'A0A0B5EZQ3', 'A0A0B5EZQ3', 'Q8BWJ3', 'A0A0B5EZQ3', 'Q84128', 'P20154', 'A0A0B5EZQ3', 'P17612', 'O08530', 'A0A0B5EZQ3', 'G3V2F1', 'A0A0B5EZQ3', None, 'L8GZV5', 'P42641', 'Q63694', 'P0AD64', 'A0A0K2VLS4', 'A0A0B5EZQ3', 'P14647', 'P20154', 'A0A0B5EZQ3', 'A0A0K2VLS4', 'A0A0K2VLS4', 'Q9UNH7', 'Q9ZNZ7', 'L8GZV5', 'P01308', 'P08100', 'A0A0K2VLS4', 'O88951', 'P19883', 'L8GZV5', None, 'L8GZV5', 'L8GN38', 'H0YE65', None, 'Q16566', 'Q9UGI9', 'A0A0B5EZQ3', 'A0A4P9Y862', 'A0A0K2VLS4', 'A0A8S3T212', 'P20827', 'A0A0B5EZQ3', None, 'A0A7T8GL88', 'A0A0B5EZQ3', 'A0A0B5EZQ3', 'Q8TCX1', 'A0A0B5EZQ3', 'P09619', 'L8GN38', 'A0A0K2VLS4', 'A0A0B5EZQ3', 'D3Z0E8', 'P54645', 'L8GL10', 'A0A0K2VLS4', 'P05067', 'P70662', 'O35973', 'L8GL10', 'P01579', 'A0A0D9SFF9', 'A8MPY5', 'P22455', 'A0A0B5EZQ3', 'P17612', 'P05067', 'A0A0B5EZQ3', None, 'Q61391', 'P29320', 'Q9H400', 'F0WUK3', 'B1APG3', 'A0A0B5EZQ3', 'A0A0B5EZQ3', 'A0A2P9DU05', 'K4DI97', 'O08967', 'P02699', 'Q96P20', 'Q27934', 'P16554', 'L8GN38', 'P29320', 'P22893', 'X5DP03', 'O08967', 'A0A0B5EZQ3', 'A0A034V6V0', 'A0A0B5EZQ3', None, 'Q60393', 'P29590', 'D0QEB1', 'O08967', 'P58750', 'A0A0K2VLS4', 'P19321', 'A0A0B5EZQ3', 'A0A7T8GL88', 'A0A0B5EZQ3', 'Q8V2Y5', 'Q3UER5', 'Q8VDQ8', 'Q90738', 'L8GN38', 'A0A0B5EZQ3', 'A0A5N4CZL1', 'A0A0B5EZQ3', 'A0A0B5EZQ3', 'L8GL10', 'Q84128', 'Q9ZNZ7', 'O00936', 'A0A0B5EZQ3', 'P50750', 'Q3U335', 'P42224', 'Q91Y86', 'Q96L34', None, 'O08967', 'A0A0B5EZQ3', 'O95278', 'P29320', 'Q9JJE1', 'O00936', 'Q9ZNZ7', 'A0A0B5EZQ3', 'A0AAU8MIS4', 'L8GZV5', 'A0A0K2VLS4', 'L8GZV5', 'A0A0B5EZQ3', 'A0A0B5EZQ3', 'B2RXQ4', 'P54764', 'A0A075F5C6', 'A0A0B5EZQ3', 'Q61391', 'Q543X6', 'P15056', 'Q3UHJ0', 'P29590', None, 'A0A0B5EZQ3', 'Q3U3Q1', 'P35968', 'L8GN38', 'Q05397', 'Q9ZNZ7', 'A0A087YI01', 'A0A0K2SWB5', 'B0LPE5', 'Q5KQU0', 'A0A0K2VLS4', 'M0R0L9', 'A0A0K2VLS4', 'M2RU91', 'Q24324', 'P45452', 'H0YIY6', 'L8GZV5', 'L8GN38', 'L8GL10', 'Q3TWR1', 'L8GZV5', 'Q99N57', None, 'A0A0B5EZQ3', 'A0A338P6P8', 'K9J973', 'Q8BP64', 'A0A0K2VLS4', 'L8GL10', 'A0A7T8GL88', 'A0A4P9Y862', 'S4R1B9', 'L8GZV5', 'O15520', 'Q95M86', 'Q543Z5', 'Q9FNN3', 'P19883', 'O14757', None, 'A0A0K2VLS4', None, 'A0A0K2VLS4', 'A0A7T8JU86', 'P45452', 'A0A0B5EZQ3', 'P40763', 'Q9WTU6', 'A0A0B5EZQ3', 'A0A0B5EZQ3', 'P45452', 'Q84128', 'P09619', 'P09581', 'Q9ZNZ7', 'A0A0B5EZQ3', 'A0A0B5EZQ3', 'P05230', 'A0A090N8Q6', 'A0A0G2JE54', 'Q9Y294', 'Q95M86', 'O95278', 'L8GZV5', 'A0A0B5EZQ3', 'F0WHW1', 'P29320', 'Q9ZNZ7', 'P29320', None, 'A0A0K2VLS4', 'P19883', 'K7ERP6', 'I3L213', None, 'Q6P5G0', 'O15164', 'Q9P206', 'O08530', 'O35973', 'P05067', 'P29320', 'A0A0B5EZQ3', 'L8GZV5', 'P29320', 'P17612', 'Q60669', 'L8GN38', 'O55098', 'L8GZV5', 'A0A0B5EZQ3', None, 'P05484', 'P00489', 'P35968', 'P42641', 'P00489', 'A0A0K2VLS4', 'H6BF78', 'L8GNA7', 'A0A0B5EZQ3', 'Q5QPD2', 'E9PPA5', 'L8HAM0', 'A0A140T905', 'O08967', 'P22455', 'Q9JI11', 'P29320', 'L8GZV5', 'Q9ZNZ7', 'A0A0B5EZQ3', None, 'Q95M86', 'A0A0K2VLS4', 'P42641', 'D3Z472', 'P0AD64', 'A0A0B5EZQ3', 'Q42512', 'Q9ZNZ7', 'P75990', 'Q9ZNZ7', 'Q84128', 'A0A0B5EZQ3', 'P00489', 'Q84128', 'A0A338P781', 'A0A0B5EZQ3', 'L8GL10', 'L8GN38', 'A0A0N4SVG7', 'P19883', 'Q9UEE5', 'P08100', 'L8GZV5', 'L8GN38', 'A0A0B5EZQ3', 'A0A0K2VLS4', 'P22681', 'P55085', 'L8GN38', 'P29320', 'L8GZV5', 'A0A7T8QTS2', 'P50613', 'A0A0B5EZQ3', 'O43257', 'A0A8S3T212', None, 'A0A0B5EZQ3', 'A0A0K2TC75', 'P22315', 'Q16667', 'H3BAS6', 'J3KNN3', 'O00936', 'A0A0B5EZQ3', None, 'A0A0U1RQ87', 'O08967', 'Q5U421', None, 'A0A0P1A9P5', 'L8GL10', 'A0A0K2VLS4', 'A0A0K2VLS4', 'A0A0B5EZQ3', 'L8GN38', 'A0A0B5EZQ3', 'P05067', 'A0A0B5EZQ3', 'L8GL10', 'A0A0B5EZQ3', 'P29320', 'A0A0B5EZQ3', 'A0A0B5EZQ3', 'A9C478', 'F5GY51', 'L8GZV5', 'A0AAF5I112', 'A0A0B5EZQ3', 'P46020', 'O00560', 'A0A0K2VLS4', 'P78310', 'O08967', 'A0AAF5I112', 'A0A0B5EZQ3', 'P22612', None, 'P42641', 'A2A2U4', 'A0A0B5EZQ3', 'Q8C050', 'P05067', 'E9PWG9', 'L8GZV5', 'L8GZV5', 'P36888', 'A0A0B5EZQ3', None, 'A0A0K2SWB5', 'A8MY48', 'L8GZV5', 'A0A2P9DU05', 'A0A5Q0EH38', 'A0A0K2VLS4', 'P05067', 'A0A0B5EZQ3', 'L8GZV5', 'Q9ZNZ7', 'Q544A0', 'A0A0K2SWB5', 'L8GN38', 'L8GZV5', 'Q61391', 'Q8TD08', 'O08967', 'A0A0K2V2A8', 'L8GZV5', 'F0W6D6', None, 'A0A286YES9', 'Q9H2X6', 'Q8VGC3', 'Q9BRL4', 'A0A494B9K8', 'O94986', 'Q84128', 'P42345', None, 'B5BTY5', 'A0A0B5EZQ3', 'Q84128', 'Q9ESJ1', 'P42641', 'Q9ZNZ7', None, 'P46531', 'P29320', 'Q23899', 'L8GZV5', 'O08967', 'P50613', 'P42641', 'A0A0B5EZQ3']\n",
            "UniProt query failed for ['Q14749', 'S4R3J7', 'P07954', 'P0C023', 'K7EJ20', 'P01579', 'Q6PD10', 'A0A173GP47', 'A0A286SD53', 'W8R5U2', 'O55239', 'Q00987', 'Q9P1Y0', 'E9Q6J0', 'H3BU54', 'Q63694', 'A0A0H4TJD6', 'P14647', 'E7EVM8', 'D3YY46', 'P16791', 'S5RV20', 'A0A0D9RI81', 'P04610', 'P05484', 'P11086', 'P16794', 'P11352', 'Q9Y294', 'O96028', 'E9Q6J0', 'P10635', 'H6A2B4', 'P24462', None] with status code: 400\n",
            "No sequence data found for Accession ID: ['Q14749', 'S4R3J7', 'P07954', 'P0C023', 'K7EJ20', 'P01579', 'Q6PD10', 'A0A173GP47', 'A0A286SD53', 'W8R5U2', 'O55239', 'Q00987', 'Q9P1Y0', 'E9Q6J0', 'H3BU54', 'Q63694', 'A0A0H4TJD6', 'P14647', 'E7EVM8', 'D3YY46', 'P16791', 'S5RV20', 'A0A0D9RI81', 'P04610', 'P05484', 'P11086', 'P16794', 'P11352', 'Q9Y294', 'O96028', 'E9Q6J0', 'P10635', 'H6A2B4', 'P24462', None]\n",
            "No results returned for Accession ID: ['Q14749', 'S4R3J7', 'P07954', 'P0C023', 'K7EJ20', 'P01579', 'Q6PD10', 'A0A173GP47', 'A0A286SD53', 'W8R5U2', 'O55239', 'Q00987', 'Q9P1Y0', 'E9Q6J0', 'H3BU54', 'Q63694', 'A0A0H4TJD6', 'P14647', 'E7EVM8', 'D3YY46', 'P16791', 'S5RV20', 'A0A0D9RI81', 'P04610', 'P05484', 'P11086', 'P16794', 'P11352', 'Q9Y294', 'O96028', 'E9Q6J0', 'P10635', 'H6A2B4', 'P24462', None]\n",
            "UniProt query failed for ['S4R3J7', 'P07954', 'P0C023', 'O96028', 'K7EJ20', 'A0A173GP47', 'A0A286SD53', 'O55239', 'Q9P1Y0', 'H3BU54', 'P14647', 'E7EVM8', 'D3YY46', 'S5RV20', 'P10484', 'A0A0D9RI81', 'P01574', 'P11086', 'P05484', None, 'P11352', 'Q9Y294', 'Q6PD10', 'A0A583ZBF4', 'Q14749', 'P10635', 'P24462'] with status code: 400\n",
            "No sequence data found for Accession ID: ['S4R3J7', 'P07954', 'P0C023', 'O96028', 'K7EJ20', 'A0A173GP47', 'A0A286SD53', 'O55239', 'Q9P1Y0', 'H3BU54', 'P14647', 'E7EVM8', 'D3YY46', 'S5RV20', 'P10484', 'A0A0D9RI81', 'P01574', 'P11086', 'P05484', None, 'P11352', 'Q9Y294', 'Q6PD10', 'A0A583ZBF4', 'Q14749', 'P10635', 'P24462']\n",
            "No results returned for Accession ID: ['S4R3J7', 'P07954', 'P0C023', 'O96028', 'K7EJ20', 'A0A173GP47', 'A0A286SD53', 'O55239', 'Q9P1Y0', 'H3BU54', 'P14647', 'E7EVM8', 'D3YY46', 'S5RV20', 'P10484', 'A0A0D9RI81', 'P01574', 'P11086', 'P05484', None, 'P11352', 'Q9Y294', 'Q6PD10', 'A0A583ZBF4', 'Q14749', 'P10635', 'P24462']\n",
            "UniProt query failed for ['B2G331', 'S4R3J7', 'P07954', 'P0C023', 'Q9EPK8', 'O75762', 'K7EJ20', 'Q6PD10', 'A0A173GP47', 'A0A286SD53', 'O55239', 'Q9P1Y0', 'H3BU54', 'A0A1L1Z839', 'Q13507', 'Q63694', 'A0A0H4TJD6', 'Q9CRZ0', 'P14647', 'E7EVM8', 'D3YY46', 'Q9EPK8', 'Q9EPK8', 'S5RV20', 'A0A0D9RI81', 'P05484', 'P11086', 'P54287', 'P11352', 'Q99N78', 'Q9Y294', 'O96028', 'Q14749', 'P10635', 'P24462'] with status code: 400\n",
            "No sequence data found for Accession ID: ['B2G331', 'S4R3J7', 'P07954', 'P0C023', 'Q9EPK8', 'O75762', 'K7EJ20', 'Q6PD10', 'A0A173GP47', 'A0A286SD53', 'O55239', 'Q9P1Y0', 'H3BU54', 'A0A1L1Z839', 'Q13507', 'Q63694', 'A0A0H4TJD6', 'Q9CRZ0', 'P14647', 'E7EVM8', 'D3YY46', 'Q9EPK8', 'Q9EPK8', 'S5RV20', 'A0A0D9RI81', 'P05484', 'P11086', 'P54287', 'P11352', 'Q99N78', 'Q9Y294', 'O96028', 'Q14749', 'P10635', 'P24462']\n",
            "No results returned for Accession ID: ['B2G331', 'S4R3J7', 'P07954', 'P0C023', 'Q9EPK8', 'O75762', 'K7EJ20', 'Q6PD10', 'A0A173GP47', 'A0A286SD53', 'O55239', 'Q9P1Y0', 'H3BU54', 'A0A1L1Z839', 'Q13507', 'Q63694', 'A0A0H4TJD6', 'Q9CRZ0', 'P14647', 'E7EVM8', 'D3YY46', 'Q9EPK8', 'Q9EPK8', 'S5RV20', 'A0A0D9RI81', 'P05484', 'P11086', 'P54287', 'P11352', 'Q99N78', 'Q9Y294', 'O96028', 'Q14749', 'P10635', 'P24462']\n",
            "UniProt query failed for [] with status code: 400\n",
            "No sequence data found for Accession ID: []\n",
            "No results returned for Accession ID: []\n",
            "UniProt query failed for ['P14647', 'Q9Y294', 'P05484', 'P14647'] with status code: 400\n",
            "No sequence data found for Accession ID: ['P14647', 'Q9Y294', 'P05484', 'P14647']\n",
            "No results returned for Accession ID: ['P14647', 'Q9Y294', 'P05484', 'P14647']\n",
            "UniProt query failed for ['P01574', 'K7EJ20', 'P0C023', 'P01579', 'P11352', 'S4R3J7', 'O96028', 'P10484'] with status code: 400\n",
            "No sequence data found for Accession ID: ['P01574', 'K7EJ20', 'P0C023', 'P01579', 'P11352', 'S4R3J7', 'O96028', 'P10484']\n",
            "No results returned for Accession ID: ['P01574', 'K7EJ20', 'P0C023', 'P01579', 'P11352', 'S4R3J7', 'O96028', 'P10484']\n",
            "UniProt query failed for ['P14647', 'Q9Y294', 'P24941', 'P05484'] with status code: 400\n",
            "No sequence data found for Accession ID: ['P14647', 'Q9Y294', 'P24941', 'P05484']\n",
            "No results returned for Accession ID: ['P14647', 'Q9Y294', 'P24941', 'P05484']\n",
            "UniProt query failed for ['Q8R193', 'E5RJ14', 'Q9UEE5', 'A4ZYQ5', 'Q6SW67', 'Q60515', 'M0R0L9', 'Q3UQZ6', 'Q9AYY6', 'Q8IUC6', 'O13024', 'A0A0K2VLS4', 'P06493', None, 'Q8JFG6', None, 'F1NWE3', 'D3DPA4', 'O95750', 'E7ERW9', 'A0A338P6P8', 'Q8IBS5', 'Q16667', 'O43741', None, 'P43405', 'P10484', None, 'Q65ZP9', 'Q76NM3', 'P11352', 'Q5U421', 'E5RJ14', 'Q13882', 'Q3UUG1', 'A0A1W2P6J6', 'O96028', 'F8WIS9', 'A0A075B7D5', 'Q6SW67', 'O15520', 'Q3UPM3', 'Q6SW67', 'Q9ULV8', 'S4R3J7', 'Q05BG3', 'P0C023', 'P62344', 'X6RE90', 'Q2NL51', 'P51817', 'A9C478', 'P06241', 'H3BU54', 'Q9H400', 'P22681', 'E9QNX9', 'D6RA31', 'Q5VWE5', 'Q9WTU6', 'Q12851', 'A0A0K2TU93', 'A0A2P9DU05', 'Q62137', 'H7C074', 'P05230', 'O35240', 'Q9H4B6', 'O15520', 'Q9Y294', 'Q90738', 'K7ENN9', 'O19064', 'A0A583ZBF4', 'Q04759', 'Q8I629', 'O70305', 'B7Z8N6', 'K7ERP6', 'Q9Y351', 'Q90738', 'Q8IDW1', 'E5RJ14', 'P22682', 'H3BPR7', 'A8AFI6', 'E9PLF7', 'Q9IK91', 'P24941', 'Q544A0', 'O95750', 'Q90738', 'Q8BU87', 'P01574', 'Q99640', 'C9J1X3', 'Q8BW55', 'P01138', 'P70335', 'Q5QPD2', 'E9PPA5', 'Q5SXG3', 'H6A2B4', 'F5H6D4', 'Q15078', 'Q9H2X6', 'P42224', 'P07954', 'P39905', 'Q8VGC3', 'P29376', 'K7EJ20', 'U3KQ83', 'Q96S59', 'A0A494B9K8', 'H0Y5M6', 'O08530', 'E9PQ51', 'Q9JJE1', 'O43294', None, 'P42224', 'P18031', 'B4DG22', 'P05230', 'D3YY46', 'Q8C762', 'Q9ESJ1', 'P07333', 'Q8IUH5', 'B7ZNR8', 'Q9UNH7', 'L8GZV5', 'Q9BZL1', 'A0A481XUV9', 'O96214'] with status code: 400\n",
            "No sequence data found for Accession ID: ['Q8R193', 'E5RJ14', 'Q9UEE5', 'A4ZYQ5', 'Q6SW67', 'Q60515', 'M0R0L9', 'Q3UQZ6', 'Q9AYY6', 'Q8IUC6', 'O13024', 'A0A0K2VLS4', 'P06493', None, 'Q8JFG6', None, 'F1NWE3', 'D3DPA4', 'O95750', 'E7ERW9', 'A0A338P6P8', 'Q8IBS5', 'Q16667', 'O43741', None, 'P43405', 'P10484', None, 'Q65ZP9', 'Q76NM3', 'P11352', 'Q5U421', 'E5RJ14', 'Q13882', 'Q3UUG1', 'A0A1W2P6J6', 'O96028', 'F8WIS9', 'A0A075B7D5', 'Q6SW67', 'O15520', 'Q3UPM3', 'Q6SW67', 'Q9ULV8', 'S4R3J7', 'Q05BG3', 'P0C023', 'P62344', 'X6RE90', 'Q2NL51', 'P51817', 'A9C478', 'P06241', 'H3BU54', 'Q9H400', 'P22681', 'E9QNX9', 'D6RA31', 'Q5VWE5', 'Q9WTU6', 'Q12851', 'A0A0K2TU93', 'A0A2P9DU05', 'Q62137', 'H7C074', 'P05230', 'O35240', 'Q9H4B6', 'O15520', 'Q9Y294', 'Q90738', 'K7ENN9', 'O19064', 'A0A583ZBF4', 'Q04759', 'Q8I629', 'O70305', 'B7Z8N6', 'K7ERP6', 'Q9Y351', 'Q90738', 'Q8IDW1', 'E5RJ14', 'P22682', 'H3BPR7', 'A8AFI6', 'E9PLF7', 'Q9IK91', 'P24941', 'Q544A0', 'O95750', 'Q90738', 'Q8BU87', 'P01574', 'Q99640', 'C9J1X3', 'Q8BW55', 'P01138', 'P70335', 'Q5QPD2', 'E9PPA5', 'Q5SXG3', 'H6A2B4', 'F5H6D4', 'Q15078', 'Q9H2X6', 'P42224', 'P07954', 'P39905', 'Q8VGC3', 'P29376', 'K7EJ20', 'U3KQ83', 'Q96S59', 'A0A494B9K8', 'H0Y5M6', 'O08530', 'E9PQ51', 'Q9JJE1', 'O43294', None, 'P42224', 'P18031', 'B4DG22', 'P05230', 'D3YY46', 'Q8C762', 'Q9ESJ1', 'P07333', 'Q8IUH5', 'B7ZNR8', 'Q9UNH7', 'L8GZV5', 'Q9BZL1', 'A0A481XUV9', 'O96214']\n",
            "No results returned for Accession ID: ['Q8R193', 'E5RJ14', 'Q9UEE5', 'A4ZYQ5', 'Q6SW67', 'Q60515', 'M0R0L9', 'Q3UQZ6', 'Q9AYY6', 'Q8IUC6', 'O13024', 'A0A0K2VLS4', 'P06493', None, 'Q8JFG6', None, 'F1NWE3', 'D3DPA4', 'O95750', 'E7ERW9', 'A0A338P6P8', 'Q8IBS5', 'Q16667', 'O43741', None, 'P43405', 'P10484', None, 'Q65ZP9', 'Q76NM3', 'P11352', 'Q5U421', 'E5RJ14', 'Q13882', 'Q3UUG1', 'A0A1W2P6J6', 'O96028', 'F8WIS9', 'A0A075B7D5', 'Q6SW67', 'O15520', 'Q3UPM3', 'Q6SW67', 'Q9ULV8', 'S4R3J7', 'Q05BG3', 'P0C023', 'P62344', 'X6RE90', 'Q2NL51', 'P51817', 'A9C478', 'P06241', 'H3BU54', 'Q9H400', 'P22681', 'E9QNX9', 'D6RA31', 'Q5VWE5', 'Q9WTU6', 'Q12851', 'A0A0K2TU93', 'A0A2P9DU05', 'Q62137', 'H7C074', 'P05230', 'O35240', 'Q9H4B6', 'O15520', 'Q9Y294', 'Q90738', 'K7ENN9', 'O19064', 'A0A583ZBF4', 'Q04759', 'Q8I629', 'O70305', 'B7Z8N6', 'K7ERP6', 'Q9Y351', 'Q90738', 'Q8IDW1', 'E5RJ14', 'P22682', 'H3BPR7', 'A8AFI6', 'E9PLF7', 'Q9IK91', 'P24941', 'Q544A0', 'O95750', 'Q90738', 'Q8BU87', 'P01574', 'Q99640', 'C9J1X3', 'Q8BW55', 'P01138', 'P70335', 'Q5QPD2', 'E9PPA5', 'Q5SXG3', 'H6A2B4', 'F5H6D4', 'Q15078', 'Q9H2X6', 'P42224', 'P07954', 'P39905', 'Q8VGC3', 'P29376', 'K7EJ20', 'U3KQ83', 'Q96S59', 'A0A494B9K8', 'H0Y5M6', 'O08530', 'E9PQ51', 'Q9JJE1', 'O43294', None, 'P42224', 'P18031', 'B4DG22', 'P05230', 'D3YY46', 'Q8C762', 'Q9ESJ1', 'P07333', 'Q8IUH5', 'B7ZNR8', 'Q9UNH7', 'L8GZV5', 'Q9BZL1', 'A0A481XUV9', 'O96214']\n",
            "UniProt query failed for ['S4R3J7', 'P07954', 'P0C023', 'O96028', 'K7EJ20', 'A0A173GP47', 'A0A286SD53', 'O55239', 'Q00987', 'Q9P1Y0', 'H3BU54', 'P14647', 'E7EVM8', 'D3YY46', 'A0A0K2UG07', 'S5RV20', 'P10484', 'A0A0D9RI81', 'P01574', 'P11086', 'P05484', 'P11352', 'Q9Y294', 'A0A0G2JRR0', 'Q6PD10', 'A0A583ZBF4', 'Q14749', 'P10635', 'P24462'] with status code: 400\n",
            "No sequence data found for Accession ID: ['S4R3J7', 'P07954', 'P0C023', 'O96028', 'K7EJ20', 'A0A173GP47', 'A0A286SD53', 'O55239', 'Q00987', 'Q9P1Y0', 'H3BU54', 'P14647', 'E7EVM8', 'D3YY46', 'A0A0K2UG07', 'S5RV20', 'P10484', 'A0A0D9RI81', 'P01574', 'P11086', 'P05484', 'P11352', 'Q9Y294', 'A0A0G2JRR0', 'Q6PD10', 'A0A583ZBF4', 'Q14749', 'P10635', 'P24462']\n",
            "No results returned for Accession ID: ['S4R3J7', 'P07954', 'P0C023', 'O96028', 'K7EJ20', 'A0A173GP47', 'A0A286SD53', 'O55239', 'Q00987', 'Q9P1Y0', 'H3BU54', 'P14647', 'E7EVM8', 'D3YY46', 'A0A0K2UG07', 'S5RV20', 'P10484', 'A0A0D9RI81', 'P01574', 'P11086', 'P05484', 'P11352', 'Q9Y294', 'A0A0G2JRR0', 'Q6PD10', 'A0A583ZBF4', 'Q14749', 'P10635', 'P24462']\n",
            "UniProt query failed for ['Q8R193', 'A0A0N4SVG7', 'Q5SYQ8', 'Q6SW67', 'A4ZYQ5', 'Q60515', 'P53667', 'M0R0L9', 'Q3UQZ6', 'Q9AYY6', 'Q8IUC6', 'O13024', 'L8GN38', 'O53996', 'P12504', 'H0YIY6', 'P0C023', 'P06493', 'A2AFL5', 'P0C023', 'Q01831', 'P0C023', 'F1NWE3', 'Q99N57', 'P05067', 'A0A338P6P8', 'Q8IBS5', 'Q5QPD2', 'P04062', 'Q9N0X0', 'O43741', 'Q16667', None, 'P10484', None, 'Q65ZP9', 'Q76NM3', 'Q8BP64', 'A0A0K2VLS4', 'P11352', None, 'Q5U421', 'E5RJ14', 'Q13882', 'Q15648', 'Q3UUG1', 'O96028', 'A0A1W2P6J6', 'F8WIS9', 'A0A075B7D5', 'P48051', 'Q14749', 'Q61391', 'O00255', 'Q3TPZ2', 'Q3UPM3', 'Q6UWZ7', 'Q9ULV8', 'G3V554', 'Q8QG78', 'Q05BG3', 'S4R3J7', 'P0C023', 'P62344', 'P62805', 'P15428', 'X6RE90', 'Q2NL51', 'P01579', 'P62805', 'Q32GM1', 'P0C023', 'P51817', 'P17612', 'A9C478', 'Q00987', 'P06241', 'Q32GM1', 'Q9H400', 'H3BU54', 'P22681', 'E9QNX9', 'D6RA31', 'Q5VWE5', 'Q9WTU6', 'Q12851', 'A0A2P9DU05', 'Q99638', 'A1L471', 'P0C023', 'E9PLT3', 'Q62137', 'H7C074', 'Q9UNA4', 'O35240', 'P05230', 'A0A0D9RI81', 'P11086', 'Q9Y294', 'K7ENN9', 'O19064', 'O95278', 'L8GZV5', 'Q9UBT6', 'Q04759', 'I3L1D5', 'Q3UEE0', 'E5RIP7', 'Q8I629', 'Q99J21', 'O70305', 'B7Z8N6', 'K7ERP6', 'A0A173GP47', 'A0A0A0MQF6', 'O15164', 'O35973', 'O55239', 'A0A3B2W489', 'Q8IDW1', 'P22682', 'H3BPR7', 'Q9Y351', 'Q9IK91', 'A8AFI6', 'P24941', 'Q544A0', 'O23310', 'P16791', 'O76031', 'Q8BU87', 'A0A5N4CZL1', 'P01574', 'P05484', 'P16794', 'C9J1X3', 'A0A0K2V2A8', 'P01138', 'P70335', 'P59768', 'Q5QPD2', 'E9PPA5', 'O75410', 'P54132', 'F5H6D4', 'A0A8C8T6K8', 'Q61026', 'Q15078', 'P50750', 'E9Q652', 'P42224', 'P07954', 'P39905', 'P29376', 'A2AM78', 'P61964', 'K7EJ20', 'U3KQ83', 'Q96S59', 'A0A494B9K8', 'H0Y5M6', 'A0A286SD53', 'Q9JJE1', 'Q9P1Y0', 'O43294', 'Q63694', 'P18031', 'B4DG22', 'Q8V4R0', 'P14647', 'D3YY46', 'Q9ESJ1', 'P07333', 'Q8IUH5', 'B7ZNR8', 'Q9UNH7', 'Q8BUN5', 'A0A338P781', 'P04610', 'P0C023', 'Q8W209', 'Q9BZL1', 'A0A481XUV9', 'A2A5Y6', 'Q6PD10', 'O96214', 'P50613', 'Q2TS46'] with status code: 400\n",
            "No sequence data found for Accession ID: ['Q8R193', 'A0A0N4SVG7', 'Q5SYQ8', 'Q6SW67', 'A4ZYQ5', 'Q60515', 'P53667', 'M0R0L9', 'Q3UQZ6', 'Q9AYY6', 'Q8IUC6', 'O13024', 'L8GN38', 'O53996', 'P12504', 'H0YIY6', 'P0C023', 'P06493', 'A2AFL5', 'P0C023', 'Q01831', 'P0C023', 'F1NWE3', 'Q99N57', 'P05067', 'A0A338P6P8', 'Q8IBS5', 'Q5QPD2', 'P04062', 'Q9N0X0', 'O43741', 'Q16667', None, 'P10484', None, 'Q65ZP9', 'Q76NM3', 'Q8BP64', 'A0A0K2VLS4', 'P11352', None, 'Q5U421', 'E5RJ14', 'Q13882', 'Q15648', 'Q3UUG1', 'O96028', 'A0A1W2P6J6', 'F8WIS9', 'A0A075B7D5', 'P48051', 'Q14749', 'Q61391', 'O00255', 'Q3TPZ2', 'Q3UPM3', 'Q6UWZ7', 'Q9ULV8', 'G3V554', 'Q8QG78', 'Q05BG3', 'S4R3J7', 'P0C023', 'P62344', 'P62805', 'P15428', 'X6RE90', 'Q2NL51', 'P01579', 'P62805', 'Q32GM1', 'P0C023', 'P51817', 'P17612', 'A9C478', 'Q00987', 'P06241', 'Q32GM1', 'Q9H400', 'H3BU54', 'P22681', 'E9QNX9', 'D6RA31', 'Q5VWE5', 'Q9WTU6', 'Q12851', 'A0A2P9DU05', 'Q99638', 'A1L471', 'P0C023', 'E9PLT3', 'Q62137', 'H7C074', 'Q9UNA4', 'O35240', 'P05230', 'A0A0D9RI81', 'P11086', 'Q9Y294', 'K7ENN9', 'O19064', 'O95278', 'L8GZV5', 'Q9UBT6', 'Q04759', 'I3L1D5', 'Q3UEE0', 'E5RIP7', 'Q8I629', 'Q99J21', 'O70305', 'B7Z8N6', 'K7ERP6', 'A0A173GP47', 'A0A0A0MQF6', 'O15164', 'O35973', 'O55239', 'A0A3B2W489', 'Q8IDW1', 'P22682', 'H3BPR7', 'Q9Y351', 'Q9IK91', 'A8AFI6', 'P24941', 'Q544A0', 'O23310', 'P16791', 'O76031', 'Q8BU87', 'A0A5N4CZL1', 'P01574', 'P05484', 'P16794', 'C9J1X3', 'A0A0K2V2A8', 'P01138', 'P70335', 'P59768', 'Q5QPD2', 'E9PPA5', 'O75410', 'P54132', 'F5H6D4', 'A0A8C8T6K8', 'Q61026', 'Q15078', 'P50750', 'E9Q652', 'P42224', 'P07954', 'P39905', 'P29376', 'A2AM78', 'P61964', 'K7EJ20', 'U3KQ83', 'Q96S59', 'A0A494B9K8', 'H0Y5M6', 'A0A286SD53', 'Q9JJE1', 'Q9P1Y0', 'O43294', 'Q63694', 'P18031', 'B4DG22', 'Q8V4R0', 'P14647', 'D3YY46', 'Q9ESJ1', 'P07333', 'Q8IUH5', 'B7ZNR8', 'Q9UNH7', 'Q8BUN5', 'A0A338P781', 'P04610', 'P0C023', 'Q8W209', 'Q9BZL1', 'A0A481XUV9', 'A2A5Y6', 'Q6PD10', 'O96214', 'P50613', 'Q2TS46']\n",
            "No results returned for Accession ID: ['Q8R193', 'A0A0N4SVG7', 'Q5SYQ8', 'Q6SW67', 'A4ZYQ5', 'Q60515', 'P53667', 'M0R0L9', 'Q3UQZ6', 'Q9AYY6', 'Q8IUC6', 'O13024', 'L8GN38', 'O53996', 'P12504', 'H0YIY6', 'P0C023', 'P06493', 'A2AFL5', 'P0C023', 'Q01831', 'P0C023', 'F1NWE3', 'Q99N57', 'P05067', 'A0A338P6P8', 'Q8IBS5', 'Q5QPD2', 'P04062', 'Q9N0X0', 'O43741', 'Q16667', None, 'P10484', None, 'Q65ZP9', 'Q76NM3', 'Q8BP64', 'A0A0K2VLS4', 'P11352', None, 'Q5U421', 'E5RJ14', 'Q13882', 'Q15648', 'Q3UUG1', 'O96028', 'A0A1W2P6J6', 'F8WIS9', 'A0A075B7D5', 'P48051', 'Q14749', 'Q61391', 'O00255', 'Q3TPZ2', 'Q3UPM3', 'Q6UWZ7', 'Q9ULV8', 'G3V554', 'Q8QG78', 'Q05BG3', 'S4R3J7', 'P0C023', 'P62344', 'P62805', 'P15428', 'X6RE90', 'Q2NL51', 'P01579', 'P62805', 'Q32GM1', 'P0C023', 'P51817', 'P17612', 'A9C478', 'Q00987', 'P06241', 'Q32GM1', 'Q9H400', 'H3BU54', 'P22681', 'E9QNX9', 'D6RA31', 'Q5VWE5', 'Q9WTU6', 'Q12851', 'A0A2P9DU05', 'Q99638', 'A1L471', 'P0C023', 'E9PLT3', 'Q62137', 'H7C074', 'Q9UNA4', 'O35240', 'P05230', 'A0A0D9RI81', 'P11086', 'Q9Y294', 'K7ENN9', 'O19064', 'O95278', 'L8GZV5', 'Q9UBT6', 'Q04759', 'I3L1D5', 'Q3UEE0', 'E5RIP7', 'Q8I629', 'Q99J21', 'O70305', 'B7Z8N6', 'K7ERP6', 'A0A173GP47', 'A0A0A0MQF6', 'O15164', 'O35973', 'O55239', 'A0A3B2W489', 'Q8IDW1', 'P22682', 'H3BPR7', 'Q9Y351', 'Q9IK91', 'A8AFI6', 'P24941', 'Q544A0', 'O23310', 'P16791', 'O76031', 'Q8BU87', 'A0A5N4CZL1', 'P01574', 'P05484', 'P16794', 'C9J1X3', 'A0A0K2V2A8', 'P01138', 'P70335', 'P59768', 'Q5QPD2', 'E9PPA5', 'O75410', 'P54132', 'F5H6D4', 'A0A8C8T6K8', 'Q61026', 'Q15078', 'P50750', 'E9Q652', 'P42224', 'P07954', 'P39905', 'P29376', 'A2AM78', 'P61964', 'K7EJ20', 'U3KQ83', 'Q96S59', 'A0A494B9K8', 'H0Y5M6', 'A0A286SD53', 'Q9JJE1', 'Q9P1Y0', 'O43294', 'Q63694', 'P18031', 'B4DG22', 'Q8V4R0', 'P14647', 'D3YY46', 'Q9ESJ1', 'P07333', 'Q8IUH5', 'B7ZNR8', 'Q9UNH7', 'Q8BUN5', 'A0A338P781', 'P04610', 'P0C023', 'Q8W209', 'Q9BZL1', 'A0A481XUV9', 'A2A5Y6', 'Q6PD10', 'O96214', 'P50613', 'Q2TS46']\n",
            "UniProt query failed for ['P47928', 'Q9Z0P7', 'E5LR40', 'O75376', 'O22781', None, 'P22303', 'I0DEB3', 'O76818', 'A0A0K2VLS4', 'P01185', 'A0A348FV96', None, 'P05067', 'D8L7V3', 'S5RV20', None, 'Q76NM3', 'A0AAV7IJQ8', 'Q6P8H4', None, 'P98170', 'P01308', 'O96028', 'Q61391', 'P11229', 'P34981', 'Q99041', 'O86138', 'I0DEB3', 'Q8TDV0', 'P01185', 'P38749', 'B6ZGS9', 'Q92087', 'Q546I3', 'H3BU54', 'D6RA31', 'P01031', 'Q99638', 'P35367', 'Q5EP01', 'P0C023', 'E9PLT3', None, 'P00157', 'Q7K2V1', 'Q2KDX6', None, 'P00157', 'L8GZV5', 'P24302', 'Q2KDX6', 'Q94734', 'Q94734', 'Q8WZA2', 'P04995', 'A0A0K2UIG1', 'Q9ULZ1', 'Q05586', 'P00157', 'P04610', 'P98170', 'Q9HAV4', 'A0A7J7Z682', 'C9J3N8', 'P05177', 'Q9Y287', 'P35367', 'G3V4M2', 'O75884', 'H6A2B4', 'Q00959', 'Q5YD59', 'A0A8C8T6K8', 'P07954', 'Q99041', 'K7RMT3', 'A0A0K2T099', None, 'Q8QG78', 'P11474', 'Q63694', 'P14647', 'D3YY46', 'I0DEB3', 'P51151', None, 'L8GZV5', 'A0A0K2TLA7', 'P35367', 'I0DEB3', None, 'Q6PD10', 'P24462', 'D6RH54', 'A4ZYQ5', 'I0DEB3', 'Q00403', 'P42345', 'O14757', None, 'P33261', 'Q01831', 'P53762', 'O76818', 'P56473', None, None, 'Q9CRZ0', 'P10484', 'P09619', 'A0A3B3QN94', 'P11352', 'A0A812L9K0', 'D0VY79', 'Q05586', 'Q15648', 'P01263', 'A0A0K2VLS4', None, 'G3V554', 'P62344', 'Q15475', 'I0DEB3', 'E5LR40', 'Q76BI4', 'P62805', 'G3UYV4', 'P17612', 'A0A090N8Q0', 'P10824', None, 'Q9QUN7', 'P0C1Z0', 'G5EFH8', 'A0A0K2T099', 'C9JWS9', 'A0A3G2C3P2', 'A0A087WWV0', 'Q9Z6Y2', 'O86138', 'G3UZM5', 'P00157', 'P11229', 'Q14145', 'K7ENN9', 'Q8N1V2', 'P43220', 'Q64678', 'I0DEB3', 'A0A1V9XXY6', 'Q9Y351', 'Q76N29', 'Q46465', 'A0A3B2W489', 'Q969F8', 'Q8IDW1', 'Q0QER9', 'P46095', 'Q9IK91', 'B6ZDR3', None, 'O23310', 'B4DGM9', None, 'P11229', 'C9JXR7', 'A0A5N4CZL1', 'P01574', 'E5LR40', 'E1AND5', 'Q02127', 'Q95NY5', 'Q84128', 'P10635', 'Q61026', 'P50750', 'P00157', 'P42224', 'Q8BJQ2', 'P11229', 'O15925', 'F0WBF4', 'P11229', 'Q64678', 'A0A1B0RYB7', 'D2KUA6', 'A0A6A7G2R9', 'Q9QZQ0', 'Q921E6', 'P81428', 'Q9AYY6', 'P01275', 'H6V745', 'Q76N29', 'Q9CRZ0', 'A0A338P6P8', 'Q00975', 'P24302', 'A0A0K2VLS4', 'A0A0B4LF95', 'P41145', 'P43313', 'L8GZV5', 'Q90282', 'G3I968', 'P00157', 'P12493', 'P0C023', 'P62805', 'A0A0B5EZQ3', 'Q05586', 'D2KTU6', 'D8L7V3', 'A0A6C0VVD5', 'P10276', 'A0A0K2TLA7', 'Q9HAV4', 'O35240', 'O95278', 'Q5DRK1', 'P37013', 'Q9YGJ1', 'P19525', 'A0A0H3VC13', 'Q6GZ69', 'D6XDN4', None, 'O70305', 'Q13526', 'P24302', 'P14647', 'O08530', 'O15164', 'O35973', 'P15529', 'Q92847', 'Q6QHI9', 'A8AFI6', 'P05484', 'A0A3B4DFA4', 'A0A0M4BXD2', 'Q07071', 'Q5QPD2', 'A0A0A9XN80', 'P35367', 'P35462', 'P03192', 'O15118', 'Q14397', 'P09803', 'A0QZY0', 'Q39234', 'Q3TZ08', 'A0A6A7G7W2', 'N0CVV5', 'A0A2I0UBX0', None, 'Q96VI3', None, 'Q67653', 'Q8IUH5', 'Q8BUN5', 'P0A006', 'A0A338P781', 'H2ELL3', 'C9JXR7', 'A0A481XUV9', 'P04629', 'Q15648', 'A0A0N4SVG7', 'P01270', 'P05154', 'P56473', 'L8GN38', 'P0C023', 'P24302', 'M3S007', 'Q9UMX1', 'Q06609', 'Q63666', 'Q9BVC4', 'E7EVM8', 'P75990', 'Q8IBS5', 'Q16667', None, 'L8HCK3', 'O60383', None, 'A0A0P1AX45', 'G5EFH8', 'Q2TBE6', 'A0A1B0GS10', 'S4R3J7', 'F6IA08', 'P06307', 'V9GX90', 'Q00987', 'P24302', 'Q2KDX6', 'A1L471', None, 'A0A583ZBF4', 'Q9UBT6', None, 'B6ZDR5', 'D3KYT3', 'Q05586', None, 'P72758', 'M0R383', 'A0A0K2T099', 'Q2KTE1', 'Q8I629', 'A0A0K2T099', None, 'B6ZDR4', 'A0A0K2T099', 'P15529', 'G5EFH8', 'A0A6I8TMQ9', 'A0A0K2V2A8', 'H3BKA8', 'H9NIL6', 'P01193', 'B0L3A2', 'Q96B67', 'P22455', 'A0A0K2TLA7', 'Q86VQ1', 'P04406', 'K7EJ20', 'P08670', 'O55068', None, 'I6L9I6', 'P00157', 'P27540', 'K7ESI8', 'P56473', 'Q9ESJ1', 'D3JWZ8', 'Q00987', 'Q6TCI0', 'O96214', 'P50613', 'Q54NE6'] with status code: 400\n",
            "No sequence data found for Accession ID: ['P47928', 'Q9Z0P7', 'E5LR40', 'O75376', 'O22781', None, 'P22303', 'I0DEB3', 'O76818', 'A0A0K2VLS4', 'P01185', 'A0A348FV96', None, 'P05067', 'D8L7V3', 'S5RV20', None, 'Q76NM3', 'A0AAV7IJQ8', 'Q6P8H4', None, 'P98170', 'P01308', 'O96028', 'Q61391', 'P11229', 'P34981', 'Q99041', 'O86138', 'I0DEB3', 'Q8TDV0', 'P01185', 'P38749', 'B6ZGS9', 'Q92087', 'Q546I3', 'H3BU54', 'D6RA31', 'P01031', 'Q99638', 'P35367', 'Q5EP01', 'P0C023', 'E9PLT3', None, 'P00157', 'Q7K2V1', 'Q2KDX6', None, 'P00157', 'L8GZV5', 'P24302', 'Q2KDX6', 'Q94734', 'Q94734', 'Q8WZA2', 'P04995', 'A0A0K2UIG1', 'Q9ULZ1', 'Q05586', 'P00157', 'P04610', 'P98170', 'Q9HAV4', 'A0A7J7Z682', 'C9J3N8', 'P05177', 'Q9Y287', 'P35367', 'G3V4M2', 'O75884', 'H6A2B4', 'Q00959', 'Q5YD59', 'A0A8C8T6K8', 'P07954', 'Q99041', 'K7RMT3', 'A0A0K2T099', None, 'Q8QG78', 'P11474', 'Q63694', 'P14647', 'D3YY46', 'I0DEB3', 'P51151', None, 'L8GZV5', 'A0A0K2TLA7', 'P35367', 'I0DEB3', None, 'Q6PD10', 'P24462', 'D6RH54', 'A4ZYQ5', 'I0DEB3', 'Q00403', 'P42345', 'O14757', None, 'P33261', 'Q01831', 'P53762', 'O76818', 'P56473', None, None, 'Q9CRZ0', 'P10484', 'P09619', 'A0A3B3QN94', 'P11352', 'A0A812L9K0', 'D0VY79', 'Q05586', 'Q15648', 'P01263', 'A0A0K2VLS4', None, 'G3V554', 'P62344', 'Q15475', 'I0DEB3', 'E5LR40', 'Q76BI4', 'P62805', 'G3UYV4', 'P17612', 'A0A090N8Q0', 'P10824', None, 'Q9QUN7', 'P0C1Z0', 'G5EFH8', 'A0A0K2T099', 'C9JWS9', 'A0A3G2C3P2', 'A0A087WWV0', 'Q9Z6Y2', 'O86138', 'G3UZM5', 'P00157', 'P11229', 'Q14145', 'K7ENN9', 'Q8N1V2', 'P43220', 'Q64678', 'I0DEB3', 'A0A1V9XXY6', 'Q9Y351', 'Q76N29', 'Q46465', 'A0A3B2W489', 'Q969F8', 'Q8IDW1', 'Q0QER9', 'P46095', 'Q9IK91', 'B6ZDR3', None, 'O23310', 'B4DGM9', None, 'P11229', 'C9JXR7', 'A0A5N4CZL1', 'P01574', 'E5LR40', 'E1AND5', 'Q02127', 'Q95NY5', 'Q84128', 'P10635', 'Q61026', 'P50750', 'P00157', 'P42224', 'Q8BJQ2', 'P11229', 'O15925', 'F0WBF4', 'P11229', 'Q64678', 'A0A1B0RYB7', 'D2KUA6', 'A0A6A7G2R9', 'Q9QZQ0', 'Q921E6', 'P81428', 'Q9AYY6', 'P01275', 'H6V745', 'Q76N29', 'Q9CRZ0', 'A0A338P6P8', 'Q00975', 'P24302', 'A0A0K2VLS4', 'A0A0B4LF95', 'P41145', 'P43313', 'L8GZV5', 'Q90282', 'G3I968', 'P00157', 'P12493', 'P0C023', 'P62805', 'A0A0B5EZQ3', 'Q05586', 'D2KTU6', 'D8L7V3', 'A0A6C0VVD5', 'P10276', 'A0A0K2TLA7', 'Q9HAV4', 'O35240', 'O95278', 'Q5DRK1', 'P37013', 'Q9YGJ1', 'P19525', 'A0A0H3VC13', 'Q6GZ69', 'D6XDN4', None, 'O70305', 'Q13526', 'P24302', 'P14647', 'O08530', 'O15164', 'O35973', 'P15529', 'Q92847', 'Q6QHI9', 'A8AFI6', 'P05484', 'A0A3B4DFA4', 'A0A0M4BXD2', 'Q07071', 'Q5QPD2', 'A0A0A9XN80', 'P35367', 'P35462', 'P03192', 'O15118', 'Q14397', 'P09803', 'A0QZY0', 'Q39234', 'Q3TZ08', 'A0A6A7G7W2', 'N0CVV5', 'A0A2I0UBX0', None, 'Q96VI3', None, 'Q67653', 'Q8IUH5', 'Q8BUN5', 'P0A006', 'A0A338P781', 'H2ELL3', 'C9JXR7', 'A0A481XUV9', 'P04629', 'Q15648', 'A0A0N4SVG7', 'P01270', 'P05154', 'P56473', 'L8GN38', 'P0C023', 'P24302', 'M3S007', 'Q9UMX1', 'Q06609', 'Q63666', 'Q9BVC4', 'E7EVM8', 'P75990', 'Q8IBS5', 'Q16667', None, 'L8HCK3', 'O60383', None, 'A0A0P1AX45', 'G5EFH8', 'Q2TBE6', 'A0A1B0GS10', 'S4R3J7', 'F6IA08', 'P06307', 'V9GX90', 'Q00987', 'P24302', 'Q2KDX6', 'A1L471', None, 'A0A583ZBF4', 'Q9UBT6', None, 'B6ZDR5', 'D3KYT3', 'Q05586', None, 'P72758', 'M0R383', 'A0A0K2T099', 'Q2KTE1', 'Q8I629', 'A0A0K2T099', None, 'B6ZDR4', 'A0A0K2T099', 'P15529', 'G5EFH8', 'A0A6I8TMQ9', 'A0A0K2V2A8', 'H3BKA8', 'H9NIL6', 'P01193', 'B0L3A2', 'Q96B67', 'P22455', 'A0A0K2TLA7', 'Q86VQ1', 'P04406', 'K7EJ20', 'P08670', 'O55068', None, 'I6L9I6', 'P00157', 'P27540', 'K7ESI8', 'P56473', 'Q9ESJ1', 'D3JWZ8', 'Q00987', 'Q6TCI0', 'O96214', 'P50613', 'Q54NE6']\n",
            "No results returned for Accession ID: ['P47928', 'Q9Z0P7', 'E5LR40', 'O75376', 'O22781', None, 'P22303', 'I0DEB3', 'O76818', 'A0A0K2VLS4', 'P01185', 'A0A348FV96', None, 'P05067', 'D8L7V3', 'S5RV20', None, 'Q76NM3', 'A0AAV7IJQ8', 'Q6P8H4', None, 'P98170', 'P01308', 'O96028', 'Q61391', 'P11229', 'P34981', 'Q99041', 'O86138', 'I0DEB3', 'Q8TDV0', 'P01185', 'P38749', 'B6ZGS9', 'Q92087', 'Q546I3', 'H3BU54', 'D6RA31', 'P01031', 'Q99638', 'P35367', 'Q5EP01', 'P0C023', 'E9PLT3', None, 'P00157', 'Q7K2V1', 'Q2KDX6', None, 'P00157', 'L8GZV5', 'P24302', 'Q2KDX6', 'Q94734', 'Q94734', 'Q8WZA2', 'P04995', 'A0A0K2UIG1', 'Q9ULZ1', 'Q05586', 'P00157', 'P04610', 'P98170', 'Q9HAV4', 'A0A7J7Z682', 'C9J3N8', 'P05177', 'Q9Y287', 'P35367', 'G3V4M2', 'O75884', 'H6A2B4', 'Q00959', 'Q5YD59', 'A0A8C8T6K8', 'P07954', 'Q99041', 'K7RMT3', 'A0A0K2T099', None, 'Q8QG78', 'P11474', 'Q63694', 'P14647', 'D3YY46', 'I0DEB3', 'P51151', None, 'L8GZV5', 'A0A0K2TLA7', 'P35367', 'I0DEB3', None, 'Q6PD10', 'P24462', 'D6RH54', 'A4ZYQ5', 'I0DEB3', 'Q00403', 'P42345', 'O14757', None, 'P33261', 'Q01831', 'P53762', 'O76818', 'P56473', None, None, 'Q9CRZ0', 'P10484', 'P09619', 'A0A3B3QN94', 'P11352', 'A0A812L9K0', 'D0VY79', 'Q05586', 'Q15648', 'P01263', 'A0A0K2VLS4', None, 'G3V554', 'P62344', 'Q15475', 'I0DEB3', 'E5LR40', 'Q76BI4', 'P62805', 'G3UYV4', 'P17612', 'A0A090N8Q0', 'P10824', None, 'Q9QUN7', 'P0C1Z0', 'G5EFH8', 'A0A0K2T099', 'C9JWS9', 'A0A3G2C3P2', 'A0A087WWV0', 'Q9Z6Y2', 'O86138', 'G3UZM5', 'P00157', 'P11229', 'Q14145', 'K7ENN9', 'Q8N1V2', 'P43220', 'Q64678', 'I0DEB3', 'A0A1V9XXY6', 'Q9Y351', 'Q76N29', 'Q46465', 'A0A3B2W489', 'Q969F8', 'Q8IDW1', 'Q0QER9', 'P46095', 'Q9IK91', 'B6ZDR3', None, 'O23310', 'B4DGM9', None, 'P11229', 'C9JXR7', 'A0A5N4CZL1', 'P01574', 'E5LR40', 'E1AND5', 'Q02127', 'Q95NY5', 'Q84128', 'P10635', 'Q61026', 'P50750', 'P00157', 'P42224', 'Q8BJQ2', 'P11229', 'O15925', 'F0WBF4', 'P11229', 'Q64678', 'A0A1B0RYB7', 'D2KUA6', 'A0A6A7G2R9', 'Q9QZQ0', 'Q921E6', 'P81428', 'Q9AYY6', 'P01275', 'H6V745', 'Q76N29', 'Q9CRZ0', 'A0A338P6P8', 'Q00975', 'P24302', 'A0A0K2VLS4', 'A0A0B4LF95', 'P41145', 'P43313', 'L8GZV5', 'Q90282', 'G3I968', 'P00157', 'P12493', 'P0C023', 'P62805', 'A0A0B5EZQ3', 'Q05586', 'D2KTU6', 'D8L7V3', 'A0A6C0VVD5', 'P10276', 'A0A0K2TLA7', 'Q9HAV4', 'O35240', 'O95278', 'Q5DRK1', 'P37013', 'Q9YGJ1', 'P19525', 'A0A0H3VC13', 'Q6GZ69', 'D6XDN4', None, 'O70305', 'Q13526', 'P24302', 'P14647', 'O08530', 'O15164', 'O35973', 'P15529', 'Q92847', 'Q6QHI9', 'A8AFI6', 'P05484', 'A0A3B4DFA4', 'A0A0M4BXD2', 'Q07071', 'Q5QPD2', 'A0A0A9XN80', 'P35367', 'P35462', 'P03192', 'O15118', 'Q14397', 'P09803', 'A0QZY0', 'Q39234', 'Q3TZ08', 'A0A6A7G7W2', 'N0CVV5', 'A0A2I0UBX0', None, 'Q96VI3', None, 'Q67653', 'Q8IUH5', 'Q8BUN5', 'P0A006', 'A0A338P781', 'H2ELL3', 'C9JXR7', 'A0A481XUV9', 'P04629', 'Q15648', 'A0A0N4SVG7', 'P01270', 'P05154', 'P56473', 'L8GN38', 'P0C023', 'P24302', 'M3S007', 'Q9UMX1', 'Q06609', 'Q63666', 'Q9BVC4', 'E7EVM8', 'P75990', 'Q8IBS5', 'Q16667', None, 'L8HCK3', 'O60383', None, 'A0A0P1AX45', 'G5EFH8', 'Q2TBE6', 'A0A1B0GS10', 'S4R3J7', 'F6IA08', 'P06307', 'V9GX90', 'Q00987', 'P24302', 'Q2KDX6', 'A1L471', None, 'A0A583ZBF4', 'Q9UBT6', None, 'B6ZDR5', 'D3KYT3', 'Q05586', None, 'P72758', 'M0R383', 'A0A0K2T099', 'Q2KTE1', 'Q8I629', 'A0A0K2T099', None, 'B6ZDR4', 'A0A0K2T099', 'P15529', 'G5EFH8', 'A0A6I8TMQ9', 'A0A0K2V2A8', 'H3BKA8', 'H9NIL6', 'P01193', 'B0L3A2', 'Q96B67', 'P22455', 'A0A0K2TLA7', 'Q86VQ1', 'P04406', 'K7EJ20', 'P08670', 'O55068', None, 'I6L9I6', 'P00157', 'P27540', 'K7ESI8', 'P56473', 'Q9ESJ1', 'D3JWZ8', 'Q00987', 'Q6TCI0', 'O96214', 'P50613', 'Q54NE6']\n",
            "UniProt query failed for ['O14745', 'P40226', 'P01270', 'Q5SYQ8', 'O22781', 'Q712U1', 'A0ASV4', 'P05154', 'A0A7S3GKR2', 'P81428', 'Q16280', 'P22303', 'O53996', 'H6V745', 'P12504', 'Q06609', 'P0C023', 'P33261', 'A2AFL5', 'P0C023', 'Q08722', 'Q01831', 'P0C023', 'A0A087X2E7', 'Q9BVC4', 'E7EVM8', None, 'S5RV20', 'P04062', 'P10484', None, 'I6SR62', 'O60383', 'P57764', 'A0A0B4LF95', 'A0ASV4', 'P11352', None, 'P0C023', None, 'D0VY79', 'Q15648', 'O96028', 'Q14749', 'G5EFH8', 'P11229', 'Q90282', 'O00255', 'Q2TBE6', 'A0A1B0GS10', 'G3V554', 'S4R3J7', 'Q99041', 'O86138', 'Q8QG78', 'P0C023', 'D6RCF1', 'P0C023', 'P62805', 'I3NI20', 'P15428', 'Q15475', 'P01579', 'P62805', 'V9GX90', 'P0C023', 'Q00987', 'P10824', 'P76256', 'A0A3B2W7B3', 'H3BU54', 'D6RA31', 'P0C023', 'Q61735', 'Q99638', 'A1L471', 'C9JWS9', 'A0A0K2TLA7', 'E9PLT3', 'P0C023', 'A0A0D9RI81', 'P11086', 'P0C023', None, 'Q14145', 'Q9Y294', 'K7ENN9', 'A0A583ZBF4', 'Q9UBT6', None, 'Q8N1V2', None, 'Q2KDX6', 'H3BTN5', 'P43220', 'Q64678', 'I3L1D5', 'M0R383', 'D6XDN4', 'A0A0K2T099', 'E5RIP7', 'O70305', 'Q13526', 'Q9Y351', 'Q76N29', 'Q46465', 'A0A0A0MQF6', 'A0A173GP47', 'P15529', 'Q92847', 'A0A3B2W489', 'O55239', 'Q6QHI9', 'Q8WZA2', 'Q5TCI8', 'Q9IK91', 'B6ZDR3', None, 'O23310', 'P98170', 'A0A7J7Z682', 'Q8C7F3', 'P01574', 'P05484', 'P05177', 'P02008', 'Q9Y287', 'H3BKA8', 'A0A0M4BXD2', 'Q9UGJ4', 'H9NIL6', 'Q95NY5', 'Q96B67', 'Q07071', 'P59768', 'A0A087WYJ0', 'P10635', 'A0A0K2TLA7', 'A0A0A9XN80', 'I2E4T2', 'A0A8C8T6K8', 'P54132', 'Q61026', 'A1Z198', 'O15118', 'Q14397', 'J3KT36', 'E9Q652', 'P07954', 'Q8BJQ2', 'P61964', 'K7EJ20', 'A0A286YES9', 'Q39234', None, 'P76256', 'O08530', 'Q3TZ08', 'A0A286SD53', None, 'Q9P1Y0', 'Q9H211', 'P14647', 'Q44467', 'D3YY46', 'Q04830', None, 'P51151', 'Q8BQB2', 'P11229', 'Q8IUH5', 'P16050', 'P0A006', 'A0A338P781', 'A0A2R8Y291', 'P0C023', 'Q8W209', 'Q00987', 'A0A0K2TLA7', 'A0A1B0RYB7', 'P22217', 'P35367', 'A2A5Y6', 'A0A481XUV9', 'Q6TCI0', 'Q6PD10', 'P0C023', 'Q54NE6', 'Q2TS46'] with status code: 400\n",
            "No sequence data found for Accession ID: ['O14745', 'P40226', 'P01270', 'Q5SYQ8', 'O22781', 'Q712U1', 'A0ASV4', 'P05154', 'A0A7S3GKR2', 'P81428', 'Q16280', 'P22303', 'O53996', 'H6V745', 'P12504', 'Q06609', 'P0C023', 'P33261', 'A2AFL5', 'P0C023', 'Q08722', 'Q01831', 'P0C023', 'A0A087X2E7', 'Q9BVC4', 'E7EVM8', None, 'S5RV20', 'P04062', 'P10484', None, 'I6SR62', 'O60383', 'P57764', 'A0A0B4LF95', 'A0ASV4', 'P11352', None, 'P0C023', None, 'D0VY79', 'Q15648', 'O96028', 'Q14749', 'G5EFH8', 'P11229', 'Q90282', 'O00255', 'Q2TBE6', 'A0A1B0GS10', 'G3V554', 'S4R3J7', 'Q99041', 'O86138', 'Q8QG78', 'P0C023', 'D6RCF1', 'P0C023', 'P62805', 'I3NI20', 'P15428', 'Q15475', 'P01579', 'P62805', 'V9GX90', 'P0C023', 'Q00987', 'P10824', 'P76256', 'A0A3B2W7B3', 'H3BU54', 'D6RA31', 'P0C023', 'Q61735', 'Q99638', 'A1L471', 'C9JWS9', 'A0A0K2TLA7', 'E9PLT3', 'P0C023', 'A0A0D9RI81', 'P11086', 'P0C023', None, 'Q14145', 'Q9Y294', 'K7ENN9', 'A0A583ZBF4', 'Q9UBT6', None, 'Q8N1V2', None, 'Q2KDX6', 'H3BTN5', 'P43220', 'Q64678', 'I3L1D5', 'M0R383', 'D6XDN4', 'A0A0K2T099', 'E5RIP7', 'O70305', 'Q13526', 'Q9Y351', 'Q76N29', 'Q46465', 'A0A0A0MQF6', 'A0A173GP47', 'P15529', 'Q92847', 'A0A3B2W489', 'O55239', 'Q6QHI9', 'Q8WZA2', 'Q5TCI8', 'Q9IK91', 'B6ZDR3', None, 'O23310', 'P98170', 'A0A7J7Z682', 'Q8C7F3', 'P01574', 'P05484', 'P05177', 'P02008', 'Q9Y287', 'H3BKA8', 'A0A0M4BXD2', 'Q9UGJ4', 'H9NIL6', 'Q95NY5', 'Q96B67', 'Q07071', 'P59768', 'A0A087WYJ0', 'P10635', 'A0A0K2TLA7', 'A0A0A9XN80', 'I2E4T2', 'A0A8C8T6K8', 'P54132', 'Q61026', 'A1Z198', 'O15118', 'Q14397', 'J3KT36', 'E9Q652', 'P07954', 'Q8BJQ2', 'P61964', 'K7EJ20', 'A0A286YES9', 'Q39234', None, 'P76256', 'O08530', 'Q3TZ08', 'A0A286SD53', None, 'Q9P1Y0', 'Q9H211', 'P14647', 'Q44467', 'D3YY46', 'Q04830', None, 'P51151', 'Q8BQB2', 'P11229', 'Q8IUH5', 'P16050', 'P0A006', 'A0A338P781', 'A0A2R8Y291', 'P0C023', 'Q8W209', 'Q00987', 'A0A0K2TLA7', 'A0A1B0RYB7', 'P22217', 'P35367', 'A2A5Y6', 'A0A481XUV9', 'Q6TCI0', 'Q6PD10', 'P0C023', 'Q54NE6', 'Q2TS46']\n",
            "No results returned for Accession ID: ['O14745', 'P40226', 'P01270', 'Q5SYQ8', 'O22781', 'Q712U1', 'A0ASV4', 'P05154', 'A0A7S3GKR2', 'P81428', 'Q16280', 'P22303', 'O53996', 'H6V745', 'P12504', 'Q06609', 'P0C023', 'P33261', 'A2AFL5', 'P0C023', 'Q08722', 'Q01831', 'P0C023', 'A0A087X2E7', 'Q9BVC4', 'E7EVM8', None, 'S5RV20', 'P04062', 'P10484', None, 'I6SR62', 'O60383', 'P57764', 'A0A0B4LF95', 'A0ASV4', 'P11352', None, 'P0C023', None, 'D0VY79', 'Q15648', 'O96028', 'Q14749', 'G5EFH8', 'P11229', 'Q90282', 'O00255', 'Q2TBE6', 'A0A1B0GS10', 'G3V554', 'S4R3J7', 'Q99041', 'O86138', 'Q8QG78', 'P0C023', 'D6RCF1', 'P0C023', 'P62805', 'I3NI20', 'P15428', 'Q15475', 'P01579', 'P62805', 'V9GX90', 'P0C023', 'Q00987', 'P10824', 'P76256', 'A0A3B2W7B3', 'H3BU54', 'D6RA31', 'P0C023', 'Q61735', 'Q99638', 'A1L471', 'C9JWS9', 'A0A0K2TLA7', 'E9PLT3', 'P0C023', 'A0A0D9RI81', 'P11086', 'P0C023', None, 'Q14145', 'Q9Y294', 'K7ENN9', 'A0A583ZBF4', 'Q9UBT6', None, 'Q8N1V2', None, 'Q2KDX6', 'H3BTN5', 'P43220', 'Q64678', 'I3L1D5', 'M0R383', 'D6XDN4', 'A0A0K2T099', 'E5RIP7', 'O70305', 'Q13526', 'Q9Y351', 'Q76N29', 'Q46465', 'A0A0A0MQF6', 'A0A173GP47', 'P15529', 'Q92847', 'A0A3B2W489', 'O55239', 'Q6QHI9', 'Q8WZA2', 'Q5TCI8', 'Q9IK91', 'B6ZDR3', None, 'O23310', 'P98170', 'A0A7J7Z682', 'Q8C7F3', 'P01574', 'P05484', 'P05177', 'P02008', 'Q9Y287', 'H3BKA8', 'A0A0M4BXD2', 'Q9UGJ4', 'H9NIL6', 'Q95NY5', 'Q96B67', 'Q07071', 'P59768', 'A0A087WYJ0', 'P10635', 'A0A0K2TLA7', 'A0A0A9XN80', 'I2E4T2', 'A0A8C8T6K8', 'P54132', 'Q61026', 'A1Z198', 'O15118', 'Q14397', 'J3KT36', 'E9Q652', 'P07954', 'Q8BJQ2', 'P61964', 'K7EJ20', 'A0A286YES9', 'Q39234', None, 'P76256', 'O08530', 'Q3TZ08', 'A0A286SD53', None, 'Q9P1Y0', 'Q9H211', 'P14647', 'Q44467', 'D3YY46', 'Q04830', None, 'P51151', 'Q8BQB2', 'P11229', 'Q8IUH5', 'P16050', 'P0A006', 'A0A338P781', 'A0A2R8Y291', 'P0C023', 'Q8W209', 'Q00987', 'A0A0K2TLA7', 'A0A1B0RYB7', 'P22217', 'P35367', 'A2A5Y6', 'A0A481XUV9', 'Q6TCI0', 'Q6PD10', 'P0C023', 'Q54NE6', 'Q2TS46']\n",
            "UniProt query failed for ['B2BXS0', 'Q9Z0P7', 'L8GZV5', 'P05067', 'Q9ZNZ7', 'A0A0B5EZQ3', 'A0A0K2TU93', 'P12689', 'P24232', 'A0A7S0YHP8', 'A0A0K2VLS4', 'A0A0B5EZQ3', 'L8HAM0', None, 'O43808', 'L8GN38', 'P05067', 'L8GZV5', 'S5RV20', 'P35968', 'P29320', 'A0ASV4', 'P05067', 'A0A0B5EZQ3', 'O95278', 'P48051', 'O96028', 'A0A0K2VLS4', 'A0A7T8QTS2', 'A0A0B5EZQ3', 'A0A0B5EZQ3', 'A0A0B5EZQ3', 'P24527', 'Q2N0S6', 'H3BU54', 'D6RA31', 'Q9ZNZ7', 'P27692', 'A0A0K2VLS4', 'A0A0K2TU93', 'A0A0B5EZQ3', 'A0A0K2UIG1', 'O08580', 'A0A7T8GL88', 'Q9Y294', 'O51934', 'A0A7T8QTS2', 'P11086', None, 'A0A0B5EZQ3', 'B2BXS0', 'A0A0B5EZQ3', 'L8GZV5', None, None, 'L8HHY1', 'P70998', None, 'A0A0K2UG27', 'L8GZV5', 'H3BJ74', 'A0A0B5EZQ3', 'A0A0B5EZQ3', 'Q9Y294', 'P42641', 'L8GZV5', 'A0A0P1AX45', 'A0A0P1AX45', 'L8GN38', 'L8GZV5', 'P29320', 'A0A0P1AX45', 'L8GZV5', 'Q9ZNZ7', 'P16794', None, 'A0A0H3FMF8', 'L8GNA7', 'A0A7T8QTS2', 'A0A0B5EZQ3', 'A0A0B5EZQ3', 'P07954', 'Q9Y294', 'A0A0B5EZQ3', 'Q84128', 'P20154', 'Q9Y294', 'L8GN15', 'A0A0B5EZQ3', 'A0A0P1A9P5', 'O08530', 'Q8VEB1', 'Q6P2Q9', 'A0A0B5EZQ3', 'L8GZV5', 'P42641', 'A0A2P2MBX9', 'A0A0K2VLS4', 'P14647', 'P20154', 'D3YY46', 'Q15024', 'P04610', 'Q9ZNZ7', 'L8GZV5', 'P01308', 'A0A0K2VLS4', 'Q6PD10', 'P24462', 'L8GZV5', 'A2ASQ1', None, 'A0A0B5EZQ3', 'Q60515', 'L8GN38', 'A0A2R8Y559', 'A0A0P1AX45', 'A0A4P9Y862', 'A0A0K2VLS4', 'P9WHQ9', 'A0AAU8MIS4', 'A0A8S3T212', 'F8WCF4', None, None, 'P45563', 'P10484', 'Q9Y294', 'P09619', 'A0A2P2LL28', 'A0A0M4BXD2', 'A0QZY0', 'A0R2B1', 'P11352', 'Q9Y294', 'A0A0B5EZQ3', 'A0A0K2VLS4', 'A0A0K2UT36', 'P05067', 'L8GL10', 'P01579', 'P17612', 'A0AAU8MIS4', 'Q61391', 'Q9H400', 'A0A0B5EZQ3', 'P02699', 'Q15303', 'P16554', 'A0A0D9RI81', 'L8GN38', 'P29320', 'Q92769', 'K7ENN9', 'O08967', 'A0A0B5EZQ3', None, 'A0A0K2VLS4', 'P19321', 'A0A0M4BXD2', 'A1YKZ4', 'Q9IK91', 'A0A7T8GL88', 'A0A0B5EZQ3', 'P16791', 'Q90738', 'P01574', 'A0A0B5EZQ3', 'O13563', 'D2KUB1', 'Q84128', 'P10635', 'Q9ZNZ7', 'O00936', 'A0A0B5EZQ3', 'A0A0M4BXD2', 'P39905', 'Q8N163', 'O95278', 'P29320', 'Q9ZNZ7', 'A0A0B5EZQ3', 'P06681', 'L8GZV5', 'A0A0K2VLS4', 'L8GZV5', 'A0A0B5EZQ3', 'A5A2Q4', 'A0A0B5EZQ3', 'A0A075F5C6', 'Q9T0I8', 'A0A0B5EZQ3', 'A0A669PQ19', 'A0A7T8GYP1', 'Q05397', 'A0A0K2TH30', None, 'Q9ZNZ7', 'A0A0K2VJS6', 'A0A0B5EZQ3', 'A0A0K2SWB5', 'L8HHY1', 'A0A0K2VLS4', 'P0AGB3', 'P08669', 'P45452', 'P0DW20', 'L8GZV5', 'L8GN38', 'L8GL10', 'L8GZV5', 'Q3TWR1', 'Q9Y294', None, 'O95278', 'A0A0K2VLS4', 'A0A4P9Y862', 'L8GZV5', 'Q14749', 'Q9L4Q7', 'O15520', 'Q95M86', 'P19883', None, 'A0A7G3ZMV7', 'P0C023', 'O43808', 'A0A0K2VLS4', 'P61996', None, 'L8HHY1', 'P45452', 'P45452', 'Q84128', 'Q9ZNZ7', 'A0A2P2LEY3', 'A0A0B5EZQ3', 'Q9Y294', 'O95278', 'L8GZV5', 'P29320', 'Q86PS1', 'Q9ZNZ7', 'Q60393', 'P19883', 'Q13547', 'O70305', 'Q9P206', 'A0A160UK81', 'P05067', 'P29320', 'A0A0B5EZQ3', 'P17612', 'A0A2I0UI84', 'L8GZV5', 'P05484', 'Q9H9E1', 'P35968', 'P42641', 'P00489', 'A0A0K2V2L0', 'A0A0K2VLS4', 'L8GNA7', 'A0A0B5EZQ3', 'P20436', 'L8HAM0', 'P22455', 'A0A1X7QGS8', 'O08967', 'Q9Y294', 'P00533', 'P29320', 'Q3U6Q5', 'L8GZV5', 'Q9ZNZ7', 'A0A0B5EZQ3', 'A0A146ZNM5', 'Q95M86', 'A0A2I0UBX0', 'A0A0K2VLS4', 'P42641', 'P0AD64', 'A0A0B5EZQ3', 'Q42512', 'Q9ZNZ7', 'Q84128', 'O14757', 'Q8C762', 'A0A0B5EZQ3', 'Q8IUH5', 'A0A481XUV9', 'L8GL10', 'L8GN38', 'A0A2R8Y291', 'A0A2L2Z9W0', 'P19883', None, 'L8GZV5', 'A0ASV4', 'L8GN38', 'A0A0B5EZQ3', 'Q3UQZ6', 'A0A0K2VLS4', 'P55085', 'L8GN38', 'A0A7T8QTS2', 'A0A0B5EZQ3', 'A0A0K2TC75', 'E7EVM8', 'A0A0K2UYJ8', 'P42124', None, 'Q65ZP9', 'Q84128', 'A0A0P1A9P5', 'L8GN38', None, 'A0A0B5EZQ3', 'L8GL10', 'A0A0P1A9P5', 'A0A0K2VLS4', 'A0A0B5EZQ3', 'Q9ULV8', 'S4R3J7', 'P05067', 'A0A0B5EZQ3', 'A0A0B5EZQ3', 'O00936', 'Q00987', 'A0AAF5I112', 'L8GN38', 'A1L471', 'A0AAF5I112', 'Q9Y618', 'A0A0B5EZQ3', 'Q2KDX6', None, 'A0A583ZBF4', 'P05067', 'A0A0K2SWB5', 'A0A0K2TH30', 'Q8C2B3', 'A0A173GP47', 'A0A0K2VLS4', 'O55239', 'A0A0B5EZQ3', 'P35968', 'L8GZV5', 'A0A0K2SWB5', 'L8GN38', 'Q8CWI5', 'Q61391', 'B5MD06', 'L8GZV5', 'Q86PS1', 'Q9Y294', 'F0W6D6', 'L8GN38', 'A0A1X7SK17', 'K7EJ20', 'F5CTF3', 'A0A286SD53', 'P22087', 'Q9P1Y0', None, 'Q9NTG7', 'A0A0B5EZQ3', 'Q84128', 'Q9ESJ1', 'Q9UHD8', 'P42641', 'Q9ZNZ7', None, 'P00157', 'P29320', 'Q23899', 'L8HGD4', 'L8GZV5', 'P16473', 'P42641'] with status code: 400\n",
            "No sequence data found for Accession ID: ['B2BXS0', 'Q9Z0P7', 'L8GZV5', 'P05067', 'Q9ZNZ7', 'A0A0B5EZQ3', 'A0A0K2TU93', 'P12689', 'P24232', 'A0A7S0YHP8', 'A0A0K2VLS4', 'A0A0B5EZQ3', 'L8HAM0', None, 'O43808', 'L8GN38', 'P05067', 'L8GZV5', 'S5RV20', 'P35968', 'P29320', 'A0ASV4', 'P05067', 'A0A0B5EZQ3', 'O95278', 'P48051', 'O96028', 'A0A0K2VLS4', 'A0A7T8QTS2', 'A0A0B5EZQ3', 'A0A0B5EZQ3', 'A0A0B5EZQ3', 'P24527', 'Q2N0S6', 'H3BU54', 'D6RA31', 'Q9ZNZ7', 'P27692', 'A0A0K2VLS4', 'A0A0K2TU93', 'A0A0B5EZQ3', 'A0A0K2UIG1', 'O08580', 'A0A7T8GL88', 'Q9Y294', 'O51934', 'A0A7T8QTS2', 'P11086', None, 'A0A0B5EZQ3', 'B2BXS0', 'A0A0B5EZQ3', 'L8GZV5', None, None, 'L8HHY1', 'P70998', None, 'A0A0K2UG27', 'L8GZV5', 'H3BJ74', 'A0A0B5EZQ3', 'A0A0B5EZQ3', 'Q9Y294', 'P42641', 'L8GZV5', 'A0A0P1AX45', 'A0A0P1AX45', 'L8GN38', 'L8GZV5', 'P29320', 'A0A0P1AX45', 'L8GZV5', 'Q9ZNZ7', 'P16794', None, 'A0A0H3FMF8', 'L8GNA7', 'A0A7T8QTS2', 'A0A0B5EZQ3', 'A0A0B5EZQ3', 'P07954', 'Q9Y294', 'A0A0B5EZQ3', 'Q84128', 'P20154', 'Q9Y294', 'L8GN15', 'A0A0B5EZQ3', 'A0A0P1A9P5', 'O08530', 'Q8VEB1', 'Q6P2Q9', 'A0A0B5EZQ3', 'L8GZV5', 'P42641', 'A0A2P2MBX9', 'A0A0K2VLS4', 'P14647', 'P20154', 'D3YY46', 'Q15024', 'P04610', 'Q9ZNZ7', 'L8GZV5', 'P01308', 'A0A0K2VLS4', 'Q6PD10', 'P24462', 'L8GZV5', 'A2ASQ1', None, 'A0A0B5EZQ3', 'Q60515', 'L8GN38', 'A0A2R8Y559', 'A0A0P1AX45', 'A0A4P9Y862', 'A0A0K2VLS4', 'P9WHQ9', 'A0AAU8MIS4', 'A0A8S3T212', 'F8WCF4', None, None, 'P45563', 'P10484', 'Q9Y294', 'P09619', 'A0A2P2LL28', 'A0A0M4BXD2', 'A0QZY0', 'A0R2B1', 'P11352', 'Q9Y294', 'A0A0B5EZQ3', 'A0A0K2VLS4', 'A0A0K2UT36', 'P05067', 'L8GL10', 'P01579', 'P17612', 'A0AAU8MIS4', 'Q61391', 'Q9H400', 'A0A0B5EZQ3', 'P02699', 'Q15303', 'P16554', 'A0A0D9RI81', 'L8GN38', 'P29320', 'Q92769', 'K7ENN9', 'O08967', 'A0A0B5EZQ3', None, 'A0A0K2VLS4', 'P19321', 'A0A0M4BXD2', 'A1YKZ4', 'Q9IK91', 'A0A7T8GL88', 'A0A0B5EZQ3', 'P16791', 'Q90738', 'P01574', 'A0A0B5EZQ3', 'O13563', 'D2KUB1', 'Q84128', 'P10635', 'Q9ZNZ7', 'O00936', 'A0A0B5EZQ3', 'A0A0M4BXD2', 'P39905', 'Q8N163', 'O95278', 'P29320', 'Q9ZNZ7', 'A0A0B5EZQ3', 'P06681', 'L8GZV5', 'A0A0K2VLS4', 'L8GZV5', 'A0A0B5EZQ3', 'A5A2Q4', 'A0A0B5EZQ3', 'A0A075F5C6', 'Q9T0I8', 'A0A0B5EZQ3', 'A0A669PQ19', 'A0A7T8GYP1', 'Q05397', 'A0A0K2TH30', None, 'Q9ZNZ7', 'A0A0K2VJS6', 'A0A0B5EZQ3', 'A0A0K2SWB5', 'L8HHY1', 'A0A0K2VLS4', 'P0AGB3', 'P08669', 'P45452', 'P0DW20', 'L8GZV5', 'L8GN38', 'L8GL10', 'L8GZV5', 'Q3TWR1', 'Q9Y294', None, 'O95278', 'A0A0K2VLS4', 'A0A4P9Y862', 'L8GZV5', 'Q14749', 'Q9L4Q7', 'O15520', 'Q95M86', 'P19883', None, 'A0A7G3ZMV7', 'P0C023', 'O43808', 'A0A0K2VLS4', 'P61996', None, 'L8HHY1', 'P45452', 'P45452', 'Q84128', 'Q9ZNZ7', 'A0A2P2LEY3', 'A0A0B5EZQ3', 'Q9Y294', 'O95278', 'L8GZV5', 'P29320', 'Q86PS1', 'Q9ZNZ7', 'Q60393', 'P19883', 'Q13547', 'O70305', 'Q9P206', 'A0A160UK81', 'P05067', 'P29320', 'A0A0B5EZQ3', 'P17612', 'A0A2I0UI84', 'L8GZV5', 'P05484', 'Q9H9E1', 'P35968', 'P42641', 'P00489', 'A0A0K2V2L0', 'A0A0K2VLS4', 'L8GNA7', 'A0A0B5EZQ3', 'P20436', 'L8HAM0', 'P22455', 'A0A1X7QGS8', 'O08967', 'Q9Y294', 'P00533', 'P29320', 'Q3U6Q5', 'L8GZV5', 'Q9ZNZ7', 'A0A0B5EZQ3', 'A0A146ZNM5', 'Q95M86', 'A0A2I0UBX0', 'A0A0K2VLS4', 'P42641', 'P0AD64', 'A0A0B5EZQ3', 'Q42512', 'Q9ZNZ7', 'Q84128', 'O14757', 'Q8C762', 'A0A0B5EZQ3', 'Q8IUH5', 'A0A481XUV9', 'L8GL10', 'L8GN38', 'A0A2R8Y291', 'A0A2L2Z9W0', 'P19883', None, 'L8GZV5', 'A0ASV4', 'L8GN38', 'A0A0B5EZQ3', 'Q3UQZ6', 'A0A0K2VLS4', 'P55085', 'L8GN38', 'A0A7T8QTS2', 'A0A0B5EZQ3', 'A0A0K2TC75', 'E7EVM8', 'A0A0K2UYJ8', 'P42124', None, 'Q65ZP9', 'Q84128', 'A0A0P1A9P5', 'L8GN38', None, 'A0A0B5EZQ3', 'L8GL10', 'A0A0P1A9P5', 'A0A0K2VLS4', 'A0A0B5EZQ3', 'Q9ULV8', 'S4R3J7', 'P05067', 'A0A0B5EZQ3', 'A0A0B5EZQ3', 'O00936', 'Q00987', 'A0AAF5I112', 'L8GN38', 'A1L471', 'A0AAF5I112', 'Q9Y618', 'A0A0B5EZQ3', 'Q2KDX6', None, 'A0A583ZBF4', 'P05067', 'A0A0K2SWB5', 'A0A0K2TH30', 'Q8C2B3', 'A0A173GP47', 'A0A0K2VLS4', 'O55239', 'A0A0B5EZQ3', 'P35968', 'L8GZV5', 'A0A0K2SWB5', 'L8GN38', 'Q8CWI5', 'Q61391', 'B5MD06', 'L8GZV5', 'Q86PS1', 'Q9Y294', 'F0W6D6', 'L8GN38', 'A0A1X7SK17', 'K7EJ20', 'F5CTF3', 'A0A286SD53', 'P22087', 'Q9P1Y0', None, 'Q9NTG7', 'A0A0B5EZQ3', 'Q84128', 'Q9ESJ1', 'Q9UHD8', 'P42641', 'Q9ZNZ7', None, 'P00157', 'P29320', 'Q23899', 'L8HGD4', 'L8GZV5', 'P16473', 'P42641']\n",
            "No results returned for Accession ID: ['B2BXS0', 'Q9Z0P7', 'L8GZV5', 'P05067', 'Q9ZNZ7', 'A0A0B5EZQ3', 'A0A0K2TU93', 'P12689', 'P24232', 'A0A7S0YHP8', 'A0A0K2VLS4', 'A0A0B5EZQ3', 'L8HAM0', None, 'O43808', 'L8GN38', 'P05067', 'L8GZV5', 'S5RV20', 'P35968', 'P29320', 'A0ASV4', 'P05067', 'A0A0B5EZQ3', 'O95278', 'P48051', 'O96028', 'A0A0K2VLS4', 'A0A7T8QTS2', 'A0A0B5EZQ3', 'A0A0B5EZQ3', 'A0A0B5EZQ3', 'P24527', 'Q2N0S6', 'H3BU54', 'D6RA31', 'Q9ZNZ7', 'P27692', 'A0A0K2VLS4', 'A0A0K2TU93', 'A0A0B5EZQ3', 'A0A0K2UIG1', 'O08580', 'A0A7T8GL88', 'Q9Y294', 'O51934', 'A0A7T8QTS2', 'P11086', None, 'A0A0B5EZQ3', 'B2BXS0', 'A0A0B5EZQ3', 'L8GZV5', None, None, 'L8HHY1', 'P70998', None, 'A0A0K2UG27', 'L8GZV5', 'H3BJ74', 'A0A0B5EZQ3', 'A0A0B5EZQ3', 'Q9Y294', 'P42641', 'L8GZV5', 'A0A0P1AX45', 'A0A0P1AX45', 'L8GN38', 'L8GZV5', 'P29320', 'A0A0P1AX45', 'L8GZV5', 'Q9ZNZ7', 'P16794', None, 'A0A0H3FMF8', 'L8GNA7', 'A0A7T8QTS2', 'A0A0B5EZQ3', 'A0A0B5EZQ3', 'P07954', 'Q9Y294', 'A0A0B5EZQ3', 'Q84128', 'P20154', 'Q9Y294', 'L8GN15', 'A0A0B5EZQ3', 'A0A0P1A9P5', 'O08530', 'Q8VEB1', 'Q6P2Q9', 'A0A0B5EZQ3', 'L8GZV5', 'P42641', 'A0A2P2MBX9', 'A0A0K2VLS4', 'P14647', 'P20154', 'D3YY46', 'Q15024', 'P04610', 'Q9ZNZ7', 'L8GZV5', 'P01308', 'A0A0K2VLS4', 'Q6PD10', 'P24462', 'L8GZV5', 'A2ASQ1', None, 'A0A0B5EZQ3', 'Q60515', 'L8GN38', 'A0A2R8Y559', 'A0A0P1AX45', 'A0A4P9Y862', 'A0A0K2VLS4', 'P9WHQ9', 'A0AAU8MIS4', 'A0A8S3T212', 'F8WCF4', None, None, 'P45563', 'P10484', 'Q9Y294', 'P09619', 'A0A2P2LL28', 'A0A0M4BXD2', 'A0QZY0', 'A0R2B1', 'P11352', 'Q9Y294', 'A0A0B5EZQ3', 'A0A0K2VLS4', 'A0A0K2UT36', 'P05067', 'L8GL10', 'P01579', 'P17612', 'A0AAU8MIS4', 'Q61391', 'Q9H400', 'A0A0B5EZQ3', 'P02699', 'Q15303', 'P16554', 'A0A0D9RI81', 'L8GN38', 'P29320', 'Q92769', 'K7ENN9', 'O08967', 'A0A0B5EZQ3', None, 'A0A0K2VLS4', 'P19321', 'A0A0M4BXD2', 'A1YKZ4', 'Q9IK91', 'A0A7T8GL88', 'A0A0B5EZQ3', 'P16791', 'Q90738', 'P01574', 'A0A0B5EZQ3', 'O13563', 'D2KUB1', 'Q84128', 'P10635', 'Q9ZNZ7', 'O00936', 'A0A0B5EZQ3', 'A0A0M4BXD2', 'P39905', 'Q8N163', 'O95278', 'P29320', 'Q9ZNZ7', 'A0A0B5EZQ3', 'P06681', 'L8GZV5', 'A0A0K2VLS4', 'L8GZV5', 'A0A0B5EZQ3', 'A5A2Q4', 'A0A0B5EZQ3', 'A0A075F5C6', 'Q9T0I8', 'A0A0B5EZQ3', 'A0A669PQ19', 'A0A7T8GYP1', 'Q05397', 'A0A0K2TH30', None, 'Q9ZNZ7', 'A0A0K2VJS6', 'A0A0B5EZQ3', 'A0A0K2SWB5', 'L8HHY1', 'A0A0K2VLS4', 'P0AGB3', 'P08669', 'P45452', 'P0DW20', 'L8GZV5', 'L8GN38', 'L8GL10', 'L8GZV5', 'Q3TWR1', 'Q9Y294', None, 'O95278', 'A0A0K2VLS4', 'A0A4P9Y862', 'L8GZV5', 'Q14749', 'Q9L4Q7', 'O15520', 'Q95M86', 'P19883', None, 'A0A7G3ZMV7', 'P0C023', 'O43808', 'A0A0K2VLS4', 'P61996', None, 'L8HHY1', 'P45452', 'P45452', 'Q84128', 'Q9ZNZ7', 'A0A2P2LEY3', 'A0A0B5EZQ3', 'Q9Y294', 'O95278', 'L8GZV5', 'P29320', 'Q86PS1', 'Q9ZNZ7', 'Q60393', 'P19883', 'Q13547', 'O70305', 'Q9P206', 'A0A160UK81', 'P05067', 'P29320', 'A0A0B5EZQ3', 'P17612', 'A0A2I0UI84', 'L8GZV5', 'P05484', 'Q9H9E1', 'P35968', 'P42641', 'P00489', 'A0A0K2V2L0', 'A0A0K2VLS4', 'L8GNA7', 'A0A0B5EZQ3', 'P20436', 'L8HAM0', 'P22455', 'A0A1X7QGS8', 'O08967', 'Q9Y294', 'P00533', 'P29320', 'Q3U6Q5', 'L8GZV5', 'Q9ZNZ7', 'A0A0B5EZQ3', 'A0A146ZNM5', 'Q95M86', 'A0A2I0UBX0', 'A0A0K2VLS4', 'P42641', 'P0AD64', 'A0A0B5EZQ3', 'Q42512', 'Q9ZNZ7', 'Q84128', 'O14757', 'Q8C762', 'A0A0B5EZQ3', 'Q8IUH5', 'A0A481XUV9', 'L8GL10', 'L8GN38', 'A0A2R8Y291', 'A0A2L2Z9W0', 'P19883', None, 'L8GZV5', 'A0ASV4', 'L8GN38', 'A0A0B5EZQ3', 'Q3UQZ6', 'A0A0K2VLS4', 'P55085', 'L8GN38', 'A0A7T8QTS2', 'A0A0B5EZQ3', 'A0A0K2TC75', 'E7EVM8', 'A0A0K2UYJ8', 'P42124', None, 'Q65ZP9', 'Q84128', 'A0A0P1A9P5', 'L8GN38', None, 'A0A0B5EZQ3', 'L8GL10', 'A0A0P1A9P5', 'A0A0K2VLS4', 'A0A0B5EZQ3', 'Q9ULV8', 'S4R3J7', 'P05067', 'A0A0B5EZQ3', 'A0A0B5EZQ3', 'O00936', 'Q00987', 'A0AAF5I112', 'L8GN38', 'A1L471', 'A0AAF5I112', 'Q9Y618', 'A0A0B5EZQ3', 'Q2KDX6', None, 'A0A583ZBF4', 'P05067', 'A0A0K2SWB5', 'A0A0K2TH30', 'Q8C2B3', 'A0A173GP47', 'A0A0K2VLS4', 'O55239', 'A0A0B5EZQ3', 'P35968', 'L8GZV5', 'A0A0K2SWB5', 'L8GN38', 'Q8CWI5', 'Q61391', 'B5MD06', 'L8GZV5', 'Q86PS1', 'Q9Y294', 'F0W6D6', 'L8GN38', 'A0A1X7SK17', 'K7EJ20', 'F5CTF3', 'A0A286SD53', 'P22087', 'Q9P1Y0', None, 'Q9NTG7', 'A0A0B5EZQ3', 'Q84128', 'Q9ESJ1', 'Q9UHD8', 'P42641', 'Q9ZNZ7', None, 'P00157', 'P29320', 'Q23899', 'L8HGD4', 'L8GZV5', 'P16473', 'P42641']\n",
            "UniProt query failed for ['B6ZDR5', 'A0A0J9YY46', 'P0DMS8', 'A0A0K2T929', 'P54287', 'A0A0N7J5R0', 'P29274', 'P01579', 'Q76N29', 'O55068', 'A0A0K2T929', 'B6ZDR4', 'A0A0K2T929', 'Q8BZ71', 'P14647', 'B6ZDR3', 'A1L471', 'P05484', 'Q60612', 'Q9Y294', 'A0A812L9K0', 'Q99246'] with status code: 400\n",
            "No sequence data found for Accession ID: ['B6ZDR5', 'A0A0J9YY46', 'P0DMS8', 'A0A0K2T929', 'P54287', 'A0A0N7J5R0', 'P29274', 'P01579', 'Q76N29', 'O55068', 'A0A0K2T929', 'B6ZDR4', 'A0A0K2T929', 'Q8BZ71', 'P14647', 'B6ZDR3', 'A1L471', 'P05484', 'Q60612', 'Q9Y294', 'A0A812L9K0', 'Q99246']\n",
            "No results returned for Accession ID: ['B6ZDR5', 'A0A0J9YY46', 'P0DMS8', 'A0A0K2T929', 'P54287', 'A0A0N7J5R0', 'P29274', 'P01579', 'Q76N29', 'O55068', 'A0A0K2T929', 'B6ZDR4', 'A0A0K2T929', 'Q8BZ71', 'P14647', 'B6ZDR3', 'A1L471', 'P05484', 'Q60612', 'Q9Y294', 'A0A812L9K0', 'Q99246']\n",
            "UniProt query failed for [] with status code: 400\n",
            "No sequence data found for Accession ID: []\n",
            "No results returned for Accession ID: []\n",
            "UniProt query failed for ['P10635', 'Q61026', 'O00255', 'A1Z198', 'Q5SYQ8', 'P47928', 'G3V554', 'Q8QG78', 'E9Q652', 'P54287', 'I3L1D5', 'P0C023', 'Q8BJQ2', 'Q921E6', 'P62805', 'P15428', 'E5RIP7', 'P61964', 'P08670', 'P01579', 'A0A286YES9', 'P62805', 'P76256', 'P0C023', 'P0C023', 'O53996', 'A0A0A0MQF6', 'H6V745', 'I6L9I6', 'P12504', 'Q00987', 'P76256', 'P10824', 'P0C023', 'P33261', 'A2AFL5', 'P0C023', 'Q0QER9', 'P0C023', 'Q01831', 'Q8WZA2', 'P14647', 'E7EVM8', 'O23310', 'P98170', 'P0C023', 'S5RV20', 'P04062', 'Q8BQB2', 'Q8IUH5', 'P05484', 'P16050', 'A0A338P781', 'P0C023', 'P0C023', 'Q8W209', 'P57764', 'P05177', None, 'P22217', 'P0C023', 'A0A1B0RYB7', 'A2A5Y6', None, 'Q9UGJ4', 'H3BKA8', 'Q9Y294', 'K7ENN9', 'P59768', 'Q15648', 'O96028', 'P0C023', 'Q9UBT6', 'Q2TS46', 'P54132'] with status code: 400\n",
            "No sequence data found for Accession ID: ['P10635', 'Q61026', 'O00255', 'A1Z198', 'Q5SYQ8', 'P47928', 'G3V554', 'Q8QG78', 'E9Q652', 'P54287', 'I3L1D5', 'P0C023', 'Q8BJQ2', 'Q921E6', 'P62805', 'P15428', 'E5RIP7', 'P61964', 'P08670', 'P01579', 'A0A286YES9', 'P62805', 'P76256', 'P0C023', 'P0C023', 'O53996', 'A0A0A0MQF6', 'H6V745', 'I6L9I6', 'P12504', 'Q00987', 'P76256', 'P10824', 'P0C023', 'P33261', 'A2AFL5', 'P0C023', 'Q0QER9', 'P0C023', 'Q01831', 'Q8WZA2', 'P14647', 'E7EVM8', 'O23310', 'P98170', 'P0C023', 'S5RV20', 'P04062', 'Q8BQB2', 'Q8IUH5', 'P05484', 'P16050', 'A0A338P781', 'P0C023', 'P0C023', 'Q8W209', 'P57764', 'P05177', None, 'P22217', 'P0C023', 'A0A1B0RYB7', 'A2A5Y6', None, 'Q9UGJ4', 'H3BKA8', 'Q9Y294', 'K7ENN9', 'P59768', 'Q15648', 'O96028', 'P0C023', 'Q9UBT6', 'Q2TS46', 'P54132']\n",
            "No results returned for Accession ID: ['P10635', 'Q61026', 'O00255', 'A1Z198', 'Q5SYQ8', 'P47928', 'G3V554', 'Q8QG78', 'E9Q652', 'P54287', 'I3L1D5', 'P0C023', 'Q8BJQ2', 'Q921E6', 'P62805', 'P15428', 'E5RIP7', 'P61964', 'P08670', 'P01579', 'A0A286YES9', 'P62805', 'P76256', 'P0C023', 'P0C023', 'O53996', 'A0A0A0MQF6', 'H6V745', 'I6L9I6', 'P12504', 'Q00987', 'P76256', 'P10824', 'P0C023', 'P33261', 'A2AFL5', 'P0C023', 'Q0QER9', 'P0C023', 'Q01831', 'Q8WZA2', 'P14647', 'E7EVM8', 'O23310', 'P98170', 'P0C023', 'S5RV20', 'P04062', 'Q8BQB2', 'Q8IUH5', 'P05484', 'P16050', 'A0A338P781', 'P0C023', 'P0C023', 'Q8W209', 'P57764', 'P05177', None, 'P22217', 'P0C023', 'A0A1B0RYB7', 'A2A5Y6', None, 'Q9UGJ4', 'H3BKA8', 'Q9Y294', 'K7ENN9', 'P59768', 'Q15648', 'O96028', 'P0C023', 'Q9UBT6', 'Q2TS46', 'P54132']\n",
            "UniProt query failed for ['P14647', 'Q9Y294', 'P01579', 'P05484'] with status code: 400\n",
            "No sequence data found for Accession ID: ['P14647', 'Q9Y294', 'P01579', 'P05484']\n",
            "No results returned for Accession ID: ['P14647', 'Q9Y294', 'P01579', 'P05484']\n"
          ]
        },
        {
          "output_type": "error",
          "ename": "KeyboardInterrupt",
          "evalue": "",
          "traceback": [
            "\u001b[0;31m---------------------------------------------------------------------------\u001b[0m",
            "\u001b[0;31mKeyboardInterrupt\u001b[0m                         Traceback (most recent call last)",
            "\u001b[0;32m<ipython-input-40-3c255c35cb8b>\u001b[0m in \u001b[0;36m<cell line: 0>\u001b[0;34m()\u001b[0m\n\u001b[1;32m     53\u001b[0m   \u001b[0mtoxon_results\u001b[0m \u001b[0;34m=\u001b[0m \u001b[0;34m{\u001b[0m\u001b[0;34m}\u001b[0m\u001b[0;34m\u001b[0m\u001b[0;34m\u001b[0m\u001b[0m\n\u001b[1;32m     54\u001b[0m   \u001b[0;32mfor\u001b[0m \u001b[0maccession_id\u001b[0m \u001b[0;32min\u001b[0m \u001b[0mids\u001b[0m\u001b[0;34m:\u001b[0m\u001b[0;34m\u001b[0m\u001b[0;34m\u001b[0m\u001b[0m\n\u001b[0;32m---> 55\u001b[0;31m     \u001b[0mresult\u001b[0m \u001b[0;34m=\u001b[0m \u001b[0mfetch_and_blast_sequence\u001b[0m\u001b[0;34m(\u001b[0m\u001b[0maccession_id\u001b[0m\u001b[0;34m,\u001b[0m \u001b[0mtaxonomy\u001b[0m\u001b[0;34m=\u001b[0m\u001b[0;36m5833\u001b[0m\u001b[0;34m)\u001b[0m\u001b[0;34m\u001b[0m\u001b[0;34m\u001b[0m\u001b[0m\n\u001b[0m\u001b[1;32m     56\u001b[0m     \u001b[0;32mif\u001b[0m \u001b[0mresult\u001b[0m\u001b[0;34m:\u001b[0m\u001b[0;34m\u001b[0m\u001b[0;34m\u001b[0m\u001b[0m\n\u001b[1;32m     57\u001b[0m       \u001b[0mtoxon_results\u001b[0m\u001b[0;34m[\u001b[0m\u001b[0maccession_id\u001b[0m\u001b[0;34m]\u001b[0m \u001b[0;34m=\u001b[0m \u001b[0mresult\u001b[0m\u001b[0;34m\u001b[0m\u001b[0;34m\u001b[0m\u001b[0m\n",
            "\u001b[0;32m<ipython-input-39-e9df0e528461>\u001b[0m in \u001b[0;36mfetch_and_blast_sequence\u001b[0;34m(accession_id, taxonomy, blast_db, blast_type, expect, matrix_name, alignments, hitlist_size, filter, gapcosts)\u001b[0m\n\u001b[1;32m     24\u001b[0m     \u001b[0mFetch\u001b[0m \u001b[0ma\u001b[0m \u001b[0msequence\u001b[0m \u001b[0;32mfrom\u001b[0m \u001b[0mUniProt\u001b[0m\u001b[0;34m,\u001b[0m \u001b[0mrun\u001b[0m \u001b[0mBLAST\u001b[0m\u001b[0;34m,\u001b[0m \u001b[0mprint\u001b[0m \u001b[0;32mand\u001b[0m \u001b[0;32mreturn\u001b[0m \u001b[0mresults\u001b[0m \u001b[0;32mas\u001b[0m \u001b[0ma\u001b[0m \u001b[0mdictionary\u001b[0m\u001b[0;34m.\u001b[0m\u001b[0;34m\u001b[0m\u001b[0;34m\u001b[0m\u001b[0m\n\u001b[1;32m     25\u001b[0m     \"\"\"\n\u001b[0;32m---> 26\u001b[0;31m     \u001b[0msequence_data\u001b[0m \u001b[0;34m=\u001b[0m \u001b[0mfetch_uniprot_sequence\u001b[0m\u001b[0;34m(\u001b[0m\u001b[0maccession_id\u001b[0m\u001b[0;34m)\u001b[0m\u001b[0;34m\u001b[0m\u001b[0;34m\u001b[0m\u001b[0m\n\u001b[0m\u001b[1;32m     27\u001b[0m     \u001b[0;32mif\u001b[0m \u001b[0;32mnot\u001b[0m \u001b[0msequence_data\u001b[0m\u001b[0;34m:\u001b[0m\u001b[0;34m\u001b[0m\u001b[0;34m\u001b[0m\u001b[0m\n\u001b[1;32m     28\u001b[0m         \u001b[0mprint\u001b[0m\u001b[0;34m(\u001b[0m\u001b[0;34mf\"No sequence data found for Accession ID: {accession_id}\"\u001b[0m\u001b[0;34m)\u001b[0m\u001b[0;34m\u001b[0m\u001b[0;34m\u001b[0m\u001b[0m\n",
            "\u001b[0;32m<ipython-input-39-e9df0e528461>\u001b[0m in \u001b[0;36mfetch_uniprot_sequence\u001b[0;34m(accession_id)\u001b[0m\n\u001b[1;32m      8\u001b[0m     \u001b[0murl\u001b[0m \u001b[0;34m=\u001b[0m \u001b[0;34mf\"https://rest.uniprot.org/uniprotkb/{accession_id}.fasta\"\u001b[0m\u001b[0;34m\u001b[0m\u001b[0;34m\u001b[0m\u001b[0m\n\u001b[1;32m      9\u001b[0m     \u001b[0;32mtry\u001b[0m\u001b[0;34m:\u001b[0m\u001b[0;34m\u001b[0m\u001b[0;34m\u001b[0m\u001b[0m\n\u001b[0;32m---> 10\u001b[0;31m         \u001b[0mresponse\u001b[0m \u001b[0;34m=\u001b[0m \u001b[0mrequests\u001b[0m\u001b[0;34m.\u001b[0m\u001b[0mget\u001b[0m\u001b[0;34m(\u001b[0m\u001b[0murl\u001b[0m\u001b[0;34m)\u001b[0m\u001b[0;34m\u001b[0m\u001b[0;34m\u001b[0m\u001b[0m\n\u001b[0m\u001b[1;32m     11\u001b[0m         \u001b[0;32mif\u001b[0m \u001b[0mresponse\u001b[0m\u001b[0;34m.\u001b[0m\u001b[0mstatus_code\u001b[0m \u001b[0;34m==\u001b[0m \u001b[0;36m200\u001b[0m\u001b[0;34m:\u001b[0m\u001b[0;34m\u001b[0m\u001b[0;34m\u001b[0m\u001b[0m\n\u001b[1;32m     12\u001b[0m             \u001b[0;32mreturn\u001b[0m \u001b[0mresponse\u001b[0m\u001b[0;34m.\u001b[0m\u001b[0mtext\u001b[0m\u001b[0;34m\u001b[0m\u001b[0;34m\u001b[0m\u001b[0m\n",
            "\u001b[0;32m/usr/local/lib/python3.11/dist-packages/requests/api.py\u001b[0m in \u001b[0;36mget\u001b[0;34m(url, params, **kwargs)\u001b[0m\n\u001b[1;32m     71\u001b[0m     \"\"\"\n\u001b[1;32m     72\u001b[0m \u001b[0;34m\u001b[0m\u001b[0m\n\u001b[0;32m---> 73\u001b[0;31m     \u001b[0;32mreturn\u001b[0m \u001b[0mrequest\u001b[0m\u001b[0;34m(\u001b[0m\u001b[0;34m\"get\"\u001b[0m\u001b[0;34m,\u001b[0m \u001b[0murl\u001b[0m\u001b[0;34m,\u001b[0m \u001b[0mparams\u001b[0m\u001b[0;34m=\u001b[0m\u001b[0mparams\u001b[0m\u001b[0;34m,\u001b[0m \u001b[0;34m**\u001b[0m\u001b[0mkwargs\u001b[0m\u001b[0;34m)\u001b[0m\u001b[0;34m\u001b[0m\u001b[0;34m\u001b[0m\u001b[0m\n\u001b[0m\u001b[1;32m     74\u001b[0m \u001b[0;34m\u001b[0m\u001b[0m\n\u001b[1;32m     75\u001b[0m \u001b[0;34m\u001b[0m\u001b[0m\n",
            "\u001b[0;32m/usr/local/lib/python3.11/dist-packages/requests/api.py\u001b[0m in \u001b[0;36mrequest\u001b[0;34m(method, url, **kwargs)\u001b[0m\n\u001b[1;32m     57\u001b[0m     \u001b[0;31m# cases, and look like a memory leak in others.\u001b[0m\u001b[0;34m\u001b[0m\u001b[0;34m\u001b[0m\u001b[0m\n\u001b[1;32m     58\u001b[0m     \u001b[0;32mwith\u001b[0m \u001b[0msessions\u001b[0m\u001b[0;34m.\u001b[0m\u001b[0mSession\u001b[0m\u001b[0;34m(\u001b[0m\u001b[0;34m)\u001b[0m \u001b[0;32mas\u001b[0m \u001b[0msession\u001b[0m\u001b[0;34m:\u001b[0m\u001b[0;34m\u001b[0m\u001b[0;34m\u001b[0m\u001b[0m\n\u001b[0;32m---> 59\u001b[0;31m         \u001b[0;32mreturn\u001b[0m \u001b[0msession\u001b[0m\u001b[0;34m.\u001b[0m\u001b[0mrequest\u001b[0m\u001b[0;34m(\u001b[0m\u001b[0mmethod\u001b[0m\u001b[0;34m=\u001b[0m\u001b[0mmethod\u001b[0m\u001b[0;34m,\u001b[0m \u001b[0murl\u001b[0m\u001b[0;34m=\u001b[0m\u001b[0murl\u001b[0m\u001b[0;34m,\u001b[0m \u001b[0;34m**\u001b[0m\u001b[0mkwargs\u001b[0m\u001b[0;34m)\u001b[0m\u001b[0;34m\u001b[0m\u001b[0;34m\u001b[0m\u001b[0m\n\u001b[0m\u001b[1;32m     60\u001b[0m \u001b[0;34m\u001b[0m\u001b[0m\n\u001b[1;32m     61\u001b[0m \u001b[0;34m\u001b[0m\u001b[0m\n",
            "\u001b[0;32m/usr/local/lib/python3.11/dist-packages/requests/sessions.py\u001b[0m in \u001b[0;36mrequest\u001b[0;34m(self, method, url, params, data, headers, cookies, files, auth, timeout, allow_redirects, proxies, hooks, stream, verify, cert, json)\u001b[0m\n\u001b[1;32m    587\u001b[0m         }\n\u001b[1;32m    588\u001b[0m         \u001b[0msend_kwargs\u001b[0m\u001b[0;34m.\u001b[0m\u001b[0mupdate\u001b[0m\u001b[0;34m(\u001b[0m\u001b[0msettings\u001b[0m\u001b[0;34m)\u001b[0m\u001b[0;34m\u001b[0m\u001b[0;34m\u001b[0m\u001b[0m\n\u001b[0;32m--> 589\u001b[0;31m         \u001b[0mresp\u001b[0m \u001b[0;34m=\u001b[0m \u001b[0mself\u001b[0m\u001b[0;34m.\u001b[0m\u001b[0msend\u001b[0m\u001b[0;34m(\u001b[0m\u001b[0mprep\u001b[0m\u001b[0;34m,\u001b[0m \u001b[0;34m**\u001b[0m\u001b[0msend_kwargs\u001b[0m\u001b[0;34m)\u001b[0m\u001b[0;34m\u001b[0m\u001b[0;34m\u001b[0m\u001b[0m\n\u001b[0m\u001b[1;32m    590\u001b[0m \u001b[0;34m\u001b[0m\u001b[0m\n\u001b[1;32m    591\u001b[0m         \u001b[0;32mreturn\u001b[0m \u001b[0mresp\u001b[0m\u001b[0;34m\u001b[0m\u001b[0;34m\u001b[0m\u001b[0m\n",
            "\u001b[0;32m/usr/local/lib/python3.11/dist-packages/requests/sessions.py\u001b[0m in \u001b[0;36msend\u001b[0;34m(self, request, **kwargs)\u001b[0m\n\u001b[1;32m    701\u001b[0m \u001b[0;34m\u001b[0m\u001b[0m\n\u001b[1;32m    702\u001b[0m         \u001b[0;31m# Send the request\u001b[0m\u001b[0;34m\u001b[0m\u001b[0;34m\u001b[0m\u001b[0m\n\u001b[0;32m--> 703\u001b[0;31m         \u001b[0mr\u001b[0m \u001b[0;34m=\u001b[0m \u001b[0madapter\u001b[0m\u001b[0;34m.\u001b[0m\u001b[0msend\u001b[0m\u001b[0;34m(\u001b[0m\u001b[0mrequest\u001b[0m\u001b[0;34m,\u001b[0m \u001b[0;34m**\u001b[0m\u001b[0mkwargs\u001b[0m\u001b[0;34m)\u001b[0m\u001b[0;34m\u001b[0m\u001b[0;34m\u001b[0m\u001b[0m\n\u001b[0m\u001b[1;32m    704\u001b[0m \u001b[0;34m\u001b[0m\u001b[0m\n\u001b[1;32m    705\u001b[0m         \u001b[0;31m# Total elapsed time of the request (approximately)\u001b[0m\u001b[0;34m\u001b[0m\u001b[0;34m\u001b[0m\u001b[0m\n",
            "\u001b[0;32m/usr/local/lib/python3.11/dist-packages/requests/adapters.py\u001b[0m in \u001b[0;36msend\u001b[0;34m(self, request, stream, timeout, verify, cert, proxies)\u001b[0m\n\u001b[1;32m    665\u001b[0m \u001b[0;34m\u001b[0m\u001b[0m\n\u001b[1;32m    666\u001b[0m         \u001b[0;32mtry\u001b[0m\u001b[0;34m:\u001b[0m\u001b[0;34m\u001b[0m\u001b[0;34m\u001b[0m\u001b[0m\n\u001b[0;32m--> 667\u001b[0;31m             resp = conn.urlopen(\n\u001b[0m\u001b[1;32m    668\u001b[0m                 \u001b[0mmethod\u001b[0m\u001b[0;34m=\u001b[0m\u001b[0mrequest\u001b[0m\u001b[0;34m.\u001b[0m\u001b[0mmethod\u001b[0m\u001b[0;34m,\u001b[0m\u001b[0;34m\u001b[0m\u001b[0;34m\u001b[0m\u001b[0m\n\u001b[1;32m    669\u001b[0m                 \u001b[0murl\u001b[0m\u001b[0;34m=\u001b[0m\u001b[0murl\u001b[0m\u001b[0;34m,\u001b[0m\u001b[0;34m\u001b[0m\u001b[0;34m\u001b[0m\u001b[0m\n",
            "\u001b[0;32m/usr/local/lib/python3.11/dist-packages/urllib3/connectionpool.py\u001b[0m in \u001b[0;36murlopen\u001b[0;34m(self, method, url, body, headers, retries, redirect, assert_same_host, timeout, pool_timeout, release_conn, chunked, body_pos, preload_content, decode_content, **response_kw)\u001b[0m\n\u001b[1;32m    785\u001b[0m \u001b[0;34m\u001b[0m\u001b[0m\n\u001b[1;32m    786\u001b[0m             \u001b[0;31m# Make the request on the HTTPConnection object\u001b[0m\u001b[0;34m\u001b[0m\u001b[0;34m\u001b[0m\u001b[0m\n\u001b[0;32m--> 787\u001b[0;31m             response = self._make_request(\n\u001b[0m\u001b[1;32m    788\u001b[0m                 \u001b[0mconn\u001b[0m\u001b[0;34m,\u001b[0m\u001b[0;34m\u001b[0m\u001b[0;34m\u001b[0m\u001b[0m\n\u001b[1;32m    789\u001b[0m                 \u001b[0mmethod\u001b[0m\u001b[0;34m,\u001b[0m\u001b[0;34m\u001b[0m\u001b[0;34m\u001b[0m\u001b[0m\n",
            "\u001b[0;32m/usr/local/lib/python3.11/dist-packages/urllib3/connectionpool.py\u001b[0m in \u001b[0;36m_make_request\u001b[0;34m(self, conn, method, url, body, headers, retries, timeout, chunked, response_conn, preload_content, decode_content, enforce_content_length)\u001b[0m\n\u001b[1;32m    532\u001b[0m         \u001b[0;31m# Receive the response from the server\u001b[0m\u001b[0;34m\u001b[0m\u001b[0;34m\u001b[0m\u001b[0m\n\u001b[1;32m    533\u001b[0m         \u001b[0;32mtry\u001b[0m\u001b[0;34m:\u001b[0m\u001b[0;34m\u001b[0m\u001b[0;34m\u001b[0m\u001b[0m\n\u001b[0;32m--> 534\u001b[0;31m             \u001b[0mresponse\u001b[0m \u001b[0;34m=\u001b[0m \u001b[0mconn\u001b[0m\u001b[0;34m.\u001b[0m\u001b[0mgetresponse\u001b[0m\u001b[0;34m(\u001b[0m\u001b[0;34m)\u001b[0m\u001b[0;34m\u001b[0m\u001b[0;34m\u001b[0m\u001b[0m\n\u001b[0m\u001b[1;32m    535\u001b[0m         \u001b[0;32mexcept\u001b[0m \u001b[0;34m(\u001b[0m\u001b[0mBaseSSLError\u001b[0m\u001b[0;34m,\u001b[0m \u001b[0mOSError\u001b[0m\u001b[0;34m)\u001b[0m \u001b[0;32mas\u001b[0m \u001b[0me\u001b[0m\u001b[0;34m:\u001b[0m\u001b[0;34m\u001b[0m\u001b[0;34m\u001b[0m\u001b[0m\n\u001b[1;32m    536\u001b[0m             \u001b[0mself\u001b[0m\u001b[0;34m.\u001b[0m\u001b[0m_raise_timeout\u001b[0m\u001b[0;34m(\u001b[0m\u001b[0merr\u001b[0m\u001b[0;34m=\u001b[0m\u001b[0me\u001b[0m\u001b[0;34m,\u001b[0m \u001b[0murl\u001b[0m\u001b[0;34m=\u001b[0m\u001b[0murl\u001b[0m\u001b[0;34m,\u001b[0m \u001b[0mtimeout_value\u001b[0m\u001b[0;34m=\u001b[0m\u001b[0mread_timeout\u001b[0m\u001b[0;34m)\u001b[0m\u001b[0;34m\u001b[0m\u001b[0;34m\u001b[0m\u001b[0m\n",
            "\u001b[0;32m/usr/local/lib/python3.11/dist-packages/urllib3/connection.py\u001b[0m in \u001b[0;36mgetresponse\u001b[0;34m(self)\u001b[0m\n\u001b[1;32m    514\u001b[0m \u001b[0;34m\u001b[0m\u001b[0m\n\u001b[1;32m    515\u001b[0m         \u001b[0;31m# Get the response from http.client.HTTPConnection\u001b[0m\u001b[0;34m\u001b[0m\u001b[0;34m\u001b[0m\u001b[0m\n\u001b[0;32m--> 516\u001b[0;31m         \u001b[0mhttplib_response\u001b[0m \u001b[0;34m=\u001b[0m \u001b[0msuper\u001b[0m\u001b[0;34m(\u001b[0m\u001b[0;34m)\u001b[0m\u001b[0;34m.\u001b[0m\u001b[0mgetresponse\u001b[0m\u001b[0;34m(\u001b[0m\u001b[0;34m)\u001b[0m\u001b[0;34m\u001b[0m\u001b[0;34m\u001b[0m\u001b[0m\n\u001b[0m\u001b[1;32m    517\u001b[0m \u001b[0;34m\u001b[0m\u001b[0m\n\u001b[1;32m    518\u001b[0m         \u001b[0;32mtry\u001b[0m\u001b[0;34m:\u001b[0m\u001b[0;34m\u001b[0m\u001b[0;34m\u001b[0m\u001b[0m\n",
            "\u001b[0;32m/usr/lib/python3.11/http/client.py\u001b[0m in \u001b[0;36mgetresponse\u001b[0;34m(self)\u001b[0m\n\u001b[1;32m   1393\u001b[0m         \u001b[0;32mtry\u001b[0m\u001b[0;34m:\u001b[0m\u001b[0;34m\u001b[0m\u001b[0;34m\u001b[0m\u001b[0m\n\u001b[1;32m   1394\u001b[0m             \u001b[0;32mtry\u001b[0m\u001b[0;34m:\u001b[0m\u001b[0;34m\u001b[0m\u001b[0;34m\u001b[0m\u001b[0m\n\u001b[0;32m-> 1395\u001b[0;31m                 \u001b[0mresponse\u001b[0m\u001b[0;34m.\u001b[0m\u001b[0mbegin\u001b[0m\u001b[0;34m(\u001b[0m\u001b[0;34m)\u001b[0m\u001b[0;34m\u001b[0m\u001b[0;34m\u001b[0m\u001b[0m\n\u001b[0m\u001b[1;32m   1396\u001b[0m             \u001b[0;32mexcept\u001b[0m \u001b[0mConnectionError\u001b[0m\u001b[0;34m:\u001b[0m\u001b[0;34m\u001b[0m\u001b[0;34m\u001b[0m\u001b[0m\n\u001b[1;32m   1397\u001b[0m                 \u001b[0mself\u001b[0m\u001b[0;34m.\u001b[0m\u001b[0mclose\u001b[0m\u001b[0;34m(\u001b[0m\u001b[0;34m)\u001b[0m\u001b[0;34m\u001b[0m\u001b[0;34m\u001b[0m\u001b[0m\n",
            "\u001b[0;32m/usr/lib/python3.11/http/client.py\u001b[0m in \u001b[0;36mbegin\u001b[0;34m(self)\u001b[0m\n\u001b[1;32m    323\u001b[0m         \u001b[0;31m# read until we get a non-100 response\u001b[0m\u001b[0;34m\u001b[0m\u001b[0;34m\u001b[0m\u001b[0m\n\u001b[1;32m    324\u001b[0m         \u001b[0;32mwhile\u001b[0m \u001b[0;32mTrue\u001b[0m\u001b[0;34m:\u001b[0m\u001b[0;34m\u001b[0m\u001b[0;34m\u001b[0m\u001b[0m\n\u001b[0;32m--> 325\u001b[0;31m             \u001b[0mversion\u001b[0m\u001b[0;34m,\u001b[0m \u001b[0mstatus\u001b[0m\u001b[0;34m,\u001b[0m \u001b[0mreason\u001b[0m \u001b[0;34m=\u001b[0m \u001b[0mself\u001b[0m\u001b[0;34m.\u001b[0m\u001b[0m_read_status\u001b[0m\u001b[0;34m(\u001b[0m\u001b[0;34m)\u001b[0m\u001b[0;34m\u001b[0m\u001b[0;34m\u001b[0m\u001b[0m\n\u001b[0m\u001b[1;32m    326\u001b[0m             \u001b[0;32mif\u001b[0m \u001b[0mstatus\u001b[0m \u001b[0;34m!=\u001b[0m \u001b[0mCONTINUE\u001b[0m\u001b[0;34m:\u001b[0m\u001b[0;34m\u001b[0m\u001b[0;34m\u001b[0m\u001b[0m\n\u001b[1;32m    327\u001b[0m                 \u001b[0;32mbreak\u001b[0m\u001b[0;34m\u001b[0m\u001b[0;34m\u001b[0m\u001b[0m\n",
            "\u001b[0;32m/usr/lib/python3.11/http/client.py\u001b[0m in \u001b[0;36m_read_status\u001b[0;34m(self)\u001b[0m\n\u001b[1;32m    284\u001b[0m \u001b[0;34m\u001b[0m\u001b[0m\n\u001b[1;32m    285\u001b[0m     \u001b[0;32mdef\u001b[0m \u001b[0m_read_status\u001b[0m\u001b[0;34m(\u001b[0m\u001b[0mself\u001b[0m\u001b[0;34m)\u001b[0m\u001b[0;34m:\u001b[0m\u001b[0;34m\u001b[0m\u001b[0;34m\u001b[0m\u001b[0m\n\u001b[0;32m--> 286\u001b[0;31m         \u001b[0mline\u001b[0m \u001b[0;34m=\u001b[0m \u001b[0mstr\u001b[0m\u001b[0;34m(\u001b[0m\u001b[0mself\u001b[0m\u001b[0;34m.\u001b[0m\u001b[0mfp\u001b[0m\u001b[0;34m.\u001b[0m\u001b[0mreadline\u001b[0m\u001b[0;34m(\u001b[0m\u001b[0m_MAXLINE\u001b[0m \u001b[0;34m+\u001b[0m \u001b[0;36m1\u001b[0m\u001b[0;34m)\u001b[0m\u001b[0;34m,\u001b[0m \u001b[0;34m\"iso-8859-1\"\u001b[0m\u001b[0;34m)\u001b[0m\u001b[0;34m\u001b[0m\u001b[0;34m\u001b[0m\u001b[0m\n\u001b[0m\u001b[1;32m    287\u001b[0m         \u001b[0;32mif\u001b[0m \u001b[0mlen\u001b[0m\u001b[0;34m(\u001b[0m\u001b[0mline\u001b[0m\u001b[0;34m)\u001b[0m \u001b[0;34m>\u001b[0m \u001b[0m_MAXLINE\u001b[0m\u001b[0;34m:\u001b[0m\u001b[0;34m\u001b[0m\u001b[0;34m\u001b[0m\u001b[0m\n\u001b[1;32m    288\u001b[0m             \u001b[0;32mraise\u001b[0m \u001b[0mLineTooLong\u001b[0m\u001b[0;34m(\u001b[0m\u001b[0;34m\"status line\"\u001b[0m\u001b[0;34m)\u001b[0m\u001b[0;34m\u001b[0m\u001b[0;34m\u001b[0m\u001b[0m\n",
            "\u001b[0;32m/usr/lib/python3.11/socket.py\u001b[0m in \u001b[0;36mreadinto\u001b[0;34m(self, b)\u001b[0m\n\u001b[1;32m    716\u001b[0m         \u001b[0;32mwhile\u001b[0m \u001b[0;32mTrue\u001b[0m\u001b[0;34m:\u001b[0m\u001b[0;34m\u001b[0m\u001b[0;34m\u001b[0m\u001b[0m\n\u001b[1;32m    717\u001b[0m             \u001b[0;32mtry\u001b[0m\u001b[0;34m:\u001b[0m\u001b[0;34m\u001b[0m\u001b[0;34m\u001b[0m\u001b[0m\n\u001b[0;32m--> 718\u001b[0;31m                 \u001b[0;32mreturn\u001b[0m \u001b[0mself\u001b[0m\u001b[0;34m.\u001b[0m\u001b[0m_sock\u001b[0m\u001b[0;34m.\u001b[0m\u001b[0mrecv_into\u001b[0m\u001b[0;34m(\u001b[0m\u001b[0mb\u001b[0m\u001b[0;34m)\u001b[0m\u001b[0;34m\u001b[0m\u001b[0;34m\u001b[0m\u001b[0m\n\u001b[0m\u001b[1;32m    719\u001b[0m             \u001b[0;32mexcept\u001b[0m \u001b[0mtimeout\u001b[0m\u001b[0;34m:\u001b[0m\u001b[0;34m\u001b[0m\u001b[0;34m\u001b[0m\u001b[0m\n\u001b[1;32m    720\u001b[0m                 \u001b[0mself\u001b[0m\u001b[0;34m.\u001b[0m\u001b[0m_timeout_occurred\u001b[0m \u001b[0;34m=\u001b[0m \u001b[0;32mTrue\u001b[0m\u001b[0;34m\u001b[0m\u001b[0;34m\u001b[0m\u001b[0m\n",
            "\u001b[0;32m/usr/lib/python3.11/ssl.py\u001b[0m in \u001b[0;36mrecv_into\u001b[0;34m(self, buffer, nbytes, flags)\u001b[0m\n\u001b[1;32m   1312\u001b[0m                   \u001b[0;34m\"non-zero flags not allowed in calls to recv_into() on %s\"\u001b[0m \u001b[0;34m%\u001b[0m\u001b[0;34m\u001b[0m\u001b[0;34m\u001b[0m\u001b[0m\n\u001b[1;32m   1313\u001b[0m                   self.__class__)\n\u001b[0;32m-> 1314\u001b[0;31m             \u001b[0;32mreturn\u001b[0m \u001b[0mself\u001b[0m\u001b[0;34m.\u001b[0m\u001b[0mread\u001b[0m\u001b[0;34m(\u001b[0m\u001b[0mnbytes\u001b[0m\u001b[0;34m,\u001b[0m \u001b[0mbuffer\u001b[0m\u001b[0;34m)\u001b[0m\u001b[0;34m\u001b[0m\u001b[0;34m\u001b[0m\u001b[0m\n\u001b[0m\u001b[1;32m   1315\u001b[0m         \u001b[0;32melse\u001b[0m\u001b[0;34m:\u001b[0m\u001b[0;34m\u001b[0m\u001b[0;34m\u001b[0m\u001b[0m\n\u001b[1;32m   1316\u001b[0m             \u001b[0;32mreturn\u001b[0m \u001b[0msuper\u001b[0m\u001b[0;34m(\u001b[0m\u001b[0;34m)\u001b[0m\u001b[0;34m.\u001b[0m\u001b[0mrecv_into\u001b[0m\u001b[0;34m(\u001b[0m\u001b[0mbuffer\u001b[0m\u001b[0;34m,\u001b[0m \u001b[0mnbytes\u001b[0m\u001b[0;34m,\u001b[0m \u001b[0mflags\u001b[0m\u001b[0;34m)\u001b[0m\u001b[0;34m\u001b[0m\u001b[0;34m\u001b[0m\u001b[0m\n",
            "\u001b[0;32m/usr/lib/python3.11/ssl.py\u001b[0m in \u001b[0;36mread\u001b[0;34m(self, len, buffer)\u001b[0m\n\u001b[1;32m   1164\u001b[0m         \u001b[0;32mtry\u001b[0m\u001b[0;34m:\u001b[0m\u001b[0;34m\u001b[0m\u001b[0;34m\u001b[0m\u001b[0m\n\u001b[1;32m   1165\u001b[0m             \u001b[0;32mif\u001b[0m \u001b[0mbuffer\u001b[0m \u001b[0;32mis\u001b[0m \u001b[0;32mnot\u001b[0m \u001b[0;32mNone\u001b[0m\u001b[0;34m:\u001b[0m\u001b[0;34m\u001b[0m\u001b[0;34m\u001b[0m\u001b[0m\n\u001b[0;32m-> 1166\u001b[0;31m                 \u001b[0;32mreturn\u001b[0m \u001b[0mself\u001b[0m\u001b[0;34m.\u001b[0m\u001b[0m_sslobj\u001b[0m\u001b[0;34m.\u001b[0m\u001b[0mread\u001b[0m\u001b[0;34m(\u001b[0m\u001b[0mlen\u001b[0m\u001b[0;34m,\u001b[0m \u001b[0mbuffer\u001b[0m\u001b[0;34m)\u001b[0m\u001b[0;34m\u001b[0m\u001b[0;34m\u001b[0m\u001b[0m\n\u001b[0m\u001b[1;32m   1167\u001b[0m             \u001b[0;32melse\u001b[0m\u001b[0;34m:\u001b[0m\u001b[0;34m\u001b[0m\u001b[0;34m\u001b[0m\u001b[0m\n\u001b[1;32m   1168\u001b[0m                 \u001b[0;32mreturn\u001b[0m \u001b[0mself\u001b[0m\u001b[0;34m.\u001b[0m\u001b[0m_sslobj\u001b[0m\u001b[0;34m.\u001b[0m\u001b[0mread\u001b[0m\u001b[0;34m(\u001b[0m\u001b[0mlen\u001b[0m\u001b[0;34m)\u001b[0m\u001b[0;34m\u001b[0m\u001b[0;34m\u001b[0m\u001b[0m\n",
            "\u001b[0;31mKeyboardInterrupt\u001b[0m: "
          ]
        }
      ]
    },
    {
      "cell_type": "code",
      "source": [
        "import os\n",
        "import json\n",
        "import pandas as pd\n",
        "import requests\n",
        "from Bio.Blast import NCBIWWW, NCBIXML\n",
        "import concurrent.futures\n",
        "\n",
        "def fetch_uniprot_sequence(accession_id):\n",
        "    \"\"\"\n",
        "    Fetch a sequence from UniProt using the accession ID.\n",
        "    \"\"\"\n",
        "    url = f\"https://rest.uniprot.org/uniprotkb/{accession_id}.fasta\"\n",
        "    try:\n",
        "        response = requests.get(url)\n",
        "        if response.status_code == 200:\n",
        "            print(f\"Sequence fetched successfully for {accession_id}\")\n",
        "            return response.text\n",
        "        else:\n",
        "            print(f\"UniProt query failed for {accession_id} with status code: {response.status_code}\")\n",
        "            return None\n",
        "    except Exception as e:\n",
        "        print(f\"Error querying UniProt for {accession_id}: {e}\")\n",
        "        return None\n",
        "\n",
        "def fetch_and_blast_sequence(accession_id, taxonomy, blast_db=\"pdb\",\n",
        "                             blast_type=\"blastp\", expect=1, matrix_name=\"BLOSUM62\",\n",
        "                             alignments=500, hitlist_size=500, filter=\"F\", gapcosts=\"11 1\"):\n",
        "    \"\"\"\n",
        "    Fetch a sequence from UniProt, run BLAST, and return results as a dictionary.\n",
        "    \"\"\"\n",
        "    print(f\"Starting BLAST for Accession ID: {accession_id}\")\n",
        "    sequence_data = fetch_uniprot_sequence(accession_id)\n",
        "    if not sequence_data:\n",
        "        print(f\"No sequence data found for Accession ID: {accession_id}\")\n",
        "        return None\n",
        "\n",
        "    entrez_query = f\"txid{taxonomy}[ORGN]\"\n",
        "    result_handle = NCBIWWW.qblast(blast_type, blast_db, sequence_data,\n",
        "                                   expect=expect, matrix_name=matrix_name,\n",
        "                                   alignments=alignments, hitlist_size=hitlist_size,\n",
        "                                   filter=filter, gapcosts=gapcosts,\n",
        "                                   entrez_query=entrez_query)\n",
        "\n",
        "    blast_record = NCBIXML.read(result_handle)\n",
        "    blast_results = []\n",
        "    if blast_record.alignments:\n",
        "        print(f\"BLAST results found for {accession_id}\")\n",
        "    else:\n",
        "        print(f\"No BLAST results found for Accession ID: {accession_id}\")\n",
        "\n",
        "    for alignment in blast_record.alignments:\n",
        "        for hsp in alignment.hsps:\n",
        "            result_detail = {\n",
        "                \"hit_id\": alignment.hit_id,\n",
        "                \"hit_def\": alignment.hit_def,\n",
        "                \"e_value\": hsp.expect,\n",
        "                \"score\": hsp.score,\n",
        "                \"query_align\": hsp.query[:100],  # First 100 characters for example\n",
        "                \"subject_align\": hsp.sbjct[:100]\n",
        "            }\n",
        "            blast_results.append(result_detail)\n",
        "\n",
        "    return blast_results\n",
        "\n",
        "# Specify the folder path where JSON files will be saved\n",
        "folder_path = 'path_to_your_folder'  # Update this to your actual folder path\n",
        "\n",
        "# Ensure the directory exists\n",
        "os.makedirs(folder_path, exist_ok=True)\n",
        "print(\"Directory checked/created for storing JSON files.\")\n",
        "\n",
        "# Assuming 'df' is your DataFrame with 'PubChem ID' and 'Accession IDs' columns\n",
        "pubchem_IDs = df['PubChem ID'].tolist()  # list of all PubChem IDs\n",
        "ids = df['Accession IDs']  # list of lists of Accession IDs\n",
        "\n",
        "executor = concurrent.futures.ThreadPoolExecutor()\n",
        "\n",
        "for index, pubchem_id in enumerate(pubchem_IDs):\n",
        "    json_filename = os.path.join(folder_path, f\"{pubchem_id}.json\")\n",
        "    # Check if the file already exists\n",
        "    if not os.path.exists(json_filename):\n",
        "        print(f\"Creating JSON file for PubChem ID: {pubchem_id}\")\n",
        "        toxon_results = {}\n",
        "        for accession_id in ids[index]:\n",
        "            try:\n",
        "                # Set timeout for the BLAST task\n",
        "                result = executor.submit(fetch_and_blast_sequence, accession_id, 5833).result(timeout=600)  # 600 seconds = 10 minutes\n",
        "                if result:\n",
        "                    toxon_results[accession_id] = result\n",
        "                else:\n",
        "                    print(f\"No results returned for Accession ID: {accession_id}\")\n",
        "            except concurrent.futures.TimeoutError:\n",
        "                print(f\"Operation timed out for {accession_id}. Skipping...\")\n",
        "\n",
        "        # Write the results to a JSON file\n",
        "        with open(json_filename, \"w\") as f:\n",
        "            json.dump(toxon_results, f, indent=4)\n",
        "            print(f\"BLAST results saved to '{json_filename}'.\")\n",
        "    else:\n",
        "        print(f\"File '{json_filename}' already exists. Skipping...\")\n",
        "\n",
        "print(\"All processing complete.\")\n"
      ],
      "metadata": {
        "id": "o5rgOz0xi6J2",
        "outputId": "72c3f7d1-67da-4e10-a06f-2f320fbc8bcb",
        "colab": {
          "base_uri": "https://localhost:8080/"
        }
      },
      "execution_count": null,
      "outputs": [
        {
          "metadata": {
            "tags": null
          },
          "name": "stdout",
          "output_type": "stream",
          "text": [
            "Directory checked/created for storing JSON files.\n",
            "Creating JSON file for PubChem ID: 5330175\n",
            "Starting BLAST for Accession ID: A0A0K2VLS4\n",
            "Sequence fetched successfully for A0A0K2VLS4\n",
            "BLAST results found for A0A0K2VLS4\n",
            "Starting BLAST for Accession ID: S4R3J7\n",
            "Sequence fetched successfully for S4R3J7\n",
            "No BLAST results found for Accession ID: S4R3J7\n",
            "No results returned for Accession ID: S4R3J7\n",
            "Starting BLAST for Accession ID: P07954\n",
            "Sequence fetched successfully for P07954\n",
            "No BLAST results found for Accession ID: P07954\n",
            "No results returned for Accession ID: P07954\n",
            "Starting BLAST for Accession ID: P0C023\n",
            "Sequence fetched successfully for P0C023\n",
            "No BLAST results found for Accession ID: P0C023\n",
            "No results returned for Accession ID: P0C023\n",
            "Starting BLAST for Accession ID: O96028\n",
            "Sequence fetched successfully for O96028\n",
            "No BLAST results found for Accession ID: O96028\n",
            "No results returned for Accession ID: O96028\n",
            "Starting BLAST for Accession ID: Q3UQZ6\n",
            "Sequence fetched successfully for Q3UQZ6\n",
            "No BLAST results found for Accession ID: Q3UQZ6\n",
            "No results returned for Accession ID: Q3UQZ6\n",
            "Starting BLAST for Accession ID: K7EJ20\n",
            "Sequence fetched successfully for K7EJ20\n",
            "No BLAST results found for Accession ID: K7EJ20\n",
            "No results returned for Accession ID: K7EJ20\n",
            "Starting BLAST for Accession ID: A0A173GP47\n",
            "Sequence fetched successfully for A0A173GP47\n",
            "No BLAST results found for Accession ID: A0A173GP47\n",
            "No results returned for Accession ID: A0A173GP47\n",
            "Starting BLAST for Accession ID: A0A286SD53\n",
            "Sequence fetched successfully for A0A286SD53\n",
            "No BLAST results found for Accession ID: A0A286SD53\n",
            "No results returned for Accession ID: A0A286SD53\n",
            "Starting BLAST for Accession ID: Q95M86\n",
            "Sequence fetched successfully for Q95M86\n",
            "No BLAST results found for Accession ID: Q95M86\n",
            "No results returned for Accession ID: Q95M86\n",
            "Starting BLAST for Accession ID: A0A0K2VLS4\n",
            "Sequence fetched successfully for A0A0K2VLS4\n",
            "BLAST results found for A0A0K2VLS4\n",
            "Starting BLAST for Accession ID: O55239\n",
            "Sequence fetched successfully for O55239\n",
            "No BLAST results found for Accession ID: O55239\n",
            "No results returned for Accession ID: O55239\n",
            "Starting BLAST for Accession ID: Q9P1Y0\n",
            "Sequence fetched successfully for Q9P1Y0\n",
            "No BLAST results found for Accession ID: Q9P1Y0\n",
            "No results returned for Accession ID: Q9P1Y0\n",
            "Starting BLAST for Accession ID: A0A0K2VLS4\n",
            "Sequence fetched successfully for A0A0K2VLS4\n",
            "BLAST results found for A0A0K2VLS4\n",
            "Starting BLAST for Accession ID: A0A0K2VLS4\n",
            "Sequence fetched successfully for A0A0K2VLS4\n",
            "Operation timed out for A0A0K2VLS4. Skipping...\n",
            "Starting BLAST for Accession ID: H3BU54\n",
            "Sequence fetched successfully for H3BU54\n"
          ]
        },
        {
          "metadata": {
            "tags": null
          },
          "name": "stderr",
          "output_type": "stream",
          "text": [
            "/usr/local/lib/python3.11/dist-packages/Bio/Blast/NCBIWWW.py:275: BiopythonWarning: BLAST request VWAJZVRU013 is taking longer than 10 minutes, consider re-issuing it\n",
            "  warnings.warn(\n"
          ]
        },
        {
          "metadata": {
            "tags": null
          },
          "name": "stdout",
          "output_type": "stream",
          "text": [
            "Operation timed out for H3BU54. Skipping...\n",
            "Starting BLAST for Accession ID: A0A0H4TJD6\n",
            "Sequence fetched successfully for A0A0H4TJD6\n"
          ]
        },
        {
          "metadata": {
            "tags": null
          },
          "name": "stderr",
          "output_type": "stream",
          "text": [
            "/usr/local/lib/python3.11/dist-packages/Bio/Blast/NCBIWWW.py:275: BiopythonWarning: BLAST request VWB5RYKN013 is taking longer than 10 minutes, consider re-issuing it\n",
            "  warnings.warn(\n"
          ]
        },
        {
          "metadata": {
            "tags": null
          },
          "name": "stdout",
          "output_type": "stream",
          "text": [
            "No BLAST results found for Accession ID: A0A0H4TJD6\n",
            "No results returned for Accession ID: A0A0H4TJD6\n",
            "Starting BLAST for Accession ID: Q63694\n",
            "No BLAST results found for Accession ID: H3BU54\n",
            "Sequence fetched successfully for Q63694\n",
            "BLAST results found for A0A0K2VLS4\n",
            "Operation timed out for Q63694. Skipping...\n",
            "Starting BLAST for Accession ID: A0A0K2VLS4\n",
            "Sequence fetched successfully for A0A0K2VLS4\n"
          ]
        },
        {
          "metadata": {
            "tags": null
          },
          "name": "stderr",
          "output_type": "stream",
          "text": [
            "/usr/local/lib/python3.11/dist-packages/Bio/Blast/NCBIWWW.py:275: BiopythonWarning: BLAST request VWBW8VJF013 is taking longer than 10 minutes, consider re-issuing it\n",
            "  warnings.warn(\n"
          ]
        },
        {
          "metadata": {
            "tags": null
          },
          "name": "stdout",
          "output_type": "stream",
          "text": [
            "BLAST results found for A0A0K2VLS4\n",
            "Starting BLAST for Accession ID: P14647\n",
            "Sequence fetched successfully for P14647\n",
            "No BLAST results found for Accession ID: Q63694\n",
            "Operation timed out for P14647. Skipping...\n",
            "Starting BLAST for Accession ID: E7EVM8\n",
            "Sequence fetched successfully for E7EVM8\n"
          ]
        },
        {
          "metadata": {
            "tags": null
          },
          "name": "stderr",
          "output_type": "stream",
          "text": [
            "/usr/local/lib/python3.11/dist-packages/Bio/Blast/NCBIWWW.py:275: BiopythonWarning: BLAST request VWCGXCU1013 is taking longer than 10 minutes, consider re-issuing it\n",
            "  warnings.warn(\n"
          ]
        },
        {
          "metadata": {
            "tags": null
          },
          "name": "stdout",
          "output_type": "stream",
          "text": [
            "No BLAST results found for Accession ID: E7EVM8\n",
            "No results returned for Accession ID: E7EVM8\n",
            "Starting BLAST for Accession ID: D3YY46\n",
            "Sequence fetched successfully for D3YY46\n",
            "BLAST results found for D3YY46\n",
            "Starting BLAST for Accession ID: Q90738\n",
            "Sequence fetched successfully for Q90738\n",
            "No BLAST results found for Accession ID: Q90738\n",
            "No results returned for Accession ID: Q90738\n",
            "Starting BLAST for Accession ID: S5RV20\n",
            "Sequence fetched successfully for S5RV20\n",
            "No BLAST results found for Accession ID: P14647\n",
            "No BLAST results found for Accession ID: S5RV20\n",
            "No results returned for Accession ID: S5RV20\n",
            "Starting BLAST for Accession ID: P10484\n",
            "Sequence fetched successfully for P10484\n",
            "No BLAST results found for Accession ID: P10484\n",
            "No results returned for Accession ID: P10484\n",
            "Starting BLAST for Accession ID: A0A0D9RI81\n",
            "Sequence fetched successfully for A0A0D9RI81\n",
            "No BLAST results found for Accession ID: A0A0D9RI81\n",
            "No results returned for Accession ID: A0A0D9RI81\n",
            "Starting BLAST for Accession ID: P01574\n",
            "Sequence fetched successfully for P01574\n",
            "No BLAST results found for Accession ID: P01574\n",
            "No results returned for Accession ID: P01574\n",
            "Starting BLAST for Accession ID: P11086\n",
            "Sequence fetched successfully for P11086\n",
            "No BLAST results found for Accession ID: P11086\n",
            "No results returned for Accession ID: P11086\n",
            "Starting BLAST for Accession ID: P05484\n",
            "Sequence fetched successfully for P05484\n",
            "No BLAST results found for Accession ID: P05484\n",
            "No results returned for Accession ID: P05484\n",
            "Starting BLAST for Accession ID: A0A0K2VLS4\n",
            "Sequence fetched successfully for A0A0K2VLS4\n",
            "BLAST results found for A0A0K2VLS4\n",
            "Starting BLAST for Accession ID: P11352\n",
            "Sequence fetched successfully for P11352\n",
            "No BLAST results found for Accession ID: P11352\n",
            "No results returned for Accession ID: P11352\n",
            "Starting BLAST for Accession ID: L8GNA7\n",
            "Sequence fetched successfully for L8GNA7\n",
            "Operation timed out for L8GNA7. Skipping...\n",
            "Starting BLAST for Accession ID: Q9Y294\n",
            "Sequence fetched successfully for Q9Y294\n"
          ]
        },
        {
          "metadata": {
            "tags": null
          },
          "name": "stderr",
          "output_type": "stream",
          "text": [
            "/usr/local/lib/python3.11/dist-packages/Bio/Blast/NCBIWWW.py:275: BiopythonWarning: BLAST request VWF42VS7013 is taking longer than 10 minutes, consider re-issuing it\n",
            "  warnings.warn(\n"
          ]
        },
        {
          "metadata": {
            "tags": null
          },
          "name": "stdout",
          "output_type": "stream",
          "text": [
            "Operation timed out for Q9Y294. Skipping...\n",
            "Starting BLAST for Accession ID: Q6PD10\n",
            "Sequence fetched successfully for Q6PD10\n"
          ]
        },
        {
          "metadata": {
            "tags": null
          },
          "name": "stderr",
          "output_type": "stream",
          "text": [
            "/usr/local/lib/python3.11/dist-packages/Bio/Blast/NCBIWWW.py:275: BiopythonWarning: BLAST request VWFPUTEE013 is taking longer than 10 minutes, consider re-issuing it\n",
            "  warnings.warn(\n"
          ]
        },
        {
          "metadata": {
            "tags": null
          },
          "name": "stdout",
          "output_type": "stream",
          "text": [
            "No BLAST results found for Accession ID: L8GNA7\n",
            "BLAST results found for Q9Y294\n",
            "No BLAST results found for Accession ID: Q6PD10\n",
            "No results returned for Accession ID: Q6PD10\n",
            "Starting BLAST for Accession ID: Q14749\n",
            "Sequence fetched successfully for Q14749\n",
            "No BLAST results found for Accession ID: Q14749\n",
            "No results returned for Accession ID: Q14749\n",
            "Starting BLAST for Accession ID: P10635\n",
            "Sequence fetched successfully for P10635\n",
            "No BLAST results found for Accession ID: P10635\n",
            "No results returned for Accession ID: P10635\n",
            "Starting BLAST for Accession ID: H6A2B4\n",
            "Sequence fetched successfully for H6A2B4\n",
            "No BLAST results found for Accession ID: H6A2B4\n",
            "No results returned for Accession ID: H6A2B4\n",
            "Starting BLAST for Accession ID: P24462\n",
            "Sequence fetched successfully for P24462\n",
            "Operation timed out for P24462. Skipping...\n",
            "BLAST results saved to 'path_to_your_folder/5330175.json'.\n",
            "Creating JSON file for PubChem ID: 5311340\n",
            "Starting BLAST for Accession ID: P47928\n",
            "Sequence fetched successfully for P47928\n"
          ]
        },
        {
          "metadata": {
            "tags": null
          },
          "name": "stderr",
          "output_type": "stream",
          "text": [
            "/usr/local/lib/python3.11/dist-packages/Bio/Blast/NCBIWWW.py:275: BiopythonWarning: BLAST request VWHDWD43016 is taking longer than 10 minutes, consider re-issuing it\n",
            "  warnings.warn(\n"
          ]
        },
        {
          "metadata": {
            "tags": null
          },
          "name": "stdout",
          "output_type": "stream",
          "text": [
            "No BLAST results found for Accession ID: P24462\n",
            "No BLAST results found for Accession ID: P47928\n",
            "No results returned for Accession ID: P47928\n",
            "Starting BLAST for Accession ID: Q5SYQ8\n",
            "Sequence fetched successfully for Q5SYQ8\n",
            "No BLAST results found for Accession ID: Q5SYQ8\n",
            "No results returned for Accession ID: Q5SYQ8\n",
            "Starting BLAST for Accession ID: Q921E6\n",
            "Sequence fetched successfully for Q921E6\n",
            "No BLAST results found for Accession ID: Q921E6\n",
            "No results returned for Accession ID: Q921E6\n",
            "Starting BLAST for Accession ID: A0A8A5GQJ2\n",
            "Sequence fetched successfully for A0A8A5GQJ2\n",
            "Operation timed out for A0A8A5GQJ2. Skipping...\n",
            "Starting BLAST for Accession ID: O53996\n",
            "Sequence fetched successfully for O53996\n"
          ]
        },
        {
          "metadata": {
            "tags": null
          },
          "name": "stderr",
          "output_type": "stream",
          "text": [
            "/usr/local/lib/python3.11/dist-packages/Bio/Blast/NCBIWWW.py:275: BiopythonWarning: BLAST request VWJW58TU013 is taking longer than 10 minutes, consider re-issuing it\n",
            "  warnings.warn(\n"
          ]
        },
        {
          "metadata": {
            "tags": null
          },
          "name": "stdout",
          "output_type": "stream",
          "text": [
            "No BLAST results found for Accession ID: O53996\n",
            "No results returned for Accession ID: O53996\n",
            "Starting BLAST for Accession ID: P12504\n",
            "Sequence fetched successfully for P12504\n",
            "No BLAST results found for Accession ID: A0A8A5GQJ2\n",
            "No BLAST results found for Accession ID: P12504\n",
            "No results returned for Accession ID: P12504\n",
            "Starting BLAST for Accession ID: P0C023\n",
            "Sequence fetched successfully for P0C023\n",
            "No BLAST results found for Accession ID: P0C023\n",
            "No results returned for Accession ID: P0C023\n",
            "Starting BLAST for Accession ID: A2AFL5\n",
            "Sequence fetched successfully for A2AFL5\n",
            "No BLAST results found for Accession ID: A2AFL5\n",
            "No results returned for Accession ID: A2AFL5\n",
            "Starting BLAST for Accession ID: P0C023\n",
            "Sequence fetched successfully for P0C023\n",
            "No BLAST results found for Accession ID: P0C023\n",
            "No results returned for Accession ID: P0C023\n",
            "Starting BLAST for Accession ID: A0A0H4TJD6\n",
            "Sequence fetched successfully for A0A0H4TJD6\n",
            "No BLAST results found for Accession ID: A0A0H4TJD6\n",
            "No results returned for Accession ID: A0A0H4TJD6\n",
            "Starting BLAST for Accession ID: Q01831\n",
            "Sequence fetched successfully for Q01831\n",
            "No BLAST results found for Accession ID: Q01831\n",
            "No results returned for Accession ID: Q01831\n",
            "Starting BLAST for Accession ID: P0C023\n",
            "Sequence fetched successfully for P0C023\n",
            "Operation timed out for P0C023. Skipping...\n",
            "Starting BLAST for Accession ID: E7EVM8\n",
            "Sequence fetched successfully for E7EVM8\n"
          ]
        },
        {
          "metadata": {
            "tags": null
          },
          "name": "stderr",
          "output_type": "stream",
          "text": [
            "/usr/local/lib/python3.11/dist-packages/Bio/Blast/NCBIWWW.py:275: BiopythonWarning: BLAST request VWN5AFNW013 is taking longer than 10 minutes, consider re-issuing it\n",
            "  warnings.warn(\n"
          ]
        },
        {
          "metadata": {
            "tags": null
          },
          "name": "stdout",
          "output_type": "stream",
          "text": [
            "No BLAST results found for Accession ID: P0C023\n",
            "Operation timed out for E7EVM8. Skipping...\n",
            "Starting BLAST for Accession ID: None\n",
            "UniProt query failed for None with status code: 400\n",
            "No sequence data found for Accession ID: None\n",
            "No results returned for Accession ID: None\n",
            "Starting BLAST for Accession ID: A1KZZ7\n",
            "Sequence fetched successfully for A1KZZ7\n"
          ]
        },
        {
          "metadata": {
            "tags": null
          },
          "name": "stderr",
          "output_type": "stream",
          "text": [
            "/usr/local/lib/python3.11/dist-packages/Bio/Blast/NCBIWWW.py:275: BiopythonWarning: BLAST request VWNS2E90016 is taking longer than 10 minutes, consider re-issuing it\n",
            "  warnings.warn(\n"
          ]
        },
        {
          "metadata": {
            "tags": null
          },
          "name": "stdout",
          "output_type": "stream",
          "text": [
            "No BLAST results found for Accession ID: E7EVM8\n",
            "No BLAST results found for Accession ID: A1KZZ7\n",
            "No results returned for Accession ID: A1KZZ7\n",
            "Starting BLAST for Accession ID: S5RV20\n",
            "Sequence fetched successfully for S5RV20\n",
            "No BLAST results found for Accession ID: S5RV20\n",
            "No results returned for Accession ID: S5RV20\n",
            "Starting BLAST for Accession ID: P04062\n",
            "Sequence fetched successfully for P04062\n",
            "No BLAST results found for Accession ID: P04062\n",
            "No results returned for Accession ID: P04062\n",
            "Starting BLAST for Accession ID: P10484\n",
            "Sequence fetched successfully for P10484\n",
            "No BLAST results found for Accession ID: P10484\n",
            "No results returned for Accession ID: P10484\n",
            "Starting BLAST for Accession ID: None\n",
            "UniProt query failed for None with status code: 400\n",
            "No sequence data found for Accession ID: None\n",
            "No results returned for Accession ID: None\n",
            "Starting BLAST for Accession ID: Q65ZP9\n",
            "Sequence fetched successfully for Q65ZP9\n",
            "Operation timed out for Q65ZP9. Skipping...\n",
            "Starting BLAST for Accession ID: P11352\n",
            "Sequence fetched successfully for P11352\n"
          ]
        },
        {
          "metadata": {
            "tags": null
          },
          "name": "stderr",
          "output_type": "stream",
          "text": [
            "/usr/local/lib/python3.11/dist-packages/Bio/Blast/NCBIWWW.py:275: BiopythonWarning: BLAST request VWRSG2TT013 is taking longer than 10 minutes, consider re-issuing it\n",
            "  warnings.warn(\n"
          ]
        },
        {
          "metadata": {
            "tags": null
          },
          "name": "stdout",
          "output_type": "stream",
          "text": [
            "No BLAST results found for Accession ID: P11352\n",
            "No results returned for Accession ID: P11352\n",
            "Starting BLAST for Accession ID: None\n",
            "UniProt query failed for None with status code: 400\n",
            "No sequence data found for Accession ID: None\n",
            "No results returned for Accession ID: None\n",
            "Starting BLAST for Accession ID: Q15648\n",
            "Sequence fetched successfully for Q15648\n",
            "No BLAST results found for Accession ID: Q15648\n",
            "No results returned for Accession ID: Q15648\n",
            "Starting BLAST for Accession ID: O96028\n",
            "Sequence fetched successfully for O96028\n",
            "No BLAST results found for Accession ID: Q65ZP9\n",
            "Operation timed out for O96028. Skipping...\n",
            "Starting BLAST for Accession ID: O00255\n",
            "Sequence fetched successfully for O00255\n"
          ]
        },
        {
          "metadata": {
            "tags": null
          },
          "name": "stderr",
          "output_type": "stream",
          "text": [
            "/usr/local/lib/python3.11/dist-packages/Bio/Blast/NCBIWWW.py:275: BiopythonWarning: BLAST request VWSHH5KS016 is taking longer than 10 minutes, consider re-issuing it\n",
            "  warnings.warn(\n"
          ]
        },
        {
          "metadata": {
            "tags": null
          },
          "name": "stdout",
          "output_type": "stream",
          "text": [
            "No BLAST results found for Accession ID: O96028\n",
            "No BLAST results found for Accession ID: O00255\n",
            "No results returned for Accession ID: O00255\n",
            "Starting BLAST for Accession ID: Q6UWZ7\n",
            "Sequence fetched successfully for Q6UWZ7\n",
            "No BLAST results found for Accession ID: Q6UWZ7\n",
            "No results returned for Accession ID: Q6UWZ7\n",
            "Starting BLAST for Accession ID: G3V554\n",
            "Sequence fetched successfully for G3V554\n",
            "No BLAST results found for Accession ID: G3V554\n",
            "No results returned for Accession ID: G3V554\n",
            "Starting BLAST for Accession ID: S4R3J7\n",
            "Sequence fetched successfully for S4R3J7\n",
            "No BLAST results found for Accession ID: S4R3J7\n",
            "No results returned for Accession ID: S4R3J7\n",
            "Starting BLAST for Accession ID: Q8QG78\n",
            "Sequence fetched successfully for Q8QG78\n",
            "No BLAST results found for Accession ID: Q8QG78\n",
            "No results returned for Accession ID: Q8QG78\n",
            "Starting BLAST for Accession ID: P0C023\n",
            "Sequence fetched successfully for P0C023\n",
            "No BLAST results found for Accession ID: P0C023\n",
            "No results returned for Accession ID: P0C023\n",
            "Starting BLAST for Accession ID: P62805\n",
            "Sequence fetched successfully for P62805\n",
            "No BLAST results found for Accession ID: P62805\n",
            "No results returned for Accession ID: P62805\n",
            "Starting BLAST for Accession ID: P15428\n",
            "Sequence fetched successfully for P15428\n",
            "BLAST results found for P15428\n",
            "Starting BLAST for Accession ID: P01579\n",
            "Sequence fetched successfully for P01579\n",
            "No BLAST results found for Accession ID: P01579\n",
            "No results returned for Accession ID: P01579\n",
            "Starting BLAST for Accession ID: P62805\n",
            "Sequence fetched successfully for P62805\n",
            "No BLAST results found for Accession ID: P62805\n",
            "No results returned for Accession ID: P62805\n",
            "Starting BLAST for Accession ID: Q32GM1\n",
            "Sequence fetched successfully for Q32GM1\n",
            "Operation timed out for Q32GM1. Skipping...\n",
            "Starting BLAST for Accession ID: V9GX90\n",
            "Sequence fetched successfully for V9GX90\n"
          ]
        },
        {
          "metadata": {
            "tags": null
          },
          "name": "stderr",
          "output_type": "stream",
          "text": [
            "/usr/local/lib/python3.11/dist-packages/Bio/Blast/NCBIWWW.py:275: BiopythonWarning: BLAST request VWV5ZFW1016 is taking longer than 10 minutes, consider re-issuing it\n",
            "  warnings.warn(\n"
          ]
        },
        {
          "metadata": {
            "tags": null
          },
          "name": "stdout",
          "output_type": "stream",
          "text": [
            "No BLAST results found for Accession ID: V9GX90\n",
            "No results returned for Accession ID: V9GX90\n",
            "Starting BLAST for Accession ID: P0C023\n",
            "Sequence fetched successfully for P0C023\n",
            "Operation timed out for P0C023. Skipping...\n",
            "Starting BLAST for Accession ID: Q00987\n",
            "Sequence fetched successfully for Q00987\n"
          ]
        },
        {
          "metadata": {
            "tags": null
          },
          "name": "stderr",
          "output_type": "stream",
          "text": [
            "/usr/local/lib/python3.11/dist-packages/Bio/Blast/NCBIWWW.py:275: BiopythonWarning: BLAST request VWW5XAYP016 is taking longer than 10 minutes, consider re-issuing it\n",
            "  warnings.warn(\n"
          ]
        },
        {
          "metadata": {
            "tags": null
          },
          "name": "stdout",
          "output_type": "stream",
          "text": [
            "No BLAST results found for Accession ID: Q32GM1\n",
            "No BLAST results found for Accession ID: P0C023\n",
            "No BLAST results found for Accession ID: Q00987\n",
            "No results returned for Accession ID: Q00987\n",
            "Starting BLAST for Accession ID: Q32GM1\n",
            "Sequence fetched successfully for Q32GM1\n",
            "No BLAST results found for Accession ID: Q32GM1\n",
            "No results returned for Accession ID: Q32GM1\n",
            "Starting BLAST for Accession ID: H3BU54\n",
            "Sequence fetched successfully for H3BU54\n",
            "No BLAST results found for Accession ID: H3BU54\n",
            "No results returned for Accession ID: H3BU54\n",
            "Starting BLAST for Accession ID: B7ZC18\n",
            "Sequence fetched successfully for B7ZC18\n",
            "No BLAST results found for Accession ID: B7ZC18\n",
            "No results returned for Accession ID: B7ZC18\n",
            "Starting BLAST for Accession ID: D6RA31\n",
            "Sequence fetched successfully for D6RA31\n",
            "No BLAST results found for Accession ID: D6RA31\n",
            "No results returned for Accession ID: D6RA31\n",
            "Starting BLAST for Accession ID: Q99638\n",
            "Sequence fetched successfully for Q99638\n",
            "Operation timed out for Q99638. Skipping...\n",
            "Starting BLAST for Accession ID: A1L471\n",
            "Sequence fetched successfully for A1L471\n"
          ]
        },
        {
          "metadata": {
            "tags": null
          },
          "name": "stderr",
          "output_type": "stream",
          "text": [
            "/usr/local/lib/python3.11/dist-packages/Bio/Blast/NCBIWWW.py:275: BiopythonWarning: BLAST request VWXKHEEC016 is taking longer than 10 minutes, consider re-issuing it\n",
            "  warnings.warn(\n"
          ]
        },
        {
          "metadata": {
            "tags": null
          },
          "name": "stdout",
          "output_type": "stream",
          "text": [
            "Operation timed out for A1L471. Skipping...\n",
            "Starting BLAST for Accession ID: P0C023\n",
            "Sequence fetched successfully for P0C023\n"
          ]
        },
        {
          "metadata": {
            "tags": null
          },
          "name": "stderr",
          "output_type": "stream",
          "text": [
            "/usr/local/lib/python3.11/dist-packages/Bio/Blast/NCBIWWW.py:275: BiopythonWarning: BLAST request VWY690V2016 is taking longer than 10 minutes, consider re-issuing it\n",
            "  warnings.warn(\n"
          ]
        },
        {
          "output_type": "stream",
          "name": "stdout",
          "text": [
            "BLAST results found for A1L471\n",
            "No BLAST results found for Accession ID: P0C023\n",
            "No results returned for Accession ID: P0C023\n",
            "Starting BLAST for Accession ID: E9PLT3\n",
            "Sequence fetched successfully for E9PLT3\n",
            "No BLAST results found for Accession ID: Q99638\n",
            "BLAST results found for E9PLT3\n",
            "Starting BLAST for Accession ID: Q9UNA4\n",
            "Sequence fetched successfully for Q9UNA4\n",
            "No BLAST results found for Accession ID: Q9UNA4\n",
            "No results returned for Accession ID: Q9UNA4\n",
            "Starting BLAST for Accession ID: Q9Y294\n",
            "Sequence fetched successfully for Q9Y294\n",
            "BLAST results found for Q9Y294\n",
            "Starting BLAST for Accession ID: K7ENN9\n",
            "Sequence fetched successfully for K7ENN9\n",
            "No BLAST results found for Accession ID: K7ENN9\n",
            "No results returned for Accession ID: K7ENN9\n",
            "Starting BLAST for Accession ID: Q8BLP9\n",
            "Sequence fetched successfully for Q8BLP9\n",
            "No BLAST results found for Accession ID: Q8BLP9\n",
            "No results returned for Accession ID: Q8BLP9\n",
            "Starting BLAST for Accession ID: A0A583ZBF4\n",
            "Sequence fetched successfully for A0A583ZBF4\n",
            "No BLAST results found for Accession ID: A0A583ZBF4\n",
            "No results returned for Accession ID: A0A583ZBF4\n",
            "Starting BLAST for Accession ID: Q9UBT6\n",
            "Sequence fetched successfully for Q9UBT6\n",
            "No BLAST results found for Accession ID: Q9UBT6\n",
            "No results returned for Accession ID: Q9UBT6\n",
            "Starting BLAST for Accession ID: I3L1D5\n",
            "Sequence fetched successfully for I3L1D5\n",
            "No BLAST results found for Accession ID: I3L1D5\n",
            "No results returned for Accession ID: I3L1D5\n",
            "Starting BLAST for Accession ID: Q3UEE0\n",
            "Sequence fetched successfully for Q3UEE0\n",
            "No BLAST results found for Accession ID: Q3UEE0\n",
            "No results returned for Accession ID: Q3UEE0\n",
            "Starting BLAST for Accession ID: E5RIP7\n",
            "Sequence fetched successfully for E5RIP7\n",
            "No BLAST results found for Accession ID: E5RIP7\n",
            "No results returned for Accession ID: E5RIP7\n",
            "Starting BLAST for Accession ID: Q99J21\n",
            "Sequence fetched successfully for Q99J21\n",
            "No BLAST results found for Accession ID: Q99J21\n",
            "No results returned for Accession ID: Q99J21\n",
            "Starting BLAST for Accession ID: O70305\n",
            "Sequence fetched successfully for O70305\n",
            "No BLAST results found for Accession ID: O70305\n",
            "No results returned for Accession ID: O70305\n",
            "Starting BLAST for Accession ID: A0A0A0MQF6\n",
            "Sequence fetched successfully for A0A0A0MQF6\n",
            "BLAST results found for A0A0A0MQF6\n",
            "Starting BLAST for Accession ID: A0A3B2W489\n",
            "Sequence fetched successfully for A0A3B2W489\n",
            "No BLAST results found for Accession ID: A0A3B2W489\n",
            "No results returned for Accession ID: A0A3B2W489\n",
            "Starting BLAST for Accession ID: Q0QER9\n",
            "Sequence fetched successfully for Q0QER9\n",
            "No BLAST results found for Accession ID: Q0QER9\n",
            "No results returned for Accession ID: Q0QER9\n",
            "Starting BLAST for Accession ID: Q9IK91\n",
            "Sequence fetched successfully for Q9IK91\n",
            "No BLAST results found for Accession ID: Q9IK91\n",
            "No results returned for Accession ID: Q9IK91\n",
            "Starting BLAST for Accession ID: O23310\n",
            "Sequence fetched successfully for O23310\n",
            "No BLAST results found for Accession ID: O23310\n",
            "No results returned for Accession ID: O23310\n",
            "Starting BLAST for Accession ID: O76031\n",
            "Sequence fetched successfully for O76031\n",
            "No BLAST results found for Accession ID: O76031\n",
            "No results returned for Accession ID: O76031\n",
            "Starting BLAST for Accession ID: P01574\n",
            "Sequence fetched successfully for P01574\n",
            "No BLAST results found for Accession ID: P01574\n",
            "No results returned for Accession ID: P01574\n",
            "Starting BLAST for Accession ID: P05484\n",
            "Sequence fetched successfully for P05484\n",
            "No BLAST results found for Accession ID: P05484\n",
            "No results returned for Accession ID: P05484\n",
            "Starting BLAST for Accession ID: P59768\n",
            "No BLAST results found for Accession ID: P05484\n",
            "No results returned for Accession ID: P05484\n",
            "Starting BLAST for Accession ID: P59768\n",
            "Sequence fetched successfully for P59768\n",
            "Sequence fetched successfully for P59768\n"
          ]
        }
      ]
    },
    {
      "cell_type": "markdown",
      "source": [
        "# How to Filter for the Top 10 Most Similar Sequences\n",
        "\n",
        "To filter for the top 10 most similar sequences based on these results, you generally want to sort your results by either the lowest E-values or the highest scores, as both are strong indicators of similarity. Lower E-values are often more informative as they directly relate to the likelihood of the match occurring by chance."
      ],
      "metadata": {
        "id": "BSs9Bf3CZW93"
      }
    },
    {
      "cell_type": "code",
      "source": [
        "def sort_and_save_top_results(json_file_path, output_file_path=None, top_n=10):\n",
        "    \"\"\"\n",
        "    Read BLAST results from a JSON file, sort them by E-value, and save the top results.\n",
        "\n",
        "    Args:\n",
        "    json_file_path (str): Path to the JSON file containing the BLAST results.\n",
        "    output_file_path (str): Path to save the sorted results. If None, overwrite the original file.\n",
        "    top_n (int): Number of top results to save.\n",
        "    \"\"\"\n",
        "    # Read the existing JSON file\n",
        "    with open(json_file_path, 'r') as file:\n",
        "        data = json.load(file)\n",
        "\n",
        "    # Sort the results for each accession ID\n",
        "    for accession_id, results in data.items():\n",
        "        sorted_results = sorted(results, key=lambda x: x['e_value'])[:top_n]\n",
        "        data[accession_id] = sorted_results\n",
        "\n",
        "    # Determine output file path\n",
        "    if output_file_path is None:\n",
        "        output_file_path = json_file_path\n",
        "\n",
        "    # Save the sorted results to a JSON file\n",
        "    with open(output_file_path, 'w') as file:\n",
        "        json.dump(data, file, indent=4)\n",
        "\n",
        "    print(f\"Top {top_n} BLAST results saved to '{output_file_path}'.\")\n"
      ],
      "metadata": {
        "id": "RLNXzGroaGlu"
      },
      "execution_count": null,
      "outputs": []
    },
    {
      "cell_type": "code",
      "source": [
        "# Example\n",
        "json_file_path = '/content/drive/MyDrive/jsonfolder/5833.json'\n",
        "output_file_path = '/content/drive/MyDrive/jsonfolder/5833_sorted.json'\n",
        "#get results\n",
        "sort_and_save_top_results(json_file_path, output_file_path)\n"
      ],
      "metadata": {
        "colab": {
          "base_uri": "https://localhost:8080/"
        },
        "id": "R8g9s7mlajNQ",
        "outputId": "47f4101d-f91b-42fa-a6a1-02a4988e46c1"
      },
      "execution_count": null,
      "outputs": [
        {
          "output_type": "stream",
          "name": "stdout",
          "text": [
            "Top 10 BLAST results saved to '/content/drive/MyDrive/jsonfolder/5833_sorted.json'.\n"
          ]
        }
      ]
    },
    {
      "cell_type": "markdown",
      "source": [
        "#Plot the results based on score and e-value"
      ],
      "metadata": {
        "id": "dD59_3kPaiT2"
      }
    },
    {
      "cell_type": "code",
      "source": [
        "import json\n",
        "import pandas as pd\n",
        "import matplotlib.pyplot as plt\n",
        "import numpy as np\n",
        "\n",
        "def load_and_prepare_data(json_file_path):\n",
        "    \"\"\"\n",
        "    Load JSON data and prepare it for plotting.\n",
        "    Returns a DataFrame with 'hit_description', 'score', and 'e_value' columns.\n",
        "    \"\"\"\n",
        "    with open(json_file_path, 'r') as file:\n",
        "        data = json.load(file)\n",
        "\n",
        "    rows = []\n",
        "    for accession_id, results in data.items():\n",
        "        for result in results:\n",
        "            rows.append({\n",
        "                \"accession_id\": accession_id,\n",
        "                \"hit_description\": result[\"hit_def\"],\n",
        "                \"score\": result[\"score\"],\n",
        "                \"e_value\": result[\"e_value\"]\n",
        "            })\n",
        "    return pd.DataFrame(rows)\n",
        "\n",
        "def plot_scores(df):\n",
        "    \"\"\"\n",
        "    Plot the BLAST results focusing on scores.\n",
        "    \"\"\"\n",
        "    plt.figure(figsize=(14, 10))  # Larger figure size\n",
        "    scores = df['score']\n",
        "    descriptions = df.index  # Use numerical index for clarity\n",
        "\n",
        "    plt.barh(descriptions, scores, color='dodgerblue')\n",
        "    plt.xlabel('Score')\n",
        "    plt.title('BLAST Hit Scores')\n",
        "    plt.yticks(descriptions, df['hit_description'].apply(lambda x: x.split(' [')[0]))  # Apply labels here\n",
        "    plt.grid(True)\n",
        "    plt.tight_layout()\n",
        "\n",
        "    plt.show()\n",
        "\n",
        "def plot_e_values(df):\n",
        "    \"\"\"\n",
        "    Plot the BLAST results focusing on E-values.\n",
        "    \"\"\"\n",
        "    plt.figure(figsize=(14, 10))  # Larger figure size\n",
        "    e_values = -np.log10(df['e_value'])\n",
        "    descriptions = df.index  # Use numerical index for clarity\n",
        "\n",
        "    plt.barh(descriptions, e_values, color='tomato')\n",
        "    plt.xlabel('-Log10(E-value)')\n",
        "    plt.title('BLAST Hit E-values')\n",
        "    plt.yticks(descriptions, df['hit_description'].apply(lambda x: x.split(' [')[0]))  # Apply labels here\n",
        "    plt.grid(True)\n",
        "    plt.tight_layout()\n",
        "\n",
        "    plt.show()\n",
        "\n"
      ],
      "metadata": {
        "id": "v0-h7SmTbvgr"
      },
      "execution_count": null,
      "outputs": []
    },
    {
      "cell_type": "code",
      "source": [
        "# Example usage\n",
        "json_file_path = '/content/drive/MyDrive/jsonfolder/5833_sorted.json'\n",
        "df = load_and_prepare_data(json_file_path)\n",
        "plot_scores(df)\n",
        "plot_e_values(df)\n"
      ],
      "metadata": {
        "colab": {
          "base_uri": "https://localhost:8080/",
          "height": 912
        },
        "id": "iwSRKLPmbv_s",
        "outputId": "e7f36a45-4931-471a-e623-4041f25c9324"
      },
      "execution_count": null,
      "outputs": [
        {
          "output_type": "display_data",
          "data": {
            "text/plain": [
              "<Figure size 1400x1000 with 1 Axes>"
            ],
            "image/png": "[encoded data removed]"
          },
          "metadata": {}
        },
        {
          "output_type": "display_data",
          "data": {
            "text/plain": [
              "<Figure size 1400x1000 with 1 Axes>"
            ],
            "image/png": "[encoded data removed]"
          },
          "metadata": {}
        }
      ]
    },
    {
      "cell_type": "markdown",
      "source": [
        "## Next Steps for Refining BLAST Search Parameters\n",
        "\n",
        "As we progress with our analysis and based on initial results, consider the following modifications to the BLAST search parameters to optimize performance and relevance of the results:\n",
        "\n",
        "1. **E-value Threshold**:\n",
        "   - **Consider lowering the `expect` value** to 0.01 or even 0.001 to focus on more statistically significant hits, reducing the noise from less significant matches.\n",
        "\n",
        "2. **Enable Filtering**:\n",
        "   - **Enable the low-complexity filter** (`filter=\"T\"`) to help avoid non-specific matches in low-complexity regions or repetitive sequences.\n",
        "\n",
        "3. **Substitution Matrix**:\n",
        "   - **Evaluate the use of different matrices** such as PAM30 or BLOSUM80, depending on the evolutionary distances expected among the proteins being studied.\n",
        "\n",
        "4. **Limiting Results**:\n",
        "   - **Reduce `alignments` and `hitlist_size`** to 20 or even 10 to concentrate on the most relevant hits, minimizing clutter from redundant or less relevant data.\n",
        "\n",
        "5. **Database Selection**:\n",
        "   - **Consider switching to a curated database** like SwissProt for queries where quality and annotation reliability are paramount, as it has less redundancy than the nr database.\n",
        "\n",
        "6. **Taxonomic Filtering**:\n",
        "   - **Use the `entrez_query` parameter** to narrow down searches to specific taxonomic groups if the study is focused on particular organisms or taxa.\n",
        "\n",
        "These suggestions are intended to be tested iteratively. Adjustments should be made based on the specific requirements of your research and the results obtained from preliminary searches.\n"
      ],
      "metadata": {
        "id": "a_zGwuwtfI_B"
      }
    }
  ]
}